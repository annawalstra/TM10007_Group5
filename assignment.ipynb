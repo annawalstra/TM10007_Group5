{
  "nbformat": 4,
  "nbformat_minor": 0,
  "metadata": {
    "colab": {
      "name": "assignment.ipynb",
      "provenance": [],
      "collapsed_sections": []
    },
    "kernelspec": {
      "display_name": "Python 3",
      "language": "python",
      "name": "python3"
    },
    "language_info": {
      "codemirror_mode": {
        "name": "ipython",
        "version": 3
      },
      "file_extension": ".py",
      "mimetype": "text/x-python",
      "name": "python",
      "nbconvert_exporter": "python",
      "pygments_lexer": "ipython3",
      "version": "3.7.4"
    }
  },
  "cells": [
    {
      "cell_type": "markdown",
      "metadata": {
        "colab_type": "text",
        "id": "7SXpaKwwGe5x"
      },
      "source": [
        "# TM10007 Assignment Group 5"
      ]
    },
    {
      "cell_type": "markdown",
      "metadata": {
        "id": "0nMZZV417dWs",
        "colab_type": "text"
      },
      "source": [
        ""
      ]
    },
    {
      "cell_type": "code",
      "metadata": {
        "colab_type": "code",
        "id": "CiDn2Sk-VWqE",
        "outputId": "2448e11b-91c7-4253-87a8-ee33302d1aa7",
        "colab": {
          "base_uri": "https://localhost:8080/",
          "height": 119
        }
      },
      "source": [
        "# Run this to use from colab environment\n",
        "!pip install -q --upgrade git+https://github.com/annawalstra/tm10007_Group5.git\n",
        "!pip install simpleITK"
      ],
      "execution_count": 1,
      "outputs": [
        {
          "output_type": "stream",
          "text": [
            "  Building wheel for brats (setup.py) ... \u001b[?25l\u001b[?25hdone\n",
            "Collecting simpleITK\n",
            "\u001b[?25l  Downloading https://files.pythonhosted.org/packages/f8/d8/53338c34f71020725ffb3557846c80af96c29c03bc883551a2565aa68a7c/SimpleITK-1.2.4-cp36-cp36m-manylinux1_x86_64.whl (42.5MB)\n",
            "\u001b[K     |████████████████████████████████| 42.5MB 97kB/s \n",
            "\u001b[?25hInstalling collected packages: simpleITK\n",
            "Successfully installed simpleITK-1.2.4\n"
          ],
          "name": "stdout"
        }
      ]
    },
    {
      "cell_type": "markdown",
      "metadata": {
        "id": "WK9m4YpjyWu6",
        "colab_type": "text"
      },
      "source": [
        "## Data loading and cleaning\n",
        "\n",
        "Below are functions to load the dataset of your choice. After that, it is all up to you to create and evaluate a classification method. Beware, there may be missing values in these datasets. Good luck!"
      ]
    },
    {
      "cell_type": "code",
      "metadata": {
        "colab_type": "code",
        "id": "-NE_fTbKGe5z",
        "outputId": "b7b3b4f5-74a5-4c2e-a6ce-672414280933",
        "colab": {
          "base_uri": "https://localhost:8080/",
          "height": 825
        }
      },
      "source": [
        "# General packages\n",
        "import numpy as np \n",
        "import pandas as pd\n",
        "import matplotlib.pyplot as plt\n",
        "from sklearn import datasets as ds\n",
        "import seaborn\n",
        "\n",
        "\n",
        "# Classifiers\n",
        "from sklearn import model_selection\n",
        "from sklearn import metrics\n",
        "from sklearn import feature_selection \n",
        "from sklearn import preprocessing\n",
        "from sklearn import neighbors\n",
        "from sklearn import svm\n",
        "from sklearn import decomposition\n",
        "from sklearn.model_selection import RandomizedSearchCV\n",
        "from scipy.stats import reciprocal, uniform\n",
        "\n",
        "# Classifiers and kernels\n",
        "from sklearn.neighbors import KNeighborsClassifier\n",
        "from sklearn.ensemble import RandomForestClassifier\n",
        "from sklearn.svm import SVC\n",
        "from sklearn.decomposition import PCA, KernelPCA\n",
        "from sklearn.kernel_approximation import RBFSampler\n",
        "from sklearn.metrics.pairwise import rbf_kernel, sigmoid_kernel\n",
        "\n",
        "# Too learn more about metrics see: https://scikit-learn.org/stable/modules/model_evaluation.html#scoring-parameter\n",
        "\n",
        "# Data loading functions. Uncomment the one you want to use\n",
        "from adni.load_data import load_data\n",
        "data = load_data()\n",
        "print(f'The number of spamples: {len(data.index)}')\n",
        "print(f'The number of columns: {len(data.columns)}')\n",
        "\n",
        "# Creating X and Y \n",
        "X = data.loc[:, data.columns != 'label']\n",
        "Y = data['label']\n",
        "\n",
        "# Preprocessing: deleting features with only zeros\n",
        "X = X.loc[:, (X != 0).any(axis=0)]\n",
        "# print(f'The number of spamples: {len(X.index)}')\n",
        "# print(f'The number of columns: {len(X.columns)}')\n",
        "\n",
        "# Binarize Y labels\n",
        "y_bin = preprocessing.label_binarize(Y, ['CN','AD'])\n",
        "y_bin = [i[0] for i in y_bin]\n",
        "#print(y_bin)\n",
        "\n",
        "# Split the dataset in train and test part\n",
        "X_train, X_test, Y_train, Y_test = model_selection.train_test_split(X, y_bin, test_size=0.2, stratify=y_bin)\n",
        "\n",
        "\n",
        "# Scale the data \n",
        "scaler = preprocessing.StandardScaler()\n",
        "scaler.fit(X_train)\n",
        "X_train_scaled = scaler.transform(X_train)\n",
        "X_test_scaled = scaler.transform(X_test)\n",
        "\n",
        "\n",
        "#Fitting the PCA algorithm with our Data\n",
        "from sklearn.decomposition import PCA\n",
        "\n",
        "pca = PCA().fit(X_train_scaled)\n",
        "#Plotting the Cumulative Summation of the Explained Variance\n",
        "plt.figure()\n",
        "plt.plot(np.cumsum(pca.explained_variance_ratio_))\n",
        "plt.xlabel('Number of Components')\n",
        "plt.ylabel('Variance (%)') #for each component\n",
        "plt.title('Dataset Explained Variance')\n",
        "plt.show()\n",
        "\n",
        "# Perform a PCA\n",
        "var = np.cumsum(pca.explained_variance_ratio_) \n",
        "n_components = np.where(var > 0.95)[0][0]\n",
        "print(f\"Nr. of components:{n_components}\")\n",
        "\n",
        "\n",
        "# Perform a PCA\n",
        "pca = decomposition.PCA(n_components=n_components)\n",
        "pca.fit(X_train_scaled)\n",
        "X_train_pca = pca.transform(X_train_scaled)\n",
        "X_test_pca = pca.transform(X_test_scaled)\n",
        "\n",
        "# # Use the selectfrommodel module: L1 Select all features with a weight above the median.\n",
        "# from sklearn.feature_selection import SelectFromModel\n",
        "# from sklearn.linear_model import Lasso, RidgeClassifier\n",
        "# selector = SelectFromModel(estimator=Lasso(alpha=10**(-5)), threshold='median')\n",
        "# selector.fit(X_train_scaled, Y_train)\n",
        "# n_original = X_train_scaled.shape[1]\n",
        "# X_train_L1 = selector.transform(X_train_scaled)\n",
        "# X_test_L1 = selector.transform(X_test_scaled)\n",
        "# n_selected = X_train_L1.shape[1]\n",
        "# print(f\"Selected {n_selected} from {n_original} features.\")\n",
        "\n",
        "#Plot first feature PCA\n",
        "fig = plt.figure(figsize=(24,8))\n",
        "ax = fig.add_subplot(131)\n",
        "ax.set_title(\"PCA\", fontsize='small')\n",
        "ax.scatter(X_train_pca[:, 0], X_train_pca[:, 1], marker='o', c=Y_train,\n",
        "            s=25, edgecolor='k', cmap=plt.cm.Paired)\n",
        "\n",
        "\n",
        "# #Plot first feature L1 selection\n",
        "#fig = plt.figure(figsize=(24,8))\n",
        "#ax = fig.add_subplot(132)\n",
        "#ax.set_title(\"L1\", fontsize='small')\n",
        "#ax.scatter(X_train_L1[:, 0], X_train_L1[:, 1], marker='o', c=Y_train,\n",
        "        #     s=25, edgecolor='k', cmap=plt.cm.Paired)\n",
        "\n",
        "\n",
        "# Crossvalidation for parameter tuning\n",
        "cv_10fold = model_selection.StratifiedKFold(n_splits=10)"
      ],
      "execution_count": 34,
      "outputs": [
        {
          "output_type": "stream",
          "text": [
            "The number of spamples: 855\n",
            "The number of columns: 268\n"
          ],
          "name": "stdout"
        },
        {
          "output_type": "display_data",
          "data": {
            "image/png": "[encoded data removed]",
            "text/plain": [
              "<Figure size 432x288 with 1 Axes>"
            ]
          },
          "metadata": {
            "tags": []
          }
        },
        {
          "output_type": "stream",
          "text": [
            "Nr. of components:73\n"
          ],
          "name": "stdout"
        },
        {
          "output_type": "display_data",
          "data": {
            "image/png": "[encoded data removed]",
            "text/plain": [
              "<Figure size 1728x576 with 1 Axes>"
            ]
          },
          "metadata": {
            "tags": []
          }
        }
      ]
    },
    {
      "cell_type": "code",
      "metadata": {
        "id": "RnGeL5SbQMVi",
        "colab_type": "code",
        "colab": {}
      },
      "source": [
        "def plot_learning_curve(estimator, title, X, y, axes, ylim=None, cv=None,\n",
        "                        n_jobs=None, train_sizes=np.linspace(.1, 1.0, 5)):\n",
        "    \"\"\"\n",
        "    Generate 3 plots: the test and training learning curve, the training\n",
        "    samples vs fit times curve, the fit times vs score curve.\n",
        "\n",
        "    Parameters\n",
        "    ----------\n",
        "    estimator : object type that implements the \"fit\" and \"predict\" methods\n",
        "        An object of that type which is cloned for each validation.\n",
        "\n",
        "    title : string\n",
        "        Title for the chart.\n",
        "\n",
        "    X : array-like, shape (n_samples, n_features)\n",
        "        Training vector, where n_samples is the number of samples and\n",
        "        n_features is the number of features.\n",
        "\n",
        "    y : array-like, shape (n_samples) or (n_samples, n_features), optional\n",
        "        Target relative to X for classification or regression;\n",
        "        None for unsupervised learning.\n",
        "\n",
        "    axes : array of 3 axes, optional (default=None)\n",
        "        Axes to use for plotting the curves.\n",
        "\n",
        "    ylim : tuple, shape (ymin, ymax), optional\n",
        "        Defines minimum and maximum yvalues plotted.\n",
        "\n",
        "    cv : int, cross-validation generator or an iterable, optional\n",
        "        Determines the cross-validation splitting strategy.\n",
        "        Possible inputs for cv are:\n",
        "          - None, to use the default 5-fold cross-validation,\n",
        "          - integer, to specify the number of folds.\n",
        "          - :term:`CV splitter`,\n",
        "          - An iterable yielding (train, test) splits as arrays of indices.\n",
        "\n",
        "        For integer/None inputs, if ``y`` is binary or multiclass,\n",
        "        :class:`StratifiedKFold` used. If the estimator is not a classifier\n",
        "        or if ``y`` is neither binary nor multiclass, :class:`KFold` is used.\n",
        "\n",
        "        Refer :ref:`User Guide <cross_validation>` for the various\n",
        "        cross-validators that can be used here.\n",
        "\n",
        "    n_jobs : int or None, optional (default=None)\n",
        "        Number of jobs to run in parallel.\n",
        "        ``None`` means 1 unless in a :obj:`joblib.parallel_backend` context.\n",
        "        ``-1`` means using all processors. See :term:`Glossary <n_jobs>`\n",
        "        for more details.\n",
        "\n",
        "    train_sizes : array-like, shape (n_ticks,), dtype float or int\n",
        "        Relative or absolute numbers of training examples that will be used to\n",
        "        generate the learning curve. If the dtype is float, it is regarded as a\n",
        "        fraction of the maximum size of the training set (that is determined\n",
        "        by the selected validation method), i.e. it has to be within (0, 1].\n",
        "        Otherwise it is interpreted as absolute sizes of the training sets.\n",
        "        Note that for classification the number of samples usually have to\n",
        "        be big enough to contain at least one sample from each class.\n",
        "        (default: np.linspace(0.1, 1.0, 5))\n",
        "    \"\"\"\n",
        "\n",
        "    axes.set_title(title)\n",
        "    if ylim is not None:\n",
        "        axes.set_ylim(*ylim)\n",
        "    axes.set_xlabel(\"Training examples\")\n",
        "    axes.set_ylabel(\"Score\")\n",
        "\n",
        "    train_sizes, train_scores, test_scores  = \\\n",
        "        learning_curve(estimator, X, y, cv=cv, n_jobs=n_jobs,\n",
        "                       train_sizes=train_sizes)\n",
        "    train_scores_mean = np.mean(train_scores, axis=1)\n",
        "    train_scores_std = np.std(train_scores, axis=1)\n",
        "    test_scores_mean = np.mean(test_scores, axis=1)\n",
        "    test_scores_std = np.std(test_scores, axis=1)\n",
        "\n",
        "    # Plot learning curve\n",
        "    axes.grid()\n",
        "    axes.fill_between(train_sizes, train_scores_mean - train_scores_std,\n",
        "                         train_scores_mean + train_scores_std, alpha=0.1,\n",
        "                         color=\"r\")\n",
        "    axes.fill_between(train_sizes, test_scores_mean - test_scores_std,\n",
        "                         test_scores_mean + test_scores_std, alpha=0.1,\n",
        "                         color=\"g\")\n",
        "    axes.plot(train_sizes, train_scores_mean, 'o-', color=\"r\",\n",
        "                 label=\"Training score\")\n",
        "    axes.plot(train_sizes, test_scores_mean, 'o-', color=\"g\",\n",
        "                 label=\"Cross-validation score\")\n",
        "    axes.legend(loc=\"best\")\n",
        "\n",
        "    return plt"
      ],
      "execution_count": 0,
      "outputs": []
    },
    {
      "cell_type": "markdown",
      "metadata": {
        "id": "SgtMEyyJb6BZ",
        "colab_type": "text"
      },
      "source": [
        "## KNN Classifier\n",
        "\n",
        "Vraag: met grid_search.best_estimator_ krijg ik als het beste resultaat k=33, maar als ik k=25 invul krijg ik een hoger resultaat voor test en train. \n",
        "\n",
        "vgm snap ik dit nu wel...Soms grid_search.best_estimator_ ander resultaat voor beste k dan clf.n_neigbors\n"
      ]
    },
    {
      "cell_type": "code",
      "metadata": {
        "id": "6N-xw5GccCNu",
        "colab_type": "code",
        "outputId": "514aa126-f38e-4e84-ae2d-23ebedffca19",
        "colab": {
          "base_uri": "https://localhost:8080/",
          "height": 720
        }
      },
      "source": [
        "# # Create a grid search to find the optimal k using a gridsearch and 10-fold cross validation\n",
        "# # Specify the classifier\n",
        "# knn = neighbors.KNeighborsClassifier()\n",
        "# parameters = {\"n_neighbors\": list(range(1, 51, 2))}\n",
        "# cv_10fold = model_selection.StratifiedKFold(n_splits=10)\n",
        "# grid_search = model_selection.GridSearchCV(knn, parameters, cv=cv_10fold, scoring='accuracy')\n",
        "# grid_search.fit(X_train_pca, Y_train)\n",
        "# # Show the complete results of the cross validation\n",
        "# display(pd.DataFrame(grid_search.cv_results_))\n",
        "\n",
        "\n",
        "# # # Fit kNN\n",
        "# # Get resulting classifier\n",
        "# print(grid_search.best_estimator_)\n",
        "# #print(f'Best classifier: k={clf.n_neighbors}')\n",
        "# clf = neighbors.KNeighborsClassifier(n_neighbors=21)\n",
        "# clf.fit(X_train_pca, Y_train)\n",
        "# score_train = clf.score(X_train_pca, Y_train)\n",
        "# score_test = clf.score(X_test_pca, Y_test)\n",
        "\n",
        "# # Get the accuracy\n",
        "# y_pred = clf.predict(X_train_pca)\n",
        "# acc_train=metrics.accuracy_score(Y_train, y_pred)\n",
        "# y_pred = clf.predict(X_test_pca)\n",
        "# acc_test=metrics.accuracy_score(Y_test, y_pred)\n",
        "\n",
        "# # Print result\n",
        "# print(f\"Training result: {score_train}\")\n",
        "# print(f\"Test result: {score_test}\")\n",
        "# print(f\"Accuracy:\")\n",
        "# print(f\"Training result: {acc_train}\")\n",
        "# print(f\"Test result: {acc_test}\")\n",
        "\n",
        "\n",
        "#List Hyperparameters that we want to tune.\n",
        "leaf_size = list(range(1,50))\n",
        "n_neighbors = list(range(1,50))\n",
        "p=[1,2]\n",
        "#Convert to dictionary\n",
        "hyperparameters = dict(n_neighbors=n_neighbors,leaf_size=leaf_size, p=p)\n",
        "#Create new KNN object\n",
        "knn_2 = neighbors.KNeighborsClassifier()\n",
        "#Use GridSearch\n",
        "#cv_10fold = model_selection.StratifiedKFold(n_splits=10)\n",
        "random_search = model_selection.RandomizedSearchCV(knn_2, hyperparameters, cv=cv_10fold)\n",
        "\n",
        "#Fit the model\n",
        "best_model = random_search.fit(X_train_pca,Y_train)\n",
        "clf = random_search.best_estimator_\n",
        "\n",
        "#Print The value of best Hyperparameters\n",
        "print('Best leaf_size:', best_model.best_estimator_.get_params()['leaf_size'])\n",
        "print('Best p:', best_model.best_estimator_.get_params()['p'])\n",
        "print('Best n_neighbors:', best_model.best_estimator_.get_params()['n_neighbors'])\n",
        "print(clf)\n",
        "\n",
        "# Test train\n",
        "from sklearn.metrics import classification_report\n",
        "y_pred_train = clf.predict(X_train_pca)\n",
        "print(classification_report(Y_train, y_pred_train))\n",
        "# Test model\n",
        "\n",
        "y_pred = clf.predict(X_test_pca)\n",
        "print(classification_report(Y_test, y_pred))\n",
        "\n",
        "#Learning curve\n",
        "from sklearn.model_selection import ShuffleSplit\n",
        "from sklearn.model_selection import learning_curve\n",
        "plt.show()\n",
        "title = str(type(clf))\n",
        "#ax = fig.add_subplot(7, 3, 1)\n",
        "ax = fig, ax = plt.subplots()\n",
        "cv = ShuffleSplit(n_splits=10, test_size=0.2, random_state=0)\n",
        "plot_learning_curve(clf, title, X_train_pca, Y_train, ax, ylim=(0.3, 1.01), cv=cv)"
      ],
      "execution_count": 15,
      "outputs": [
        {
          "output_type": "stream",
          "text": [
            "Best leaf_size: 28\n",
            "Best p: 2\n",
            "Best n_neighbors: 13\n",
            "KNeighborsClassifier(algorithm='auto', leaf_size=28, metric='minkowski',\n",
            "                     metric_params=None, n_jobs=None, n_neighbors=13, p=2,\n",
            "                     weights='uniform')\n",
            "              precision    recall  f1-score   support\n",
            "\n",
            "           0       0.82      0.71      0.76       269\n",
            "           1       0.83      0.90      0.86       415\n",
            "\n",
            "    accuracy                           0.83       684\n",
            "   macro avg       0.83      0.81      0.81       684\n",
            "weighted avg       0.83      0.83      0.82       684\n",
            "\n",
            "              precision    recall  f1-score   support\n",
            "\n",
            "           0       0.73      0.67      0.70        67\n",
            "           1       0.80      0.84      0.82       104\n",
            "\n",
            "    accuracy                           0.77       171\n",
            "   macro avg       0.76      0.75      0.76       171\n",
            "weighted avg       0.77      0.77      0.77       171\n",
            "\n"
          ],
          "name": "stdout"
        },
        {
          "output_type": "execute_result",
          "data": {
            "text/plain": [
              "<module 'matplotlib.pyplot' from '/usr/local/lib/python3.6/dist-packages/matplotlib/pyplot.py'>"
            ]
          },
          "metadata": {
            "tags": []
          },
          "execution_count": 15
        },
        {
          "output_type": "display_data",
          "data": {
            "image/png": "[encoded data removed]",
            "text/plain": [
              "<Figure size 432x288 with 1 Axes>"
            ]
          },
          "metadata": {
            "tags": []
          }
        }
      ]
    },
    {
      "cell_type": "markdown",
      "metadata": {
        "id": "CO6550RrcGRd",
        "colab_type": "text"
      },
      "source": [
        "## KNN with Crossvalidation\n",
        "\n",
        "De k wisselt heel erg met elke CV, conclusie: erg afhankelijk van training data \n",
        "wat beste k geeft, dus ....??\n"
      ]
    },
    {
      "cell_type": "code",
      "metadata": {
        "id": "1baCzMI2cKVq",
        "colab_type": "code",
        "outputId": "c48c3679-fde5-4aa9-b4c5-08a907b157f5",
        "colab": {
          "base_uri": "https://localhost:8080/",
          "height": 1000
        }
      },
      "source": [
        "# Create a 20 fold stratified CV iterator\n",
        "cv_20fold = model_selection.StratifiedKFold(n_splits=20)\n",
        "results = []\n",
        "results_acc = []\n",
        "best_n_neighbors = []\n",
        "\n",
        "# Loop over the folds\n",
        "for validation_index, test_index in cv_20fold.split(X_train_pca, Y_train):\n",
        "    # Split the data properly\n",
        "    X_validation = X_train_pca[validation_index]\n",
        "    y_validation = np.array(Y_train)[validation_index]\n",
        "    \n",
        "    X_testKNN = X_train_pca[test_index]\n",
        "    y_testKNN = np.array(Y_train)[test_index]\n",
        "\n",
        "    #List Hyperparameters that we want to tune.\n",
        "    leaf_size = list(range(1,50))\n",
        "    n_neighbors = list(range(1,50))\n",
        "    p=[1,2]\n",
        "    hyperparameters = dict(n_neighbors=n_neighbors,leaf_size=leaf_size, p=p)\n",
        "    #Create new KNN object\n",
        "    knn_2 = neighbors.KNeighborsClassifier()\n",
        "    #Use RandomSearch\n",
        "    #cv_10fold = model_selection.StratifiedKFold(n_splits=10)\n",
        "    random_search = model_selection.RandomizedSearchCV(knn_2, hyperparameters, cv=cv_10fold)\n",
        "\n",
        "    #Fit the model\n",
        "    best_model = random_search.fit(X_validation, y_validation)\n",
        "    clf = random_search.best_estimator_\n",
        "    \n",
        "    # # Create a grid search to find the optimal k using a gridsearch and 10-fold cross validation\n",
        "    # # Same as above\n",
        "    # parameters = {\"n_neighbors\": list(range(1, 26, 2))}\n",
        "    # knn = neighbors.KNeighborsClassifier()\n",
        "    # cv_10fold = model_selection.StratifiedKFold(n_splits=10)\n",
        "    # grid_search = model_selection.GridSearchCV(knn, parameters, cv=cv_10fold, scoring='roc_auc')\n",
        "    # grid_search.fit(X_validation, y_validation)\n",
        "    \n",
        "    # # Get resulting classifier\n",
        "    # clf = grid_search.best_estimator_\n",
        "    print(f'Best classifier: k={clf.n_neighbors}')\n",
        "    best_n_neighbors.append(clf.n_neighbors)\n",
        "\n",
        "    # Test the classifier on the validation data\n",
        "    probabilities_validation = clf.predict_proba(X_validation)\n",
        "    scores_validation = probabilities_validation[:, 1]\n",
        "    \n",
        "    # Test the classifier on the test data\n",
        "    probabilities = clf.predict_proba(X_testKNN)\n",
        "    scores = probabilities[:, 1]\n",
        "\n",
        "    # Get the accuracy\n",
        "    y_pred = clf.predict(X_validation)\n",
        "    accuracy=metrics.accuracy_score(y_validation, y_pred)\n",
        "    results_acc.append({'acc': accuracy,'set': 'validation'})\n",
        "    y_pred = clf.predict(X_testKNN)\n",
        "    accuracy = metrics.accuracy_score(y_testKNN, y_pred)\n",
        "    results_acc.append({'acc': accuracy,'set': 'test'})\n",
        "    \n",
        "    # Get the auc\n",
        "    auc = metrics.roc_auc_score(y_testKNN, scores)\n",
        "    results.append({'auc': auc,'k': clf.n_neighbors,'set': 'test'})       \n",
        "    \n",
        "    # Get the auc\n",
        "    auc_validation = metrics.roc_auc_score(y_validation, scores_validation)\n",
        "    results.append({'auc': auc_validation,'k': clf.n_neighbors,'set': 'validation'})\n",
        "    \n",
        "# Create results dataframe and plot it\n",
        "results = pd.DataFrame(results)\n",
        "plt.show()\n",
        "seaborn.boxplot(y='auc', x='set', data=results)\n",
        "plt.show()\n",
        "results_acc = pd.DataFrame(results_acc)\n",
        "seaborn.boxplot(y='acc', x='set', data=results_acc)\n",
        "\n",
        "optimal_n = int(np.median(best_n_neighbors))\n",
        "#print(f\"The optimal N={optimal_n}\")\n",
        "\n",
        "\n",
        "from sklearn.metrics import classification_report\n",
        "print(classification_report(Y_test, clf.predict(X_test_pca)))\n",
        "#y_pred = clf.predict(X_test_pca)\n",
        "print(clf.score(X_test_pca, Y_test))"
      ],
      "execution_count": 20,
      "outputs": [
        {
          "output_type": "stream",
          "text": [
            "Best classifier: k=12\n",
            "Best classifier: k=11\n",
            "Best classifier: k=43\n",
            "Best classifier: k=30\n",
            "Best classifier: k=42\n",
            "Best classifier: k=28\n",
            "Best classifier: k=30\n",
            "Best classifier: k=10\n",
            "Best classifier: k=25\n",
            "Best classifier: k=46\n",
            "Best classifier: k=19\n",
            "Best classifier: k=33\n",
            "Best classifier: k=44\n",
            "Best classifier: k=19\n",
            "Best classifier: k=10\n",
            "Best classifier: k=31\n",
            "Best classifier: k=22\n",
            "Best classifier: k=18\n",
            "Best classifier: k=33\n",
            "Best classifier: k=46\n"
          ],
          "name": "stdout"
        },
        {
          "output_type": "display_data",
          "data": {
            "image/png": "[encoded data removed]",
            "text/plain": [
              "<Figure size 432x288 with 1 Axes>"
            ]
          },
          "metadata": {
            "tags": []
          }
        },
        {
          "output_type": "stream",
          "text": [
            "              precision    recall  f1-score   support\n",
            "\n",
            "           0       0.77      0.61      0.68        67\n",
            "           1       0.78      0.88      0.83       104\n",
            "\n",
            "    accuracy                           0.78       171\n",
            "   macro avg       0.78      0.75      0.76       171\n",
            "weighted avg       0.78      0.78      0.77       171\n",
            "\n",
            "0.7777777777777778\n"
          ],
          "name": "stdout"
        },
        {
          "output_type": "display_data",
          "data": {
            "image/png": "[encoded data removed]",
            "text/plain": [
              "<Figure size 432x288 with 1 Axes>"
            ]
          },
          "metadata": {
            "tags": []
          }
        }
      ]
    },
    {
      "cell_type": "markdown",
      "metadata": {
        "id": "r9TA2vNS7f8v",
        "colab_type": "text"
      },
      "source": [
        "# Support Vector Machine (SVM) Classifier \n",
        "\n"
      ]
    },
    {
      "cell_type": "code",
      "metadata": {
        "id": "qH-LQ_iw7I6W",
        "colab_type": "code",
        "outputId": "b63ad299-d327-4ec4-9a6b-a0f299fc8761",
        "colab": {
          "base_uri": "https://localhost:8080/",
          "height": 493
        }
      },
      "source": [
        "from sklearn.model_selection import RandomizedSearchCV\n",
        "from sklearn.svm import LinearSVC\n",
        "from sklearn.metrics import classification_report\n",
        " \n",
        "  \n",
        "# defining parameter range \n",
        "param_grid = {'C': [0.01, 0.5, 1],  \n",
        "              'gamma': [1, 0.1, 0.01], \n",
        "              'kernel': ['linear', 'rbf', 'poly'],\n",
        "              'coef0': [0.01, 0.5, 1],\n",
        "              'degree': [1, 3, 5]}  \n",
        "\n",
        "# For now: 3 options for kernels implemented: linear rbf and poly\n",
        "# Other options on kernels:\n",
        "# - sampler, for example: first use RBF sampler, then linear kernel\n",
        "# - manually constructed kernel function?\n",
        "# - precomputed kernel\n",
        "# - sigmoid kernel\n",
        "\n",
        "#grid = svm.SVC(probability=True)\n",
        "grid = RandomizedSearchCV(SVC(probability=True), param_grid, refit=True, verbose=False, cv=cv_10fold) \n",
        "  \n",
        "# fitting the model for grid search \n",
        "best_model = grid.fit(X_train_pca, Y_train) \n",
        "clf = grid.best_estimator_\n",
        "\n",
        "\n",
        "print(grid.best_params_)\n",
        "print(grid.best_estimator_)\n",
        "\n",
        "print('Best slack parameter C:', grid.best_estimator_.get_params()['C'])\n",
        "print('Best gamma:', grid.best_estimator_.get_params()['gamma'])\n",
        "print('Best kernel:', grid.best_estimator_.get_params()['kernel'])\n",
        "print('Best coef0:', grid.best_estimator_.get_params()['coef0'])\n",
        "print('Best degree:', grid.best_estimator_.get_params()['degree'])\n",
        "\n",
        "# Classification report (training data)\n",
        "y_pred_train = clf.predict(X_train_pca)\n",
        "print(classification_report(Y_train, y_pred_train))\n",
        "\n",
        "#Classification report (test data)\n",
        "y_pred_test = clf.predict(X_test_pca)\n",
        "print(classification_report(Y_test, y_pred_test))\n",
        "\n"
      ],
      "execution_count": 17,
      "outputs": [
        {
          "output_type": "stream",
          "text": [
            "{'kernel': 'linear', 'gamma': 0.1, 'degree': 5, 'coef0': 1, 'C': 0.5}\n",
            "SVC(C=0.5, break_ties=False, cache_size=200, class_weight=None, coef0=1,\n",
            "    decision_function_shape='ovr', degree=5, gamma=0.1, kernel='linear',\n",
            "    max_iter=-1, probability=True, random_state=None, shrinking=True, tol=0.001,\n",
            "    verbose=False)\n",
            "Best slack parameter C: 0.5\n",
            "Best gamma: 0.1\n",
            "Best kernel: linear\n",
            "Best coef0: 1\n",
            "Best degree: 5\n",
            "              precision    recall  f1-score   support\n",
            "\n",
            "           0       0.85      0.78      0.82       269\n",
            "           1       0.87      0.91      0.89       415\n",
            "\n",
            "    accuracy                           0.86       684\n",
            "   macro avg       0.86      0.85      0.85       684\n",
            "weighted avg       0.86      0.86      0.86       684\n",
            "\n",
            "              precision    recall  f1-score   support\n",
            "\n",
            "           0       0.74      0.75      0.74        67\n",
            "           1       0.83      0.83      0.83       104\n",
            "\n",
            "    accuracy                           0.80       171\n",
            "   macro avg       0.79      0.79      0.79       171\n",
            "weighted avg       0.80      0.80      0.80       171\n",
            "\n"
          ],
          "name": "stdout"
        }
      ]
    },
    {
      "cell_type": "markdown",
      "metadata": {
        "id": "qaiieExNS4wO",
        "colab_type": "text"
      },
      "source": [
        "# SVM with cross-validation"
      ]
    },
    {
      "cell_type": "code",
      "metadata": {
        "id": "l1sM65IAS8Uq",
        "colab_type": "code",
        "outputId": "f8704cbd-1b84-451c-f7b9-6c43b8625d18",
        "colab": {
          "base_uri": "https://localhost:8080/",
          "height": 1000
        }
      },
      "source": [
        "# Create a 20 fold stratified CV iterator\n",
        "cv_20fold = model_selection.StratifiedKFold(n_splits=20)\n",
        "results = []\n",
        "results_acc = []\n",
        "best_C = []\n",
        "best_gamma = []\n",
        "best_kernel = []\n",
        "best_coef0 = []\n",
        "best_degree = []\n",
        "\n",
        "# Loop over the folds\n",
        "for validation_index, test_index in cv_20fold.split(X_train_pca, Y_train):\n",
        "    # Split the data properly\n",
        "    X_validation = X_train_pca[validation_index]\n",
        "    Y_validation = np.array(Y_train)[validation_index]\n",
        "    \n",
        "    X_test_SVM = X_train_pca[test_index]\n",
        "    Y_test_SVM = np.array(Y_train)[test_index]\n",
        "    \n",
        "    \n",
        "    # Same as above\n",
        "    param_grid = {'C': [0.01, 0.5, 1],  \n",
        "              'gamma': [1, 0.1, 0.01], \n",
        "              'kernel': ['linear', 'rbf', 'poly'],\n",
        "              'coef0': [0.01, 0.5, 1],\n",
        "              'degree': [1, 3, 5]}\n",
        "    grid = RandomizedSearchCV(SVC(probability=True), param_grid, refit=True, verbose=False, cv=cv_10fold, scoring='roc_auc')  \n",
        "    best_model = grid.fit(X_validation, Y_validation)\n",
        "\n",
        "    \n",
        "    # Get resulting classifier\n",
        "    clf = grid.best_estimator_\n",
        "    print(f'Best slack parameter: C={clf.C}')\n",
        "    print(f'Best gamma: gamma={clf.gamma}')\n",
        "    print(f'Best kernel: kernel={clf.kernel}')\n",
        "    print(f'Best coef0: coef0={clf.coef0}')\n",
        "    print(f'Best degree: degree={clf.degree}')\n",
        "\n",
        "    best_C.append(clf.C)\n",
        "    best_gamma.append(clf.gamma)\n",
        "    best_kernel.append(clf.kernel)\n",
        "    best_coef0.append(clf.coef0)\n",
        "    best_degree.append(clf.degree)\n",
        "    \n",
        "    # Test the classifier on the test data\n",
        "    probabilities = clf.predict_proba(X_test_SVM)\n",
        "    scores = probabilities[:, 1]\n",
        "\n",
        "    # Get the accuracy\n",
        "    Y_pred = clf.predict(X_validation)\n",
        "    accuracy=metrics.accuracy_score(Y_validation, Y_pred)\n",
        "    results_acc.append({'acc': accuracy,'set': 'validation'})\n",
        "    Y_pred = clf.predict(X_test_SVM)\n",
        "    accuracy = metrics.accuracy_score(Y_test_SVM, Y_pred)\n",
        "    results_acc.append({'acc': accuracy,'set': 'test'})\n",
        "    \n",
        "    # Get the auc\n",
        "    auc = metrics.roc_auc_score(Y_test_SVM, scores)\n",
        "    results.append({'auc': auc,'C': clf.C, 'gamma': clf.gamma, \n",
        "                    'kernel': clf.kernel, 'coef0': clf.coef0, \n",
        "                    'degree': clf.degree,'set': 'test'})\n",
        "    \n",
        "    # Test the classifier on the validation data\n",
        "    probabilities_validation = clf.predict_proba(X_validation)\n",
        "    scores_validation = probabilities_validation[:, 1]\n",
        "    \n",
        "    # Get the auc\n",
        "    auc_validation = metrics.roc_auc_score(Y_validation, scores_validation)\n",
        "    results.append({\n",
        "        'auc': auc_validation,\n",
        "        'C': clf.C,\n",
        "        'gamma': clf.gamma,\n",
        "        'kernel': clf.kernel,\n",
        "        'coef0': clf.coef0,\n",
        "        'degree': clf.degree,\n",
        "        'set': 'validation'\n",
        "    })\n",
        "    \n",
        "# Create results dataframe and plot it\n",
        "results = pd.DataFrame(results)\n",
        "plt.show()\n",
        "seaborn.boxplot(y='auc', x='set', data=results)\n",
        "plt.show()\n",
        "results_acc = pd.DataFrame(results_acc)\n",
        "seaborn.boxplot(y='acc', x='set', data=results_acc)\n",
        "\n",
        "optimal_C = int(np.mean(best_C))\n",
        "print(f\"The optimal C={optimal_C}\")\n",
        "optimal_gamma = int(np.mean(best_gamma))\n",
        "print(f\"The optimal gamma={optimal_gamma}\")\n",
        "#optimal_kernel = most_frequent(best_kernel)\n",
        "#print(f\"The optimal kernel={optimal_kernel}\")\n",
        "optimal_coef0 = int(np.mean(best_coef0))\n",
        "print(f\"The optimal coef0={optimal_coef0}\")\n",
        "optimal_degree = int(np.mean(best_degree))\n",
        "print(f\"The optimal degree={optimal_degree}\")\n",
        "\n",
        "from sklearn.metrics import classification_report\n",
        "\n",
        "print(classification_report(Y_test, clf.predict(X_test_pca)))\n",
        "#y_pred = clf.predict(X_test_pca)\n",
        "print(clf.score(X_test_pca, Y_test))"
      ],
      "execution_count": 0,
      "outputs": [
        {
          "output_type": "stream",
          "text": [
            "ERROR! Session/line number was not unique in database. History logging moved to new session 61\n",
            "Best slack parameter: C=0.01\n",
            "Best gamma: gamma=1\n",
            "Best kernel: kernel=linear\n",
            "Best coef0: coef0=0.5\n",
            "Best degree: degree=5\n",
            "Best slack parameter: C=1\n",
            "Best gamma: gamma=0.1\n",
            "Best kernel: kernel=linear\n",
            "Best coef0: coef0=0.5\n",
            "Best degree: degree=1\n",
            "Best slack parameter: C=0.01\n",
            "Best gamma: gamma=0.1\n",
            "Best kernel: kernel=linear\n",
            "Best coef0: coef0=1\n",
            "Best degree: degree=1\n",
            "Best slack parameter: C=0.01\n",
            "Best gamma: gamma=1\n",
            "Best kernel: kernel=linear\n",
            "Best coef0: coef0=0.5\n",
            "Best degree: degree=3\n",
            "Best slack parameter: C=0.5\n",
            "Best gamma: gamma=0.01\n",
            "Best kernel: kernel=poly\n",
            "Best coef0: coef0=0.01\n",
            "Best degree: degree=1\n",
            "Best slack parameter: C=0.01\n",
            "Best gamma: gamma=0.1\n",
            "Best kernel: kernel=linear\n",
            "Best coef0: coef0=0.5\n",
            "Best degree: degree=3\n",
            "Best slack parameter: C=0.01\n",
            "Best gamma: gamma=0.1\n",
            "Best kernel: kernel=poly\n",
            "Best coef0: coef0=0.5\n",
            "Best degree: degree=1\n",
            "Best slack parameter: C=0.5\n",
            "Best gamma: gamma=0.1\n",
            "Best kernel: kernel=linear\n",
            "Best coef0: coef0=1\n",
            "Best degree: degree=5\n",
            "Best slack parameter: C=0.01\n",
            "Best gamma: gamma=1\n",
            "Best kernel: kernel=linear\n",
            "Best coef0: coef0=0.01\n",
            "Best degree: degree=5\n",
            "Best slack parameter: C=0.01\n",
            "Best gamma: gamma=1\n",
            "Best kernel: kernel=poly\n",
            "Best coef0: coef0=0.01\n",
            "Best degree: degree=1\n",
            "Best slack parameter: C=0.01\n",
            "Best gamma: gamma=0.1\n",
            "Best kernel: kernel=linear\n",
            "Best coef0: coef0=1\n",
            "Best degree: degree=5\n",
            "Best slack parameter: C=0.01\n",
            "Best gamma: gamma=1\n",
            "Best kernel: kernel=poly\n",
            "Best coef0: coef0=0.01\n",
            "Best degree: degree=1\n",
            "Best slack parameter: C=1\n",
            "Best gamma: gamma=0.01\n",
            "Best kernel: kernel=poly\n",
            "Best coef0: coef0=0.01\n",
            "Best degree: degree=1\n",
            "Best slack parameter: C=0.01\n",
            "Best gamma: gamma=0.01\n",
            "Best kernel: kernel=linear\n",
            "Best coef0: coef0=0.01\n",
            "Best degree: degree=5\n",
            "Best slack parameter: C=0.01\n",
            "Best gamma: gamma=0.01\n",
            "Best kernel: kernel=linear\n",
            "Best coef0: coef0=0.5\n",
            "Best degree: degree=5\n",
            "Best slack parameter: C=0.01\n",
            "Best gamma: gamma=0.1\n",
            "Best kernel: kernel=linear\n",
            "Best coef0: coef0=0.01\n",
            "Best degree: degree=1\n",
            "Best slack parameter: C=0.5\n",
            "Best gamma: gamma=0.01\n",
            "Best kernel: kernel=poly\n",
            "Best coef0: coef0=0.5\n",
            "Best degree: degree=1\n",
            "Best slack parameter: C=0.01\n",
            "Best gamma: gamma=0.1\n",
            "Best kernel: kernel=poly\n",
            "Best coef0: coef0=0.5\n",
            "Best degree: degree=1\n",
            "Best slack parameter: C=0.01\n",
            "Best gamma: gamma=0.01\n",
            "Best kernel: kernel=poly\n",
            "Best coef0: coef0=1\n",
            "Best degree: degree=3\n",
            "Best slack parameter: C=0.5\n",
            "Best gamma: gamma=0.01\n",
            "Best kernel: kernel=poly\n",
            "Best coef0: coef0=0.5\n",
            "Best degree: degree=1\n"
          ],
          "name": "stdout"
        },
        {
          "output_type": "display_data",
          "data": {
            "image/png": "[encoded data removed]",
            "text/plain": [
              "<Figure size 432x288 with 1 Axes>"
            ]
          },
          "metadata": {
            "tags": []
          }
        },
        {
          "output_type": "stream",
          "text": [
            "The optimal C=0\n",
            "The optimal gamma=0\n"
          ],
          "name": "stdout"
        },
        {
          "output_type": "error",
          "ename": "NameError",
          "evalue": "ignored",
          "traceback": [
            "\u001b[0;31m---------------------------------------------------------------------------\u001b[0m",
            "\u001b[0;31mNameError\u001b[0m                                 Traceback (most recent call last)",
            "\u001b[0;32m<ipython-input-50-1214bac985b3>\u001b[0m in \u001b[0;36m<module>\u001b[0;34m()\u001b[0m\n\u001b[1;32m     88\u001b[0m \u001b[0moptimal_gamma\u001b[0m \u001b[0;34m=\u001b[0m \u001b[0mint\u001b[0m\u001b[0;34m(\u001b[0m\u001b[0mnp\u001b[0m\u001b[0;34m.\u001b[0m\u001b[0mmean\u001b[0m\u001b[0;34m(\u001b[0m\u001b[0mbest_gamma\u001b[0m\u001b[0;34m)\u001b[0m\u001b[0;34m)\u001b[0m\u001b[0;34m\u001b[0m\u001b[0;34m\u001b[0m\u001b[0m\n\u001b[1;32m     89\u001b[0m \u001b[0mprint\u001b[0m\u001b[0;34m(\u001b[0m\u001b[0;34mf\"The optimal gamma={optimal_gamma}\"\u001b[0m\u001b[0;34m)\u001b[0m\u001b[0;34m\u001b[0m\u001b[0;34m\u001b[0m\u001b[0m\n\u001b[0;32m---> 90\u001b[0;31m \u001b[0moptimal_kernel\u001b[0m \u001b[0;34m=\u001b[0m \u001b[0mmost_frequent\u001b[0m\u001b[0;34m(\u001b[0m\u001b[0mbest_kernel\u001b[0m\u001b[0;34m)\u001b[0m\u001b[0;34m\u001b[0m\u001b[0;34m\u001b[0m\u001b[0m\n\u001b[0m\u001b[1;32m     91\u001b[0m \u001b[0mprint\u001b[0m\u001b[0;34m(\u001b[0m\u001b[0;34mf\"The optimal kernel={optimal_kernel}\"\u001b[0m\u001b[0;34m)\u001b[0m\u001b[0;34m\u001b[0m\u001b[0;34m\u001b[0m\u001b[0m\n\u001b[1;32m     92\u001b[0m \u001b[0moptimal_coef0\u001b[0m \u001b[0;34m=\u001b[0m \u001b[0mint\u001b[0m\u001b[0;34m(\u001b[0m\u001b[0mnp\u001b[0m\u001b[0;34m.\u001b[0m\u001b[0mmean\u001b[0m\u001b[0;34m(\u001b[0m\u001b[0mbest_coef0\u001b[0m\u001b[0;34m)\u001b[0m\u001b[0;34m)\u001b[0m\u001b[0;34m\u001b[0m\u001b[0;34m\u001b[0m\u001b[0m\n",
            "\u001b[0;31mNameError\u001b[0m: name 'most_frequent' is not defined"
          ]
        },
        {
          "output_type": "display_data",
          "data": {
            "image/png": "[encoded data removed]",
            "text/plain": [
              "<Figure size 432x288 with 1 Axes>"
            ]
          },
          "metadata": {
            "tags": []
          }
        }
      ]
    },
    {
      "cell_type": "markdown",
      "metadata": {
        "id": "O3VeeVBm_Bbo",
        "colab_type": "text"
      },
      "source": [
        "**Random Forrest Classifier**\n",
        "\n",
        "The Random Forrest Classifier has 19 different hyperparameters:\n",
        "- n_estimators: number of trees (to much --> overfitting)\n",
        "- criterion: How to measure the quality of a split (gini) (tree-specific)\n",
        "- max_depth: depth of the tree\n",
        "- min_samples_split: minimum number of samples required to split an internal node\n",
        "- min_samples_leaf: number of samples required to be at a node\n",
        "- min_weight_fraction_leaf: sum total of the weigths at a node.\n",
        "- max_features: number of features to consider\n",
        "- max_leaf_nodes: \n",
        "- min_impurity_decrease: node will split if impurity decreases with this value\n",
        "- min_impurity_split: A node will split if its impurity is above the threshold, otherwise it is a leaf\n",
        "- bootstrap: use or not (T/F) (To improve accuracy by creating samples)\n",
        "if T --> max_samples: number of samples to train each base estimator\n",
        "- oob_score: use out-of-bag samples\n",
        "- n_jobs: \n",
        "- random_state: \n",
        "- verbose:\n",
        "- warm_start:\n",
        "- class_weight: If one class is more important\n",
        "- ccp_alpha: x\n",
        "\n",
        "--> Misschien toevoegen: een tijd segment om te kijken of het niet te lang duurt\n",
        "\n",
        "\n"
      ]
    },
    {
      "cell_type": "code",
      "metadata": {
        "id": "lkxtQjuq-_i0",
        "colab_type": "code",
        "outputId": "9e04de75-5cf7-44bf-cc5c-178f36cc6975",
        "colab": {
          "base_uri": "https://localhost:8080/",
          "height": 34
        }
      },
      "source": [
        "#Hyperparameters tuning:\n",
        "n_tree = [10,25,50,100]  # n_estimators\n",
        "boot = ['True','False']  # Bootstrapping\n",
        "criterion = ['gini','entropy'] # measure of quality\n",
        "max_depth = [range(5, 16)] # Depth of the tree\n",
        "min_samples_split = [range(2,7)] # prevends overfitting\n",
        "min_samples_leaf = [1,2] # prevends overfitting\n",
        "classweight = [{0: 1, 1: 0.001},{0: 1, 1: 1},\n",
        "               {0: 1, 1: 10},{0: 1, 1: 100}]\n",
        "\n",
        "\n",
        "clsfs = [n_tree, boot, criterion, max_depth, min_samples_split, \n",
        "         min_samples_leaf, classweight]\n",
        "\n",
        "\n",
        "# Y_test = validation set, niet de test set\n",
        "for clf in clsfs:\n",
        "  for hype_par in clf:\n",
        "    for X, Y in zip(Xtrain,Ytrain):\n",
        "      clf.fit(X, Y)\n",
        "      y_pred_train = clf.predict(X_train_pca)\n",
        "      acc_train = metrics.accuracy_score(Y_train, y_pred)\n",
        "      y_pred_test = clf.predict(X_test_pca)\n",
        "      acc_test = metrics.accuracy_score(Y_test, y_pred)\n",
        "      acc_test_clsfs.append(acc_test)\n",
        "    maxpos = acc.index(max(acc_test_clsfs))\n",
        "  # hier moet nog dat het die plek van deze classifier is \n",
        "\n",
        "clsfs_final = [RandomForestClassifier(n_estimators = n_tree(n_tree[maxpos]))]\n",
        "\n",
        "# First make plot without classifiers:\n",
        "num = 0\n",
        "fig = plt.figure(figsize=(24,8*len(clsfs)))\n",
        "for X, Y in zip(Xs, Ys):\n",
        "    ax = fig.add_subplot(7, 3, num + 1)\n",
        "    ax.scatter(X[:, 0], X[:, 1], marker='o', c=Y,\n",
        "        s=25, edgecolor='k', cmap=plt.cm.Paired)\n",
        "    num += 1\n",
        "    \n",
        "# Now use the classifiers on all datasets\n",
        "for clf in clsfs:\n",
        "    for X, Y in zip(Xs, Ys):\n",
        "        clf.fit(X, Y)\n",
        "        ax = fig.add_subplot(7, 3, num + 1)\n",
        "        ax.scatter(X[:, 0], X[:, 1], marker='o', c=Y,\n",
        "            s=25, edgecolor='k', cmap=plt.cm.Paired)\n",
        "        colorplot(clf, ax, X[:, 0], X[:, 1])\n",
        "        y_pred = clf.predict(X)\n",
        "        t = (\"Misclassified: %d / %d\" % ((Y != y_pred).sum(), X.shape[0]))\n",
        "        ax.set_title(t)\n",
        "        num += 1"
      ],
      "execution_count": 0,
      "outputs": [
        {
          "output_type": "stream",
          "text": [
            "False\n"
          ],
          "name": "stdout"
        }
      ]
    },
    {
      "cell_type": "code",
      "metadata": {
        "id": "OF9D8tov5dlz",
        "colab_type": "code",
        "colab": {}
      },
      "source": [
        ""
      ],
      "execution_count": 0,
      "outputs": []
    }
  ]
}