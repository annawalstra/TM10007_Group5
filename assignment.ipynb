{
  "nbformat": 4,
  "nbformat_minor": 0,
  "metadata": {
    "colab": {
      "name": "assignment.ipynb",
      "provenance": [],
      "collapsed_sections": []
    },
    "kernelspec": {
      "display_name": "Python 3",
      "language": "python",
      "name": "python3"
    },
    "language_info": {
      "codemirror_mode": {
        "name": "ipython",
        "version": 3
      },
      "file_extension": ".py",
      "mimetype": "text/x-python",
      "name": "python",
      "nbconvert_exporter": "python",
      "pygments_lexer": "ipython3",
      "version": "3.7.4"
    }
  },
  "cells": [
    {
      "cell_type": "markdown",
      "metadata": {
        "colab_type": "text",
        "id": "7SXpaKwwGe5x"
      },
      "source": [
        "# TM10007 Assignment Group 5"
      ]
    },
    {
      "cell_type": "markdown",
      "metadata": {
        "id": "0nMZZV417dWs",
        "colab_type": "text"
      },
      "source": [
        "Authors: namen studienummer"
      ]
    },
    {
      "cell_type": "code",
      "metadata": {
        "colab_type": "code",
        "id": "CiDn2Sk-VWqE",
        "outputId": "795b6749-a14b-4d20-adb2-aacdc719f093",
        "colab": {
          "base_uri": "https://localhost:8080/",
          "height": 70
        }
      },
      "source": [
        "# Run this to use from colab environment\n",
        "!pip install -q --upgrade git+https://github.com/annawalstra/tm10007_Group5.git\n",
        "!pip install simpleITK"
      ],
      "execution_count": 46,
      "outputs": [
        {
          "output_type": "stream",
          "text": [
            "  Building wheel for brats (setup.py) ... \u001b[?25l\u001b[?25hdone\n",
            "Requirement already satisfied: simpleITK in /usr/local/lib/python3.6/dist-packages (1.2.4)\n"
          ],
          "name": "stdout"
        }
      ]
    },
    {
      "cell_type": "markdown",
      "metadata": {
        "id": "WK9m4YpjyWu6",
        "colab_type": "text"
      },
      "source": [
        "## **Data loading and cleaning**\n",
        "\n"
      ]
    },
    {
      "cell_type": "code",
      "metadata": {
        "id": "fy5vCq4RG-O_",
        "colab_type": "code",
        "outputId": "5d442501-e23e-4817-92a3-f7eb2377bba1",
        "colab": {
          "base_uri": "https://localhost:8080/",
          "height": 437
        }
      },
      "source": [
        "# General packages\n",
        "import numpy as np \n",
        "import pandas as pd\n",
        "import matplotlib.pyplot as plt\n",
        "from sklearn import datasets as ds\n",
        "import seaborn\n",
        "\n",
        "# Classifiers\n",
        "from sklearn import model_selection\n",
        "from sklearn import metrics\n",
        "from sklearn import feature_selection \n",
        "from sklearn import preprocessing\n",
        "from sklearn import neighbors\n",
        "from sklearn import svm\n",
        "from sklearn import decomposition\n",
        "from sklearn.model_selection import RandomizedSearchCV\n",
        "from scipy.stats import reciprocal, uniform\n",
        "\n",
        "# Classifiers and kernels\n",
        "from sklearn.neighbors import KNeighborsClassifier\n",
        "from sklearn.ensemble import RandomForestClassifier, VotingClassifier\n",
        "from sklearn.svm import SVC\n",
        "from sklearn.decomposition import PCA, KernelPCA\n",
        "from sklearn.kernel_approximation import RBFSampler\n",
        "from sklearn.metrics.pairwise import rbf_kernel, sigmoid_kernel\n",
        "from sklearn.decomposition import PCA\n",
        "from sklearn.ensemble import ExtraTreesClassifier\n",
        "from sklearn.feature_selection import SelectFromModel\n",
        "\n",
        "# Metrics\n",
        "from sklearn.model_selection import ShuffleSplit\n",
        "from sklearn.model_selection import learning_curve\n",
        "from sklearn.metrics import classification_report\n",
        "\n",
        "# Data loading functions. Uncomment the one you want to use\n",
        "from adni.load_data import load_data\n",
        "data = load_data()\n",
        "print(f'Original data:')\n",
        "print(f'The number of spamples: {len(data.index)}')\n",
        "print(f'The number of columns: {len(data.columns)}')\n",
        "\n",
        "# Creating X and Y \n",
        "X = data.loc[:, data.columns != 'label']\n",
        "Y = data['label']\n",
        "print(f'Data orientation:')\n",
        "print(X.head())\n",
        "print(f'Labels in Y: {Y.head()}')\n",
        "\n",
        "# Binarize Y labels\n",
        "y_bin = preprocessing.label_binarize(Y, ['CN','AD'])\n",
        "y_bin = [i[0] for i in y_bin]\n",
        "print(f'Labels binarized: {y_bin[:10]}')\n",
        "\n",
        "# Deleting features with only zeros\n",
        "X = X.loc[:, (X != 0).any(axis=0)]\n",
        "print(f'DATA CLEANING')\n",
        "print(f'Deleting columns filled with zeros:')\n",
        "print(f'The number of spamples: {len(X.index)}')\n",
        "print(f'The number of columns: {len(X.columns)}')\n",
        "\n",
        "# Split the dataset in train and test part\n",
        "X_train, X_test, Y_train, Y_test = model_selection.train_test_split(X, y_bin, test_size=0.2, stratify=y_bin)\n"
      ],
      "execution_count": 47,
      "outputs": [
        {
          "output_type": "stream",
          "text": [
            "Original data:\n",
            "The number of spamples: 855\n",
            "The number of columns: 268\n",
            "Data orientation:\n",
            "                     hf_energy  ...  vf_Frangi_inner_std_SR(1.0, 10.0)_SS2.0\n",
            "ID                              ...                                         \n",
            "0_002_S_0413_bl_0  5403.229408  ...                             4.207831e-10\n",
            "0_002_S_0559_bl_0   922.459760  ...                             3.137258e-10\n",
            "0_002_S_0619_bl_0  1674.765276  ...                             4.219847e-10\n",
            "0_002_S_0685_bl_0  3443.797200  ...                             5.954654e-11\n",
            "0_002_S_0816_bl_0   914.469846  ...                             4.174750e-10\n",
            "\n",
            "[5 rows x 267 columns]\n",
            "Labels in Y: ID\n",
            "0_002_S_0413_bl_0    AD\n",
            "0_002_S_0559_bl_0    AD\n",
            "0_002_S_0619_bl_0    CN\n",
            "0_002_S_0685_bl_0    AD\n",
            "0_002_S_0816_bl_0    CN\n",
            "Name: label, dtype: object\n",
            "Labels binarized: [1, 1, 0, 1, 0, 0, 0, 0, 1, 1]\n",
            "DATA CLEANING\n",
            "Deleting columns filled with zeros:\n",
            "The number of spamples: 855\n",
            "The number of columns: 263\n"
          ],
          "name": "stdout"
        }
      ]
    },
    {
      "cell_type": "markdown",
      "metadata": {
        "id": "q_SnwnibHd4G",
        "colab_type": "text"
      },
      "source": [
        "## **FEATURE SCALING**"
      ]
    },
    {
      "cell_type": "code",
      "metadata": {
        "id": "XHi77gwtHqPH",
        "colab_type": "code",
        "colab": {}
      },
      "source": [
        "# FEATURE SCALING\n",
        "\n",
        "# Options: RobustScaler, StandardScaler, MinMaxScaler\n",
        "\n",
        "# Perform Shapiro-Wilk Test to check if the data is normally/Gaussian distributed\n",
        "#from numpy.random import seed\n",
        "#from numpy.random import randn\n",
        "#from scipy.stats import shapiro\n",
        "# seed the random number generator\n",
        "#seed(1)\n",
        "# generate univariate observations\n",
        "#data = X_train\n",
        "# normality test\n",
        "#stat, p = shapiro(data)\n",
        "#print('Statistics=%.3f, p=%.3f' % (stat, p))\n",
        "# interpret\n",
        "#alpha = 0.05\n",
        "#if p > alpha:\n",
        "# print('Sample looks Gaussian (fail to reject H0)')\n",
        "#else:\n",
        "# print('Sample does not look Gaussian (reject H0)')\n",
        "# Hier kwam uit dat de sample niet Gaussian is dus verder niet naar gekeken\n",
        "\n",
        "# Chosen: Standard scaler \n",
        "scaler = preprocessing.StandardScaler()\n",
        "scaler.fit(X_train)\n",
        "X_train_scaled = scaler.transform(X_train)\n",
        "X_test_scaled = scaler.transform(X_test)"
      ],
      "execution_count": 0,
      "outputs": []
    },
    {
      "cell_type": "markdown",
      "metadata": {
        "id": "dBBhcSj5HsjZ",
        "colab_type": "text"
      },
      "source": [
        "## **Feature Selection/Extration** Option 1\n",
        "\n",
        "L1 and RFE are commented"
      ]
    },
    {
      "cell_type": "code",
      "metadata": {
        "colab_type": "code",
        "id": "-NE_fTbKGe5z",
        "outputId": "c61fc8e7-eca1-4433-b82d-a772eed050a9",
        "colab": {
          "base_uri": "https://localhost:8080/",
          "height": 791
        }
      },
      "source": [
        "#Fitting the PCA algorithm with our Data\n",
        "pca = PCA().fit(X_train_scaled)\n",
        "#Plotting the Cumulative Summation of the Explained Variance\n",
        "plt.figure()\n",
        "plt.plot(np.cumsum(pca.explained_variance_ratio_))\n",
        "plt.xlabel('Number of Components')\n",
        "plt.ylabel('Variance (%)') #for each component\n",
        "plt.title('Dataset Explained Variance')\n",
        "plt.show()\n",
        "\n",
        "# Perform a PCA\n",
        "var = np.cumsum(pca.explained_variance_ratio_) \n",
        "n_components = np.where(var > 0.95)[0][0]\n",
        "print(f\"Nr. of components:{n_components}\")\n",
        "\n",
        "# Perform a PCA\n",
        "pca = decomposition.PCA(n_components=n_components)\n",
        "pca.fit(X_train_scaled)\n",
        "X_train_pca = pca.transform(X_train_scaled)\n",
        "X_test_pca = pca.transform(X_test_scaled)\n",
        "\n",
        "# # Use the selectfrommodel module: L1 Select all features with a weight above the median.\n",
        "# from sklearn.feature_selection import SelectFromModel\n",
        "# from sklearn.linear_model import Lasso, RidgeClassifier\n",
        "# selector = SelectFromModel(estimator=Lasso(alpha=10**(-5)), threshold='median')\n",
        "# selector.fit(X_train_scaled, Y_train)\n",
        "# n_original = X_train_scaled.shape[1]\n",
        "# X_train_L1 = selector.transform(X_train_scaled)\n",
        "# X_test_L1 = selector.transform(X_test_scaled)\n",
        "# n_selected = X_train_L1.shape[1]\n",
        "# print(f\"Selected {n_selected} from {n_original} features.\")\n",
        "\n",
        "#Plot first feature PCA for visualization\n",
        "fig = plt.figure(figsize=(24,8))\n",
        "ax = fig.add_subplot(131)\n",
        "ax.set_title(\"PCA\", fontsize='small')\n",
        "ax.scatter(X_train_pca[:, 0], X_train_pca[:, 1], marker='o', c=Y_train,\n",
        "            s=25, edgecolor='k', cmap=plt.cm.Paired)\n",
        "\n",
        "\n",
        "# #Plot first feature L1 selection\n",
        "#fig = plt.figure(figsize=(24,8))\n",
        "#ax = fig.add_subplot(132)\n",
        "#ax.set_title(\"L1\", fontsize='small')\n",
        "#ax.scatter(X_train_L1[:, 0], X_train_L1[:, 1], marker='o', c=Y_train,\n",
        "        #     s=25, edgecolor='k', cmap=plt.cm.Paired)\n",
        "\n",
        "\n",
        "# Recursive Feature Elimination (RFE)\n",
        "\n",
        "# Create the RFE object and compute a cross-validated score\n",
        "#svc = svm.SVC(kernel=\"linear\")\n",
        "\n",
        "# classifications\n",
        "#rfecv = feature_selection.RFECV(\n",
        "#    estimator=svc, step=1, \n",
        "#    cv=model_selection.StratifiedKFold(4),\n",
        "#    scoring='roc_auc')\n",
        "#rfecv.fit(X_train_scaled, Y_train)\n",
        "\n",
        "# Plot number of features VS. cross-validation scores\n",
        "#plt.figure()\n",
        "#plt.xlabel(\"Number of features selected\")\n",
        "#plt.ylabel(\"Cross validation score (nb of correct classifications)\")\n",
        "#plt.plot(range(1, len(rfecv.grid_scores_) + 1), rfecv.grid_scores_)\n",
        "#plt.show()\n",
        "\n",
        "\n",
        "# Crossvalidation for parameter tuning\n",
        "cv_10fold = model_selection.StratifiedKFold(n_splits=10)"
      ],
      "execution_count": 0,
      "outputs": [
        {
          "output_type": "display_data",
          "data": {
            "image/png": "[encoded data removed]",
            "text/plain": [
              "<Figure size 432x288 with 1 Axes>"
            ]
          },
          "metadata": {
            "tags": []
          }
        },
        {
          "output_type": "stream",
          "text": [
            "Nr. of components:66\n"
          ],
          "name": "stdout"
        },
        {
          "output_type": "display_data",
          "data": {
            "image/png": "[encoded data removed]",
            "text/plain": [
              "<Figure size 1728x576 with 1 Axes>"
            ]
          },
          "metadata": {
            "tags": []
          }
        }
      ]
    },
    {
      "cell_type": "markdown",
      "metadata": {
        "id": "-kqI_GxHGyFA",
        "colab_type": "text"
      },
      "source": [
        "##**FEATURE SELECTION option 2**\n",
        "## **!!! Run dit alleen als je PCA met RF feature importance wilt toepassen !!!**\n",
        "\n",
        "First features are selected based on their importance, calculated with a Random Forest classifier.\n",
        "Secondly, PCA is performed and the remaining features contain 95% of the variance."
      ]
    },
    {
      "cell_type": "code",
      "metadata": {
        "id": "P43m11KOG1Ub",
        "colab_type": "code",
        "outputId": "f5a78688-5b7f-42d1-b1f4-24ad6901bb6c",
        "colab": {
          "base_uri": "https://localhost:8080/",
          "height": 891
        }
      },
      "source": [
        "print(X_train_scaled.shape)\n",
        "\n",
        "clf = ExtraTreesClassifier(n_estimators=50)\n",
        "clf = clf.fit(X_train_scaled, Y_train)\n",
        "clf.feature_importances_ \n",
        "\n",
        "# Plot the feature importances of the forest\n",
        "importances = clf.feature_importances_ \n",
        "indices = np.argsort(importances)[::-1]\n",
        "std = np.std([tree.feature_importances_ for tree in clf.estimators_],\n",
        "             axis=0)\n",
        "plt.figure()\n",
        "plt.title(\"Feature importances\")\n",
        "plt.bar(range(X_train_scaled.shape[1]), importances[indices],\n",
        "       color=\"r\", yerr=std[indices], align=\"center\")\n",
        "plt.xticks(range(X_train_scaled.shape[1]), indices)\n",
        "plt.xlim([-1, X_train_scaled.shape[1]])\n",
        "plt.show()\n",
        "\n",
        "model = SelectFromModel(clf, prefit=True, threshold= \"1*mean\")\n",
        "X_new = model.transform(X_train_scaled)\n",
        "X_new_test = model.transform(X_test_scaled)\n",
        "\n",
        "print(X_new.shape) \n",
        "print(f\"Nr. of features after RF feature importance:{X_new.shape[1]}\")\n",
        "\n",
        "#Fitting the PCA algorithm with our Data\n",
        "pca = PCA().fit(X_new)\n",
        "#Plotting the Cumulative Summation of the Explained Variance\n",
        "plt.figure()\n",
        "plt.plot(np.cumsum(pca.explained_variance_ratio_))\n",
        "plt.xlabel('Number of Components')\n",
        "plt.ylabel('Variance (%)') #for each component\n",
        "plt.title('Dataset Explained Variance')\n",
        "plt.show()\n",
        "\n",
        "# Perform a PCA\n",
        "var = np.cumsum(pca.explained_variance_ratio_) \n",
        "n_components = np.where(var > 0.97)[0][0]\n",
        "print(f\"Nr. of features after PCA:{n_components}\")\n",
        "\n",
        "# Perform a PCA\n",
        "pca = decomposition.PCA(n_components=n_components)\n",
        "pca.fit(X_new)\n",
        "X_pca_train = pca.transform(X_new)\n",
        "X_pca_test = pca.transform(X_new_test)\n",
        "\n",
        "# Plot importances of PCA selected features\n",
        "clf = ExtraTreesClassifier(n_estimators=50)\n",
        "clf = clf.fit(X_pca_train, Y_train)\n",
        "clf.feature_importances_ \n",
        "\n",
        "# Plot the feature importances of the forest\n",
        "importances = clf.feature_importances_ \n",
        "indices = np.argsort(importances)[::-1]\n",
        "std = np.std([tree.feature_importances_ for tree in clf.estimators_],\n",
        "             axis=0)\n",
        "plt.figure()\n",
        "plt.title(\"Feature importances after PCA\")\n",
        "plt.bar(range(X_pca_train.shape[1]), importances[indices],\n",
        "       color=\"r\", yerr=std[indices], align=\"center\")\n",
        "plt.xticks(range(X_pca_train.shape[1]), indices)\n",
        "plt.xlim([-1, X_pca_train.shape[1]])\n",
        "plt.show()"
      ],
      "execution_count": 0,
      "outputs": [
        {
          "output_type": "stream",
          "text": [
            "(684, 263)\n"
          ],
          "name": "stdout"
        },
        {
          "output_type": "display_data",
          "data": {
            "image/png": "[encoded data removed]",
            "text/plain": [
              "<Figure size 432x288 with 1 Axes>"
            ]
          },
          "metadata": {
            "tags": []
          }
        },
        {
          "output_type": "stream",
          "text": [
            "(684, 58)\n",
            "Nr. of features after RF feature importance:58\n"
          ],
          "name": "stdout"
        },
        {
          "output_type": "display_data",
          "data": {
            "image/png": "[encoded data removed]",
            "text/plain": [
              "<Figure size 432x288 with 1 Axes>"
            ]
          },
          "metadata": {
            "tags": []
          }
        },
        {
          "output_type": "stream",
          "text": [
            "Nr. of features after PCA:22\n"
          ],
          "name": "stdout"
        },
        {
          "output_type": "display_data",
          "data": {
            "image/png": "[encoded data removed]",
            "text/plain": [
              "<Figure size 432x288 with 1 Axes>"
            ]
          },
          "metadata": {
            "tags": []
          }
        }
      ]
    },
    {
      "cell_type": "markdown",
      "metadata": {
        "id": "tGF-JiyBIK8H",
        "colab_type": "text"
      },
      "source": [
        "## Function **Learning Curve**"
      ]
    },
    {
      "cell_type": "code",
      "metadata": {
        "id": "5cHohTVzJc6e",
        "colab_type": "code",
        "colab": {}
      },
      "source": [
        "def plot_learning_curve(estimator, title, X, y, axes, ylim=None, cv=None,\n",
        "                        n_jobs=None, train_sizes=np.linspace(.1, 1.0, 5)):\n",
        "    \"\"\"\n",
        "    Generate 3 plots: the test and training learning curve, the training\n",
        "    samples vs fit times curve, the fit times vs score curve.\n",
        "\n",
        "    Parameters\n",
        "    ----------\n",
        "    estimator : object type that implements the \"fit\" and \"predict\" methods\n",
        "        An object of that type which is cloned for each validation.\n",
        "\n",
        "    title : string\n",
        "        Title for the chart.\n",
        "\n",
        "    X : array-like, shape (n_samples, n_features)\n",
        "        Training vector, where n_samples is the number of samples and\n",
        "        n_features is the number of features.\n",
        "\n",
        "    y : array-like, shape (n_samples) or (n_samples, n_features), optional\n",
        "        Target relative to X for classification or regression;\n",
        "        None for unsupervised learning.\n",
        "\n",
        "    axes : array of 3 axes, optional (default=None)\n",
        "        Axes to use for plotting the curves.\n",
        "\n",
        "    ylim : tuple, shape (ymin, ymax), optional\n",
        "        Defines minimum and maximum yvalues plotted.\n",
        "\n",
        "    cv : int, cross-validation generator or an iterable, optional\n",
        "        Determines the cross-validation splitting strategy.\n",
        "        Possible inputs for cv are:\n",
        "          - None, to use the default 5-fold cross-validation,\n",
        "          - integer, to specify the number of folds.\n",
        "          - :term:`CV splitter`,\n",
        "          - An iterable yielding (train, test) splits as arrays of indices.\n",
        "\n",
        "        For integer/None inputs, if ``y`` is binary or multiclass,\n",
        "        :class:`StratifiedKFold` used. If the estimator is not a classifier\n",
        "        or if ``y`` is neither binary nor multiclass, :class:`KFold` is used.\n",
        "\n",
        "        Refer :ref:`User Guide <cross_validation>` for the various\n",
        "        cross-validators that can be used here.\n",
        "\n",
        "    n_jobs : int or None, optional (default=None)\n",
        "        Number of jobs to run in parallel.\n",
        "        ``None`` means 1 unless in a :obj:`joblib.parallel_backend` context.\n",
        "        ``-1`` means using all processors. See :term:`Glossary <n_jobs>`\n",
        "        for more details.\n",
        "\n",
        "    train_sizes : array-like, shape (n_ticks,), dtype float or int\n",
        "        Relative or absolute numbers of training examples that will be used to\n",
        "        generate the learning curve. If the dtype is float, it is regarded as a\n",
        "        fraction of the maximum size of the training set (that is determined\n",
        "        by the selected validation method), i.e. it has to be within (0, 1].\n",
        "        Otherwise it is interpreted as absolute sizes of the training sets.\n",
        "        Note that for classification the number of samples usually have to\n",
        "        be big enough to contain at least one sample from each class.\n",
        "        (default: np.linspace(0.1, 1.0, 5))\n",
        "    \"\"\"\n",
        "\n",
        "    axes.set_title(title)\n",
        "    if ylim is not None:\n",
        "        axes.set_ylim(*ylim)\n",
        "    axes.set_xlabel(\"Training examples\")\n",
        "    axes.set_ylabel(\"Score\")\n",
        "\n",
        "    train_sizes, train_scores, test_scores  = \\\n",
        "        learning_curve(estimator, X, y, cv=cv, n_jobs=n_jobs,\n",
        "                       train_sizes=train_sizes)\n",
        "    train_scores_mean = np.mean(train_scores, axis=1)\n",
        "    train_scores_std = np.std(train_scores, axis=1)\n",
        "    test_scores_mean = np.mean(test_scores, axis=1)\n",
        "    test_scores_std = np.std(test_scores, axis=1)\n",
        "\n",
        "    # Plot learning curve\n",
        "    axes.grid()\n",
        "    axes.fill_between(train_sizes, train_scores_mean - train_scores_std,\n",
        "                         train_scores_mean + train_scores_std, alpha=0.1,\n",
        "                         color=\"r\")\n",
        "    axes.fill_between(train_sizes, test_scores_mean - test_scores_std,\n",
        "                       test_scores_mean + test_scores_std, alpha=0.1,\n",
        "                         color=\"g\")\n",
        "    axes.plot(train_sizes, train_scores_mean, 'o-', color=\"r\",\n",
        "                 label=\"Training score\")\n",
        "    axes.plot(train_sizes, test_scores_mean, 'o-', color=\"g\",\n",
        "                 label=\"Cross-validation score\")\n",
        "    axes.legend(loc=\"best\")\n",
        "\n",
        "    return plt"
      ],
      "execution_count": 0,
      "outputs": []
    },
    {
      "cell_type": "markdown",
      "metadata": {
        "id": "SgtMEyyJb6BZ",
        "colab_type": "text"
      },
      "source": [
        "## KNN Classifier\n",
        "\n",
        "Waarde voor k wisselt erg vaak!\n"
      ]
    },
    {
      "cell_type": "code",
      "metadata": {
        "id": "6N-xw5GccCNu",
        "colab_type": "code",
        "outputId": "dea65fe2-ab26-4f22-a67b-3d6166504a5b",
        "colab": {
          "base_uri": "https://localhost:8080/",
          "height": 715
        }
      },
      "source": [
        "#Hyperparameters that we want to tune.\n",
        "leaf_size = list(range(1,50))\n",
        "n_neighbors = list(range(1,50))\n",
        "p=[1,2]\n",
        "hyperparameters = dict(n_neighbors=n_neighbors,leaf_size=leaf_size, p=p)\n",
        "\n",
        "#Create kNN object\n",
        "knn = neighbors.KNeighborsClassifier()\n",
        "\n",
        "#Use RandomizedSearch to tune hyperparameters\n",
        "random_search = model_selection.RandomizedSearchCV(knn, hyperparameters, cv=cv_10fold)\n",
        "\n",
        "#Fit the model\n",
        "best_model = random_search.fit(X_train_pca,Y_train)\n",
        "clf = random_search.best_estimator_\n",
        "\n",
        "#Print The value of best Hyperparameters\n",
        "print('Best leaf_size:', best_model.best_estimator_.get_params()['leaf_size'])\n",
        "print('Best p:', best_model.best_estimator_.get_params()['p'])\n",
        "print('Best n_neighbors:', best_model.best_estimator_.get_params()['n_neighbors'])\n",
        "print(clf)\n",
        "\n",
        "# Test training dataset\n",
        "y_pred_train = clf.predict(X_train_pca)\n",
        "print(classification_report(Y_train, y_pred_train))\n",
        "\n",
        "# Test test dataset\n",
        "y_pred = clf.predict(X_test_pca)\n",
        "print(classification_report(Y_test, y_pred))\n",
        "\n",
        "#Learning curve\n",
        "plt.show()\n",
        "title = str(type(clf))\n",
        "fig, ax = plt.subplots()\n",
        "cv = ShuffleSplit(n_splits=10, test_size=0.2, random_state=0)\n",
        "plot_learning_curve(clf, title, X_train_pca, Y_train, ax, ylim=(0.3, 1.01), cv=cv)"
      ],
      "execution_count": 0,
      "outputs": [
        {
          "output_type": "stream",
          "text": [
            "Best leaf_size: 31\n",
            "Best p: 1\n",
            "Best n_neighbors: 34\n",
            "KNeighborsClassifier(algorithm='auto', leaf_size=31, metric='minkowski',\n",
            "                     metric_params=None, n_jobs=None, n_neighbors=34, p=1,\n",
            "                     weights='uniform')\n",
            "              precision    recall  f1-score   support\n",
            "\n",
            "           0       0.82      0.62      0.71       269\n",
            "           1       0.79      0.91      0.85       415\n",
            "\n",
            "    accuracy                           0.80       684\n",
            "   macro avg       0.81      0.77      0.78       684\n",
            "weighted avg       0.80      0.80      0.79       684\n",
            "\n",
            "              precision    recall  f1-score   support\n",
            "\n",
            "           0       0.83      0.57      0.67        67\n",
            "           1       0.77      0.92      0.84       104\n",
            "\n",
            "    accuracy                           0.78       171\n",
            "   macro avg       0.80      0.75      0.76       171\n",
            "weighted avg       0.79      0.78      0.77       171\n",
            "\n"
          ],
          "name": "stdout"
        },
        {
          "output_type": "execute_result",
          "data": {
            "text/plain": [
              "<module 'matplotlib.pyplot' from '/usr/local/lib/python3.6/dist-packages/matplotlib/pyplot.py'>"
            ]
          },
          "metadata": {
            "tags": []
          },
          "execution_count": 9
        },
        {
          "output_type": "display_data",
          "data": {
            "image/png": "[encoded data removed]",
            "text/plain": [
              "<Figure size 432x288 with 1 Axes>"
            ]
          },
          "metadata": {
            "tags": []
          }
        }
      ]
    },
    {
      "cell_type": "markdown",
      "metadata": {
        "id": "CO6550RrcGRd",
        "colab_type": "text"
      },
      "source": [
        "## KNN with Crossvalidation\n",
        "De k wisselt heel erg met elke CV, conclusie: erg afhankelijk van training data wat beste k geeft, dus ....??\n"
      ]
    },
    {
      "cell_type": "code",
      "metadata": {
        "id": "1baCzMI2cKVq",
        "colab_type": "code",
        "outputId": "2836b8b0-0e40-47ac-ded0-0a06a30a4999",
        "colab": {
          "base_uri": "https://localhost:8080/",
          "height": 1000
        }
      },
      "source": [
        "# Create a 20 fold stratified CV iterator\n",
        "cv_20fold = model_selection.StratifiedKFold(n_splits=20)\n",
        "results_kNN = []\n",
        "results_acc_kNN = []\n",
        "best_n_neighbors = []\n",
        "num_kNN = 0\n",
        "\n",
        "# Loop over the folds\n",
        "for validation_index, test_index in cv_20fold.split(X_train_pca, Y_train):\n",
        "    # Split the data properly\n",
        "    X_validation = X_train_pca[validation_index]\n",
        "    y_validation = np.array(Y_train)[validation_index]\n",
        "    \n",
        "    X_test = X_train_pca[test_index]\n",
        "    y_test = np.array(Y_train)[test_index]\n",
        "\n",
        "    # Hyperparameters that we want to tune. (kNN)\n",
        "    leaf_size = list(range(1,50))\n",
        "    n_neighbors = list(range(1,50))\n",
        "    p=[1]\n",
        "    hyperparameters_kNN = dict(n_neighbors=n_neighbors, p=p,leaf_size=leaf_size)\n",
        "\n",
        "    #Create kNN object\n",
        "    knn = neighbors.KNeighborsClassifier()\n",
        "\n",
        "    #Use RandomizedSearch to tune hyperparameters\n",
        "    random_search_kNN = model_selection.RandomizedSearchCV(knn, hyperparameters_kNN, cv=cv_10fold)\n",
        "\n",
        "    #Fit the model\n",
        "    best_model_kNN = random_search_kNN.fit(X_validation,y_validation)\n",
        "    clf_kNN = random_search_kNN.best_estimator_\n",
        "    best_n_neighbors.append(clf_kNN.n_neighbors)\n",
        "\n",
        "    #Print The value of best Hyperparameters\n",
        "    num_kNN = num_kNN +1\n",
        "    print(f'Iteration nr. {num} with best hyperparameters:')\n",
        "    print('Best leaf_size:', best_model_kNN.best_estimator_.get_params()['leaf_size'])\n",
        "    print('Best p:', best_model_kNN.best_estimator_.get_params()['p'])\n",
        "    print('Best n_neighbors:', best_model_kNN.best_estimator_.get_params()['n_neighbors'])   \n",
        "    \n",
        "    # Test the classifier on the validation data\n",
        "    probabilities_validation_kNN = clf_kNN.predict_proba(X_validation)\n",
        "    scores_validation_kNN = probabilities_validation_kNN[:, 1]\n",
        "    \n",
        "    # Test the classifier on the test data\n",
        "    probabilities_kNN = clf_kNN.predict_proba(X_test)\n",
        "    scores_kNN = probabilities_kNN[:, 1]\n",
        "\n",
        "    # Get the accuracy\n",
        "    y_pred_kNN = clf_kNN.predict(X_validation)\n",
        "    accuracy_kNN=metrics.accuracy_score(y_validation, y_pred_kNN)\n",
        "    results_acc_kNN.append({'acc': accuracy_kNN,'set': 'validation'})\n",
        "    y_pred_kNN = clf_kNN.predict(X_test)\n",
        "    accuracy_kNN = metrics.accuracy_score(y_test, y_pred_kNN)\n",
        "    results_acc_kNN.append({'acc': accuracy_kNN,'set': 'test'})\n",
        "    \n",
        "    # Get the auc\n",
        "    auc_kNN = metrics.roc_auc_score(y_test, scores_kNN)\n",
        "    results_kNN.append({'auc': auc_kNN,'k': clf_kNN.n_neighbors,'set': 'test'})       \n",
        "    \n",
        "    # Get the auc\n",
        "    auc_validation_kNN = metrics.roc_auc_score(y_validation, scores_validation_kNN)\n",
        "    results_kNN.append({'auc': auc_validation_kNN,'k': clf_kNN.n_neighbors,'set': 'validation'})\n",
        "    \n",
        "# Create results dataframe and plot it\n",
        "results_kNN = pd.DataFrame(results_kNN)\n",
        "plt.show()\n",
        "seaborn.boxplot(y='auc', x='set', data=results_kNN)\n",
        "plt.show()\n",
        "results_acc_kNN = pd.DataFrame(results_acc_kNN)\n",
        "seaborn.boxplot(y='acc', x='set', data=results_acc_kNN)\n",
        "\n",
        "optimal_n = int(np.median(best_n_neighbors))\n",
        "#print(f\"The optimal N={optimal_n}\")\n",
        "\n",
        "print(classification_report(Y_test, clf_kNN.predict(X_test_pca)))\n",
        "#y_pred = clf.predict(X_test_pca)\n",
        "print(clf_kNN.score(X_test_pca, Y_test))"
      ],
      "execution_count": 0,
      "outputs": [
        {
          "output_type": "stream",
          "text": [
            "Iteration nr. 1 with best hyperparameters:\n",
            "Best leaf_size: 3\n",
            "Best p: 1\n",
            "Best n_neighbors: 35\n",
            "Iteration nr. 2 with best hyperparameters:\n",
            "Best leaf_size: 9\n",
            "Best p: 1\n",
            "Best n_neighbors: 40\n",
            "Iteration nr. 3 with best hyperparameters:\n",
            "Best leaf_size: 15\n",
            "Best p: 1\n",
            "Best n_neighbors: 44\n",
            "Iteration nr. 4 with best hyperparameters:\n",
            "Best leaf_size: 8\n",
            "Best p: 1\n",
            "Best n_neighbors: 39\n",
            "Iteration nr. 5 with best hyperparameters:\n",
            "Best leaf_size: 18\n",
            "Best p: 1\n",
            "Best n_neighbors: 48\n",
            "Iteration nr. 6 with best hyperparameters:\n",
            "Best leaf_size: 10\n",
            "Best p: 1\n",
            "Best n_neighbors: 40\n",
            "Iteration nr. 7 with best hyperparameters:\n",
            "Best leaf_size: 43\n",
            "Best p: 1\n",
            "Best n_neighbors: 48\n",
            "Iteration nr. 8 with best hyperparameters:\n",
            "Best leaf_size: 36\n",
            "Best p: 1\n",
            "Best n_neighbors: 24\n",
            "Iteration nr. 9 with best hyperparameters:\n",
            "Best leaf_size: 45\n",
            "Best p: 1\n",
            "Best n_neighbors: 47\n",
            "Iteration nr. 10 with best hyperparameters:\n",
            "Best leaf_size: 25\n",
            "Best p: 1\n",
            "Best n_neighbors: 41\n",
            "Iteration nr. 11 with best hyperparameters:\n",
            "Best leaf_size: 49\n",
            "Best p: 1\n",
            "Best n_neighbors: 46\n",
            "Iteration nr. 12 with best hyperparameters:\n",
            "Best leaf_size: 12\n",
            "Best p: 1\n",
            "Best n_neighbors: 43\n",
            "Iteration nr. 13 with best hyperparameters:\n",
            "Best leaf_size: 11\n",
            "Best p: 1\n",
            "Best n_neighbors: 43\n",
            "Iteration nr. 14 with best hyperparameters:\n",
            "Best leaf_size: 18\n",
            "Best p: 1\n",
            "Best n_neighbors: 48\n",
            "Iteration nr. 15 with best hyperparameters:\n",
            "Best leaf_size: 21\n",
            "Best p: 1\n",
            "Best n_neighbors: 29\n",
            "Iteration nr. 16 with best hyperparameters:\n",
            "Best leaf_size: 21\n",
            "Best p: 1\n",
            "Best n_neighbors: 38\n",
            "Iteration nr. 17 with best hyperparameters:\n",
            "Best leaf_size: 33\n",
            "Best p: 1\n",
            "Best n_neighbors: 38\n",
            "Iteration nr. 18 with best hyperparameters:\n",
            "Best leaf_size: 15\n",
            "Best p: 1\n",
            "Best n_neighbors: 47\n",
            "Iteration nr. 19 with best hyperparameters:\n",
            "Best leaf_size: 16\n",
            "Best p: 1\n",
            "Best n_neighbors: 44\n",
            "Iteration nr. 20 with best hyperparameters:\n",
            "Best leaf_size: 36\n",
            "Best p: 1\n",
            "Best n_neighbors: 14\n"
          ],
          "name": "stdout"
        },
        {
          "output_type": "display_data",
          "data": {
            "image/png": "[encoded data removed]",
            "text/plain": [
              "<Figure size 432x288 with 1 Axes>"
            ]
          },
          "metadata": {
            "tags": []
          }
        },
        {
          "output_type": "stream",
          "text": [
            "              precision    recall  f1-score   support\n",
            "\n",
            "           0       0.79      0.63      0.70        67\n",
            "           1       0.79      0.89      0.84       104\n",
            "\n",
            "    accuracy                           0.79       171\n",
            "   macro avg       0.79      0.76      0.77       171\n",
            "weighted avg       0.79      0.79      0.78       171\n",
            "\n",
            "0.7894736842105263\n"
          ],
          "name": "stdout"
        },
        {
          "output_type": "display_data",
          "data": {
            "image/png": "[encoded data removed]",
            "text/plain": [
              "<Figure size 432x288 with 1 Axes>"
            ]
          },
          "metadata": {
            "tags": []
          }
        }
      ]
    },
    {
      "cell_type": "markdown",
      "metadata": {
        "id": "r9TA2vNS7f8v",
        "colab_type": "text"
      },
      "source": [
        "# Support Vector Machine (SVM) Classifier \n",
        "\n"
      ]
    },
    {
      "cell_type": "code",
      "metadata": {
        "id": "qH-LQ_iw7I6W",
        "colab_type": "code",
        "outputId": "14810923-b2bd-47a5-8a66-90a4f867516c",
        "colab": {
          "base_uri": "https://localhost:8080/",
          "height": 698
        }
      },
      "source": [
        "from sklearn.model_selection import RandomizedSearchCV\n",
        "from sklearn.svm import LinearSVC\n",
        "from sklearn.metrics import classification_report\n",
        " \n",
        "  \n",
        "# defining parameter range \n",
        "param_grid = {'C': [0.01, 0.5, 1],  \n",
        "              'gamma': [1, 0.1, 0.01], \n",
        "              'kernel': ['linear', 'rbf', 'poly'],\n",
        "              'coef0': [0.01, 0.5, 1],\n",
        "              'degree': [1, 3, 5]}  \n",
        "\n",
        "# For now: 3 options for kernels implemented: linear rbf and poly\n",
        "# Other options on kernels:\n",
        "# - sampler, for example: first use RBF sampler, then linear kernel\n",
        "# - manually constructed kernel function?\n",
        "# - precomputed kernel\n",
        "# - sigmoid kernel\n",
        "\n",
        "\n",
        "grid = RandomizedSearchCV(SVC(probability=True), param_grid, refit=True, verbose=False, cv=cv_10fold) \n",
        "  \n",
        "# fitting the model for grid search \n",
        "best_model = grid.fit(X_train_pca, Y_train) \n",
        "clf = grid.best_estimator_\n",
        "\n",
        "\n",
        "print('Best slack parameter C:', grid.best_estimator_.get_params()['C'])\n",
        "print('Best gamma:', grid.best_estimator_.get_params()['gamma'])\n",
        "print('Best kernel:', grid.best_estimator_.get_params()['kernel'])\n",
        "print('Best coef0:', grid.best_estimator_.get_params()['coef0'])\n",
        "print('Best degree:', grid.best_estimator_.get_params()['degree'])\n",
        "\n",
        "# Classification report (training data)\n",
        "y_pred_train = clf.predict(X_train_pca)\n",
        "print(classification_report(Y_train, y_pred_train))\n",
        "\n",
        "# Classification report (test data)\n",
        "y_pred_test = clf.predict(X_test_pca)\n",
        "print(classification_report(Y_test, y_pred_test))\n",
        "\n",
        "# Learning curve\n",
        "plt.show()\n",
        "title = str(type(clf))\n",
        "fig, ax = plt.subplots()\n",
        "cv = ShuffleSplit(n_splits=10, test_size=0.2, random_state=0)\n",
        "plot_learning_curve(clf, title, X_train_pca, Y_train, ax, ylim=(0.3, 1.01), cv=cv)\n"
      ],
      "execution_count": 0,
      "outputs": [
        {
          "output_type": "stream",
          "text": [
            "Best slack parameter C: 1\n",
            "Best gamma: 0.1\n",
            "Best kernel: linear\n",
            "Best coef0: 0.5\n",
            "Best degree: 1\n",
            "              precision    recall  f1-score   support\n",
            "\n",
            "           0       0.85      0.74      0.79       269\n",
            "           1       0.85      0.92      0.88       415\n",
            "\n",
            "    accuracy                           0.85       684\n",
            "   macro avg       0.85      0.83      0.84       684\n",
            "weighted avg       0.85      0.85      0.85       684\n",
            "\n",
            "              precision    recall  f1-score   support\n",
            "\n",
            "           0       0.81      0.70      0.75        67\n",
            "           1       0.82      0.89      0.86       104\n",
            "\n",
            "    accuracy                           0.82       171\n",
            "   macro avg       0.82      0.80      0.80       171\n",
            "weighted avg       0.82      0.82      0.82       171\n",
            "\n"
          ],
          "name": "stdout"
        },
        {
          "output_type": "execute_result",
          "data": {
            "text/plain": [
              "<module 'matplotlib.pyplot' from '/usr/local/lib/python3.6/dist-packages/matplotlib/pyplot.py'>"
            ]
          },
          "metadata": {
            "tags": []
          },
          "execution_count": 11
        },
        {
          "output_type": "display_data",
          "data": {
            "image/png": "[encoded data removed]",
            "text/plain": [
              "<Figure size 432x288 with 1 Axes>"
            ]
          },
          "metadata": {
            "tags": []
          }
        }
      ]
    },
    {
      "cell_type": "markdown",
      "metadata": {
        "id": "qaiieExNS4wO",
        "colab_type": "text"
      },
      "source": [
        "# SVM with cross-validation"
      ]
    },
    {
      "cell_type": "code",
      "metadata": {
        "id": "l1sM65IAS8Uq",
        "colab_type": "code",
        "outputId": "a14bb662-bfc8-4d45-c42d-1e3693d4a216",
        "colab": {
          "base_uri": "https://localhost:8080/",
          "height": 1000
        }
      },
      "source": [
        "from sklearn.metrics import classification_report\n",
        "\n",
        "# Create a 20 fold stratified CV iterator\n",
        "cv_20fold = model_selection.StratifiedKFold(n_splits=20)\n",
        "results_SVM = []\n",
        "results_acc_SVM = []\n",
        "best_C = []\n",
        "best_gamma = []\n",
        "best_kernel = []\n",
        "best_coef0 = []\n",
        "best_degree = []\n",
        "num_SVM = 0\n",
        "\n",
        "# Program to find most frequent  \n",
        "# element in a list \n",
        "#def most_frequent(List): \n",
        "#    return max(set(List), key = List.count) \n",
        "\n",
        "# Loop over the folds\n",
        "for validation_index, test_index in cv_20fold.split(X_train_pca, Y_train):\n",
        "    # Split the data properly\n",
        "    X_validation = X_train_pca[validation_index]\n",
        "    Y_validation = np.array(Y_train)[validation_index]\n",
        "    \n",
        "    X_test = X_train_pca[test_index]\n",
        "    y_test = np.array(Y_train)[test_index]\n",
        "    \n",
        "    \n",
        "    # Hyperparameters that we want to tune\n",
        "    param_grid_SVM = {'C': [0.01, 0.05, 0.5, 1],  \n",
        "              'gamma': [1.2, 1, 0.1, 0.05, 0.01], \n",
        "              'kernel': ['linear', 'rbf', 'poly'],\n",
        "              'coef0': [0.01, 0.1, 0.5, 1, 1.2],\n",
        "              'degree': [0.5, 1, 3, 5]}\n",
        "\n",
        "    # Use RandomizedSearch to tune hyperparameters\n",
        "    grid_SVM = RandomizedSearchCV(SVC(probability=True), param_grid_SVM, refit=True, verbose=False, cv=cv_10fold, scoring='roc_auc')  \n",
        "    \n",
        "    # Fit the model\n",
        "    best_model_SVM = grid_SVM.fit(X_validation, Y_validation)\n",
        "    clf_SVM  = grid_SVM.best_estimator_\n",
        "\n",
        "    # Print the value of best hyperparameters\n",
        "    \n",
        "    num_SVM = num_SVM +1\n",
        "    print(f'Iteration nr. {num_SVM} with best hyperparameters:')\n",
        "    print(f'Best slack parameter (C): {clf_SVM.C}')\n",
        "    print(f'Best gamma: {clf_SVM.gamma}')\n",
        "    print(f'Best kernel: {clf_SVM.kernel}')\n",
        "    print(f'Best coef0: {clf_SVM.coef0}')\n",
        "    print(f'Best degree: {clf_SVM.degree}')\n",
        "\n",
        "    #best_C.append(clf_SVM.C)\n",
        "    #best_gamma.append(clf_SVM.gamma)\n",
        "    #best_kernel.append(clf_SVM.kernel)\n",
        "    #best_coef0.append(clf_SVM.coef0)\n",
        "    #best_degree.append(clf_SVM.degree)\n",
        "    \n",
        "    # Test the classifier on the validation data\n",
        "    probabilities_validation_SVM = clf_SVM.predict_proba(X_validation)\n",
        "    scores_validation_SVM = probabilities_validation_SVM[:, 1]\n",
        "\n",
        "    # Test the classifier on the test data\n",
        "    probabilities_SVM = clf_SVM.predict_proba(X_test)\n",
        "    scores_SVM = probabilities_SVM[:, 1]\n",
        "\n",
        "    # Get the accuracy\n",
        "    Y_pred_SVM = clf_SVM.predict(X_validation)\n",
        "    accuracy_SVM=metrics.accuracy_score(Y_validation, Y_pred_SVM)\n",
        "    results_acc_SVM.append({'acc': accuracy_SVM,'set': 'validation'})\n",
        "    Y_pred_SVM = clf_SVM.predict(X_test)\n",
        "    accuracy_SVM = metrics.accuracy_score(y_test, Y_pred_SVM)\n",
        "    results_acc_SVM.append({'acc': accuracy_SVM,'set': 'test'})\n",
        "\n",
        "    \n",
        "    # Get the auc\n",
        "    auc_SVM = metrics.roc_auc_score(y_test, scores_SVM)\n",
        "    results_SVM.append({'auc': auc_SVM,'C': clf_SVM.C, 'gamma': clf_SVM.gamma, \n",
        "                    'kernel': clf_SVM.kernel, 'coef0': clf_SVM.coef0, \n",
        "                    'degree': clf_SVM.degree,'set': 'test'})\n",
        "    \n",
        "    \n",
        "    \n",
        "    # Get the auc\n",
        "    auc_validation_SVM = metrics.roc_auc_score(Y_validation, scores_validation_SVM)\n",
        "    results_SVM.append({\n",
        "        'auc': auc_validation_SVM,\n",
        "        'C': clf_SVM.C,\n",
        "        'gamma': clf_SVM.gamma,\n",
        "        'kernel': clf_SVM.kernel,\n",
        "        'coef0': clf_SVM.coef0,\n",
        "        'degree': clf_SVM.degree,\n",
        "        'set': 'validation'\n",
        "    })\n",
        "    \n",
        "# Create results dataframe and plot it\n",
        "results_SVM = pd.DataFrame(results_SVM)\n",
        "plt.show()\n",
        "seaborn.boxplot(y='auc', x='set', data=results_SVM)\n",
        "plt.show()\n",
        "results_acc_SVM = pd.DataFrame(results_acc_SVM)\n",
        "seaborn.boxplot(y='acc', x='set', data=results_acc_SVM)\n",
        "\n",
        "#optimal_C = (np.mean(best_C))\n",
        "#print(f\"The optimal C={optimal_C:.1f}\")\n",
        "#optimal_gamma = (np.mean(best_gamma))\n",
        "#print(f\"The optimal gamma={optimal_gamma:.1f}\")\n",
        "#optimal_kernel = (most_frequent(best_kernel)) \n",
        "#print(f\"The optimal kernel={optimal_kernel}\")\n",
        "#optimal_coef0 = (np.mean(best_coef0))\n",
        "#print(f\"The optimal coef0={optimal_coef0:.1f}\")\n",
        "#optimal_degree = (np.mean(best_degree))\n",
        "#print(f\"The optimal degree={optimal_degree:.1f}\")\n",
        "\n",
        "#grid = SVC(C=round(optimal_C,2), gamma=round(optimal_gamma,2), kernel=optimal_kernel,\n",
        "          #coef0=round(optimal_coef0,2), degree=round(optimal_degree,2))\n",
        "\n",
        "# fitting the model for grid search \n",
        "# clf_SVM = grid.fit(X_train_pca, Y_train) \n",
        "\n",
        "\n",
        "print(classification_report(Y_test, clf_SVM.predict(X_test_pca)))\n",
        "#y_pred = clf_SVM.predict(X_test_pca)\n",
        "print(clf_SVM.score(X_test_pca, Y_test))\n"
      ],
      "execution_count": 0,
      "outputs": [
        {
          "output_type": "stream",
          "text": [
            "Iteration nr. 1 with best hyperparameters:\n",
            "Best slack parameter (C): 0.05\n",
            "Best gamma: 0.05\n",
            "Best kernel: linear\n",
            "Best coef0: 0.01\n",
            "Best degree: 5\n",
            "Iteration nr. 2 with best hyperparameters:\n",
            "Best slack parameter (C): 1\n",
            "Best gamma: 0.1\n",
            "Best kernel: rbf\n",
            "Best coef0: 1.2\n",
            "Best degree: 0.5\n",
            "Iteration nr. 3 with best hyperparameters:\n",
            "Best slack parameter (C): 0.5\n",
            "Best gamma: 0.05\n",
            "Best kernel: poly\n",
            "Best coef0: 1\n",
            "Best degree: 5\n",
            "Iteration nr. 4 with best hyperparameters:\n",
            "Best slack parameter (C): 0.05\n",
            "Best gamma: 1\n",
            "Best kernel: linear\n",
            "Best coef0: 0.5\n",
            "Best degree: 3\n",
            "Iteration nr. 5 with best hyperparameters:\n",
            "Best slack parameter (C): 0.05\n",
            "Best gamma: 0.01\n",
            "Best kernel: linear\n",
            "Best coef0: 1.2\n",
            "Best degree: 5\n",
            "Iteration nr. 6 with best hyperparameters:\n",
            "Best slack parameter (C): 0.05\n",
            "Best gamma: 0.05\n",
            "Best kernel: linear\n",
            "Best coef0: 0.5\n",
            "Best degree: 3\n",
            "Iteration nr. 7 with best hyperparameters:\n",
            "Best slack parameter (C): 0.5\n",
            "Best gamma: 0.01\n",
            "Best kernel: linear\n",
            "Best coef0: 0.01\n",
            "Best degree: 1\n",
            "Iteration nr. 8 with best hyperparameters:\n",
            "Best slack parameter (C): 0.5\n",
            "Best gamma: 0.1\n",
            "Best kernel: poly\n",
            "Best coef0: 1\n",
            "Best degree: 1\n",
            "Iteration nr. 9 with best hyperparameters:\n",
            "Best slack parameter (C): 0.05\n",
            "Best gamma: 1\n",
            "Best kernel: linear\n",
            "Best coef0: 0.5\n",
            "Best degree: 3\n",
            "Iteration nr. 10 with best hyperparameters:\n",
            "Best slack parameter (C): 0.05\n",
            "Best gamma: 1.2\n",
            "Best kernel: linear\n",
            "Best coef0: 1.2\n",
            "Best degree: 3\n",
            "Iteration nr. 11 with best hyperparameters:\n",
            "Best slack parameter (C): 0.5\n",
            "Best gamma: 0.1\n",
            "Best kernel: linear\n",
            "Best coef0: 1\n",
            "Best degree: 5\n",
            "Iteration nr. 12 with best hyperparameters:\n",
            "Best slack parameter (C): 0.05\n",
            "Best gamma: 0.1\n",
            "Best kernel: linear\n",
            "Best coef0: 0.5\n",
            "Best degree: 1\n",
            "Iteration nr. 13 with best hyperparameters:\n",
            "Best slack parameter (C): 1\n",
            "Best gamma: 0.05\n",
            "Best kernel: rbf\n",
            "Best coef0: 1.2\n",
            "Best degree: 0.5\n",
            "Iteration nr. 14 with best hyperparameters:\n",
            "Best slack parameter (C): 0.5\n",
            "Best gamma: 0.05\n",
            "Best kernel: rbf\n",
            "Best coef0: 1.2\n",
            "Best degree: 5\n",
            "Iteration nr. 15 with best hyperparameters:\n",
            "Best slack parameter (C): 0.05\n",
            "Best gamma: 0.05\n",
            "Best kernel: linear\n",
            "Best coef0: 1\n",
            "Best degree: 1\n",
            "Iteration nr. 16 with best hyperparameters:\n",
            "Best slack parameter (C): 0.05\n",
            "Best gamma: 0.1\n",
            "Best kernel: linear\n",
            "Best coef0: 1.2\n",
            "Best degree: 0.5\n",
            "Iteration nr. 17 with best hyperparameters:\n",
            "Best slack parameter (C): 0.05\n",
            "Best gamma: 0.01\n",
            "Best kernel: linear\n",
            "Best coef0: 0.5\n",
            "Best degree: 5\n",
            "Iteration nr. 18 with best hyperparameters:\n",
            "Best slack parameter (C): 0.05\n",
            "Best gamma: 1\n",
            "Best kernel: linear\n",
            "Best coef0: 1\n",
            "Best degree: 1\n",
            "Iteration nr. 19 with best hyperparameters:\n",
            "Best slack parameter (C): 0.05\n",
            "Best gamma: 0.01\n",
            "Best kernel: linear\n",
            "Best coef0: 0.5\n",
            "Best degree: 5\n",
            "Iteration nr. 20 with best hyperparameters:\n",
            "Best slack parameter (C): 0.05\n",
            "Best gamma: 1.2\n",
            "Best kernel: poly\n",
            "Best coef0: 0.01\n",
            "Best degree: 1\n"
          ],
          "name": "stdout"
        },
        {
          "output_type": "display_data",
          "data": {
            "image/png": "[encoded data removed]",
            "text/plain": [
              "<Figure size 432x288 with 1 Axes>"
            ]
          },
          "metadata": {
            "tags": []
          }
        },
        {
          "output_type": "stream",
          "text": [
            "              precision    recall  f1-score   support\n",
            "\n",
            "           0       0.79      0.69      0.74        67\n",
            "           1       0.81      0.88      0.85       104\n",
            "\n",
            "    accuracy                           0.81       171\n",
            "   macro avg       0.80      0.79      0.79       171\n",
            "weighted avg       0.81      0.81      0.80       171\n",
            "\n",
            "0.8070175438596491\n"
          ],
          "name": "stdout"
        },
        {
          "output_type": "display_data",
          "data": {
            "image/png": "[encoded data removed]",
            "text/plain": [
              "<Figure size 432x288 with 1 Axes>"
            ]
          },
          "metadata": {
            "tags": []
          }
        }
      ]
    },
    {
      "cell_type": "markdown",
      "metadata": {
        "id": "O3VeeVBm_Bbo",
        "colab_type": "text"
      },
      "source": [
        "# **Random Forrest Classifier**\n",
        "\n",
        "The Random Forrest Classifier has 19 different hyperparameters:\n",
        "- n_estimators: number of trees (to much --> overfitting)\n",
        "- criterion: How to measure the quality of a split (gini) (tree-specific)\n",
        "- max_depth: depth of the tree\n",
        "- min_samples_split: minimum number of samples required to split an internal node\n",
        "- min_samples_leaf: number of samples required to be at a node\n",
        "- min_weight_fraction_leaf: sum total of the weigths at a node.\n",
        "- max_features: number of features to consider\n",
        "- max_leaf_nodes: \n",
        "- min_impurity_decrease: node will split if impurity decreases with this value\n",
        "- min_impurity_split: A node will split if its impurity is above the threshold, otherwise it is a leaf\n",
        "- bootstrap: use or not (T/F) (To improve accuracy by creating samples)\n",
        "if T --> max_samples: number of samples to train each base estimator\n",
        "- oob_score: use out-of-bag samples\n",
        "- n_jobs: \n",
        "- random_state: \n",
        "- verbose:\n",
        "- warm_start:\n",
        "- class_weight: If one class is more important\n",
        "- ccp_alpha: x\n",
        "\n",
        "--> Misschien toevoegen: een tijd segment om te kijken of het niet te lang duurt\n",
        "\n",
        "\n"
      ]
    },
    {
      "cell_type": "code",
      "metadata": {
        "id": "lkxtQjuq-_i0",
        "colab_type": "code",
        "outputId": "19c551bc-5dc1-4f61-e08e-f71072fe38ac",
        "colab": {
          "base_uri": "https://localhost:8080/",
          "height": 715
        }
      },
      "source": [
        "#Hyperparameters tuning:\n",
        "n_tree = [50]                         # n_estimators\n",
        "boot = ['True','False']               # Bootstrapping\n",
        "criterion = ['gini','entropy']        # measure of quality\n",
        "max_depth = list(range(5,16))         # Depth of the tree\n",
        "min_samples_split = list(range(2,10)) # prevends overfitting\n",
        "min_samples_leaf = [3,4,5,6,7]        # prevends overfitting\n",
        "\n",
        "\n",
        "param_grid = {'n_estimators': n_tree,  \n",
        "              'bootstrap': boot, \n",
        "              'criterion': criterion,\n",
        "              'max_depth': max_depth,\n",
        "              'min_samples_split': min_samples_split,\n",
        "              'min_samples_leaf': min_samples_leaf} \n",
        "\n",
        "grid = RandomizedSearchCV(RandomForestClassifier(), param_grid, refit=True, verbose=False, cv=cv_10fold) \n",
        "  \n",
        "# fitting the model for grid search \n",
        "best_model = grid.fit(X_train_pca, Y_train) \n",
        "clf = grid.best_estimator_\n",
        "\n",
        "\n",
        "print('Best number of trees:', grid.best_estimator_.get_params()['n_estimators'])\n",
        "print('Best Bootstrapping:', grid.best_estimator_.get_params()['bootstrap'])\n",
        "print('Best criterion:', grid.best_estimator_.get_params()['criterion'])\n",
        "print('Best max depth:', grid.best_estimator_.get_params()['max_depth'])\n",
        "print('Best min samples split:', grid.best_estimator_.get_params()['min_samples_split'])\n",
        "print('Best samples leaf:', grid.best_estimator_.get_params()['min_samples_leaf'])\n",
        "\n",
        "# Classification report (training data)\n",
        "y_pred_train = clf.predict(X_train_pca)\n",
        "print(classification_report(Y_train, y_pred_train))\n",
        "\n",
        "# Classification report (test data)\n",
        "y_pred_test = clf.predict(X_test_pca)\n",
        "print(classification_report(Y_test, y_pred_test))\n",
        "\n",
        "#Learning curve\n",
        "plt.show()\n",
        "title = str(type(clf))\n",
        "fig, ax = plt.subplots()\n",
        "cv = ShuffleSplit(n_splits=10, test_size=0.2, random_state=0)\n",
        "plot_learning_curve(clf, title, X_train_pca, Y_train, ax, ylim=(0.3, 1.01), cv=cv)\n"
      ],
      "execution_count": 0,
      "outputs": [
        {
          "output_type": "stream",
          "text": [
            "Best number of trees: 50\n",
            "Best Bootstrapping: False\n",
            "Best criterion: entropy\n",
            "Best max depth: 13\n",
            "Best min samples split: 5\n",
            "Best samples leaf: 6\n",
            "              precision    recall  f1-score   support\n",
            "\n",
            "           0       0.99      0.92      0.96       269\n",
            "           1       0.95      1.00      0.97       415\n",
            "\n",
            "    accuracy                           0.97       684\n",
            "   macro avg       0.97      0.96      0.96       684\n",
            "weighted avg       0.97      0.97      0.97       684\n",
            "\n",
            "              precision    recall  f1-score   support\n",
            "\n",
            "           0       0.77      0.64      0.70        67\n",
            "           1       0.79      0.88      0.83       104\n",
            "\n",
            "    accuracy                           0.78       171\n",
            "   macro avg       0.78      0.76      0.77       171\n",
            "weighted avg       0.78      0.78      0.78       171\n",
            "\n"
          ],
          "name": "stdout"
        },
        {
          "output_type": "execute_result",
          "data": {
            "text/plain": [
              "<module 'matplotlib.pyplot' from '/usr/local/lib/python3.6/dist-packages/matplotlib/pyplot.py'>"
            ]
          },
          "metadata": {
            "tags": []
          },
          "execution_count": 13
        },
        {
          "output_type": "display_data",
          "data": {
            "image/png": "[encoded data removed]",
            "text/plain": [
              "<Figure size 432x288 with 1 Axes>"
            ]
          },
          "metadata": {
            "tags": []
          }
        }
      ]
    },
    {
      "cell_type": "markdown",
      "metadata": {
        "id": "X2fvHe1qnC7Z",
        "colab_type": "text"
      },
      "source": [
        "# **Random Forrest with Crossvalidation**\n",
        "\n"
      ]
    },
    {
      "cell_type": "code",
      "metadata": {
        "id": "OF9D8tov5dlz",
        "colab_type": "code",
        "outputId": "1b925bd1-bd57-4def-9834-d685e3d41449",
        "colab": {
          "base_uri": "https://localhost:8080/",
          "height": 231
        }
      },
      "source": [
        "# Create a 20 fold stratified CV iterator\n",
        "cv_20fold = model_selection.StratifiedKFold(n_splits=20)\n",
        "results_RF = []\n",
        "results_acc_RF = []\n",
        "Best_n_trees = []\n",
        "Best_Bootstrapping = []\n",
        "Best_criterion = []\n",
        "Best_max_depth = []\n",
        "Best_min_samples_split = []\n",
        "Best_min_samples_leaf = []\n",
        "\n",
        "# Program to find most frequent  \n",
        "# element in a list \n",
        "def most_frequent(List): \n",
        "    return max(set(List), key = List.count) \n",
        "\n",
        "# Loop over the folds\n",
        "for validation_index, test_index in cv_20fold.split(X_train_pca, Y_train):\n",
        "    # Split the data properly\n",
        "    X_validation = X_train_pca[validation_index]\n",
        "    Y_validation = np.array(Y_train)[validation_index]\n",
        "    \n",
        "    X_test_RF = X_train_pca[test_index]\n",
        "    Y_test_RF = np.array(Y_train)[test_index]\n",
        "    \n",
        "    param_grid_RF = {'n_estimators': n_tree,  \n",
        "              'bootstrap': boot, \n",
        "              'criterion': criterion,\n",
        "              'max_depth': max_depth,\n",
        "              'min_samples_split': min_samples_split,\n",
        "              'min_samples_leaf': min_samples_leaf} \n",
        "\n",
        "    grid_RF = RandomizedSearchCV(RandomForestClassifier(), param_grid_RF, refit=True, \n",
        "                              verbose=False, cv=cv_20fold)\n",
        "    \n",
        "    best_model_RF = grid_RF.fit(X_validation, Y_validation)\n",
        "    \n",
        "    # Get resulting classifier\n",
        "    clf_RF = grid_RF.best_estimator_\n",
        "\n",
        "    print(f'Best number of trees: {clf_RF.n_estimators}')\n",
        "    print(f'Best Bootstrapping: {clf_RF.bootstrap}')\n",
        "    print(f'Best criterion: {clf_RF.criterion}')\n",
        "    print(f'Best max depth: {clf_RF.max_depth}')\n",
        "    print(f'Best min samples split: {clf_RF.min_samples_split}')\n",
        "    print(f'Best samples leaf: {clf_RF.min_samples_leaf}')\n",
        "\n",
        "    Best_n_trees.append(clf_RF.n_estimators)\n",
        "    Best_Bootstrapping.append(clf_RF.bootstrap)\n",
        "    Best_criterion.append(clf_RF.criterion)\n",
        "    Best_max_depth.append(clf_RF.max_depth)\n",
        "    Best_min_samples_split.append(clf_RF.min_samples_split)\n",
        "    Best_min_samples_leaf.append(clf_RF.min_samples_leaf)\n",
        "\n",
        "    # Test the classifier on the test data\n",
        "    probabilities_RF = clf_RF.predict_proba(X_test_RF)\n",
        "    scores_RF = probabilities_RF[:, 1]\n",
        "\n",
        "    # Get the accuracy\n",
        "    Y_pred = clf_RF.predict(X_validation)\n",
        "    accuracy=metrics.accuracy_score(Y_validation, Y_pred)\n",
        "    results_acc_RF.append({'acc': accuracy,'set': 'validation'})\n",
        "    Y_pred = clf_RF.predict(X_test_RF)\n",
        "    accuracy = metrics.accuracy_score(Y_test_RF, Y_pred)\n",
        "    results_acc_RF.append({'acc': accuracy,'set': 'test'})\n",
        "    \n",
        "    # Get the auc\n",
        "    auc_RF = metrics.roc_auc_score(Y_test_RF, scores_RF)\n",
        "    results_RF.append({'auc': auc_RF,'n_estimators': clf_RF.n_estimators, \n",
        "                    'bootstrap': clf_RF.bootstrap, \n",
        "                    'criterion': clf_RF.criterion, \n",
        "                    'max_depth': clf_RF.max_depth, \n",
        "                    'min_samples_split': clf_RF.min_samples_split, \n",
        "                    'min_samples_split': clf_RF.min_samples_leaf,\n",
        "                    'set': 'test'})\n",
        "    \n",
        "    # Test the classifier on the validation data\n",
        "    probabilities_validation_RF = clf_RF.predict_proba(X_validation)\n",
        "    scores_validation_RF = probabilities_validation_RF[:, 1]\n",
        "    \n",
        "    \n",
        "# Create results dataframe and plot it\n",
        "results_RF = pd.DataFrame(results_RF)\n",
        "plt.show()\n",
        "seaborn.boxplot(y='auc', x='set', data=results_RF)\n",
        "plt.show()\n",
        "results_acc_RF = pd.DataFrame(results_acc_RF)\n",
        "seaborn.boxplot(y='acc', x='set', data=results_acc_RF)\n",
        "\n",
        "optimal_n_tree = (np.mean(Best_n_trees))\n",
        "print(f\"The optimal number of trees={optimal_n_tree:.1f}\")\n",
        "optimal_bootstrap = (most_frequent(Best_Bootstrapping))\n",
        "print(f\"The optimal bootstrap={optimal_bootstrap}\")\n",
        "optimal_criterion = (most_frequent(Best_criterion)) \n",
        "print(f\"The optimal criterion={optimal_criterion}\")\n",
        "optimal_max_depth = (np.mean(Best_max_depth))\n",
        "print(f\"The optimal max depth={optimal_max_depth:.1f}\")\n",
        "optimal_min_samples_split = (np.mean(Best_min_samples_split))\n",
        "print(f\"The optimal min samples split={optimal_min_samples_split:.1f}\")\n",
        "optimal_min_samples_leaf = (np.mean(Best_min_samples_leaf))\n",
        "print(f\"The optimal min samples leaf={optimal_min_samples_leaf:.1f}\")\n",
        "\n",
        "grid_RF = RandomForestClassifier(n_estimators=int(round(optimal_n_tree)), \n",
        "                              bootstrap=optimal_bootstrap, \n",
        "                              criterion=optimal_criterion, \n",
        "                              max_depth=int(round(optimal_max_depth)), \n",
        "                              min_samples_split=int(round(optimal_min_samples_split)), \n",
        "                              min_samples_leaf=int(round(optimal_min_samples_leaf)))\n",
        "\n",
        "# fitting the model for grid search \n",
        "clf_RF = grid_RF.fit(X_train_pca, Y_train) \n",
        "\n",
        "from sklearn.metrics import classification_report\n",
        "\n",
        "print(classification_report(Y_test, clf_RF.predict(X_test_pca)))\n",
        "#y_pred = clf_RF.predict(X_test_pca)\n",
        "print(clf_RF.score(X_test_pca, Y_test))"
      ],
      "execution_count": 0,
      "outputs": [
        {
          "output_type": "error",
          "ename": "NameError",
          "evalue": "ignored",
          "traceback": [
            "\u001b[0;31m---------------------------------------------------------------------------\u001b[0m",
            "\u001b[0;31mNameError\u001b[0m                                 Traceback (most recent call last)",
            "\u001b[0;32m<ipython-input-3-c2c64eab8657>\u001b[0m in \u001b[0;36m<module>\u001b[0;34m()\u001b[0m\n\u001b[1;32m     15\u001b[0m \u001b[0;34m\u001b[0m\u001b[0m\n\u001b[1;32m     16\u001b[0m \u001b[0;31m# Loop over the folds\u001b[0m\u001b[0;34m\u001b[0m\u001b[0;34m\u001b[0m\u001b[0;34m\u001b[0m\u001b[0m\n\u001b[0;32m---> 17\u001b[0;31m \u001b[0;32mfor\u001b[0m \u001b[0mvalidation_index\u001b[0m\u001b[0;34m,\u001b[0m \u001b[0mtest_index\u001b[0m \u001b[0;32min\u001b[0m \u001b[0mcv_20fold\u001b[0m\u001b[0;34m.\u001b[0m\u001b[0msplit\u001b[0m\u001b[0;34m(\u001b[0m\u001b[0mX_train_pca\u001b[0m\u001b[0;34m,\u001b[0m \u001b[0mY_train\u001b[0m\u001b[0;34m)\u001b[0m\u001b[0;34m:\u001b[0m\u001b[0;34m\u001b[0m\u001b[0;34m\u001b[0m\u001b[0m\n\u001b[0m\u001b[1;32m     18\u001b[0m     \u001b[0;31m# Split the data properly\u001b[0m\u001b[0;34m\u001b[0m\u001b[0;34m\u001b[0m\u001b[0;34m\u001b[0m\u001b[0m\n\u001b[1;32m     19\u001b[0m     \u001b[0mX_validation\u001b[0m \u001b[0;34m=\u001b[0m \u001b[0mX_train_pca\u001b[0m\u001b[0;34m[\u001b[0m\u001b[0mvalidation_index\u001b[0m\u001b[0;34m]\u001b[0m\u001b[0;34m\u001b[0m\u001b[0;34m\u001b[0m\u001b[0m\n",
            "\u001b[0;31mNameError\u001b[0m: name 'X_train_pca' is not defined"
          ]
        }
      ]
    },
    {
      "cell_type": "markdown",
      "metadata": {
        "id": "ftmprpJH036O",
        "colab_type": "text"
      },
      "source": [
        "# **Combined Cross Validation With Voting**\n",
        "\n",
        "\n"
      ]
    },
    {
      "cell_type": "markdown",
      "metadata": {
        "id": "NVmhOyUqXgcy",
        "colab_type": "text"
      },
      "source": [
        "## **Functions**"
      ]
    },
    {
      "cell_type": "code",
      "metadata": {
        "id": "ueIDI8ijO7eV",
        "colab_type": "code",
        "colab": {}
      },
      "source": [
        "def pca_selection(X_train_scaled, X_test_scaled):\n",
        "  \n",
        "  # Fitting the PCA algorithm with the Data\n",
        "  pca = PCA().fit(X_train_scaled)\n",
        "  var = np.cumsum(pca.explained_variance_ratio_) \n",
        "  n_components = np.where(var > 0.95)[0][0]\n",
        "  print(f\"Nr. of components:{n_components}\")\n",
        "  # Perform a PCA\n",
        "  pca = decomposition.PCA(n_components=n_components)\n",
        "  pca.fit(X_train_scaled)\n",
        "  X_val_pca = pca.transform(X_train_scaled)\n",
        "  X_test_pca = pca.transform(X_test_scaled)\n",
        "  return X_validation, X_test\n",
        "\n",
        "def RFpca_selection(X_train_scaled, X_test_scaled, Y_train):\n",
        "  # Feature Importance with Random Forest\n",
        "  clf = ExtraTreesClassifier(n_estimators=50)\n",
        "  clf = clf.fit(X_train_scaled, Y_train)\n",
        "  clf.feature_importances_ \n",
        "  model = SelectFromModel(clf, prefit=True, threshold= \"mean\")\n",
        "  X_new = model.transform(X_train_scaled)\n",
        "  X_new_test = model.transform(X_test_scaled)\n",
        "\n",
        "  # PCA \n",
        "  pca = PCA().fit(X_new)\n",
        "  var = np.cumsum(pca.explained_variance_ratio_) \n",
        "  n_components = np.where(var > 0.95)[0][0]\n",
        "  pca = decomposition.PCA(n_components=n_components)\n",
        "  pca.fit(X_new)\n",
        "  X_val_pca = pca.transform(X_new)\n",
        "  X_test_pca = pca.transform(X_new_test)\n",
        "  return X_validation, X_test\n",
        "\n",
        "def classifier_kNN(cv_10fold, X_validation, Y_validation, X_test, Y_test):\n",
        "    # Hyperparameters that we want to tune. (kNN)\n",
        "    leaf_size = list(range(1,50))\n",
        "    n_neighbors = list(range(1,50))\n",
        "    p=[1]\n",
        "    hyperparameters_kNN = dict(n_neighbors=n_neighbors, p=p,leaf_size=leaf_size)\n",
        "\n",
        "    #Create kNN object\n",
        "    knn = neighbors.KNeighborsClassifier()\n",
        "\n",
        "    #Use RandomizedSearch to tune hyperparameters\n",
        "    random_search_kNN = model_selection.RandomizedSearchCV(knn, hyperparameters_kNN, cv=cv_10fold)\n",
        "\n",
        "    #Fit the model\n",
        "    best_model_kNN = random_search_kNN.fit(X_validation,Y_validation)\n",
        "    clf_kNN = random_search_kNN.best_estimator_\n",
        "    clf_kNN.fit(X_validation, Y_validation)\n",
        "    \n",
        "    # Test the classifier on the validation data\n",
        "    probabilities_validation_kNN = clf_kNN.predict_proba(X_validation)\n",
        "    scores_validation_kNN = probabilities_validation_kNN[:, 1]\n",
        "    \n",
        "    # Test the classifier on the test data\n",
        "    probabilities_kNN = clf_kNN.predict_proba(X_test)\n",
        "    scores_kNN = probabilities_kNN[:, 1]\n",
        "\n",
        "    # Get the accuracy\n",
        "    y_pred_kNN = clf_kNN.predict(X_test)\n",
        "    accuracy_kNN = metrics.accuracy_score(Y_test, y_pred_kNN)\n",
        "    results_acc_kNN.append({'acc': accuracy_kNN,'set': 'test'})\n",
        "    y_pred_kNN = clf_kNN.predict(X_validation)\n",
        "    accuracy_kNN=metrics.accuracy_score(Y_validation, y_pred_kNN)\n",
        "    results_acc_kNN.append({'acc': accuracy_kNN,'set': 'validation'})\n",
        "    \n",
        "    # Get the auc\n",
        "    auc_kNN = metrics.roc_auc_score(Y_test, scores_kNN)\n",
        "    results_kNN.append({'auc': auc_kNN,'k': clf_kNN.n_neighbors,'set': 'test'})       \n",
        "    \n",
        "    # Get the auc\n",
        "    auc_validation_kNN = metrics.roc_auc_score(Y_validation, scores_validation_kNN)\n",
        "    results_kNN.append({'auc': auc_validation_kNN,'k': clf_kNN.n_neighbors,'set': 'validation'})\n",
        "\n",
        "    # The value of best Hyperparameters\n",
        "    kNN_table.append({'auc': auc_kNN, 'acc' : accuracy_kNN,\n",
        "                    'leaf_size' : best_model_kNN.best_estimator_.get_params()['leaf_size'],\n",
        "                    'p' : best_model_kNN.best_estimator_.get_params()['p'],\n",
        "                    'n_neigbors': best_model_kNN.best_estimator_.get_params()['n_neighbors']})\n",
        "    \n",
        "    return clf_kNN, results_acc_kNN, results_kNN, kNN_table\n",
        "\n",
        "\n",
        "def classifier_SVM(cv_10fold, X_validation, Y_validation, X_test, Y_test):\n",
        "    # Hyperparameters that we want to tune\n",
        "    param_grid_SVM = {'C': [0.01, 0.05, 0.5, 1],  \n",
        "              #'gamma': [1.2, 1, 0.1, 0.05, 0.01], \n",
        "              #'kernel': ['linear', 'rbf', 'poly'],\n",
        "              'coef0': [0.01, 0.1, 0.5, 1, 1.2],\n",
        "              'degree': [0.5, 1, 3, 5]}\n",
        "\n",
        "              \n",
        "    # Use RandomizedSearch to tune hyperparameters\n",
        "    grid_SVM = RandomizedSearchCV(SVC(probability=True, kernel='poly'), param_grid_SVM, refit=True, \n",
        "                                  verbose=False, cv=cv_10fold)  \n",
        "    \n",
        "\n",
        "\n",
        "    # Fit the model\n",
        "    best_model_SVM = grid_SVM.fit(X_validation, Y_validation)\n",
        "    clf_SVM = grid_SVM.best_estimator_\n",
        "    clf_SVM.fit(X_validation, Y_validation)\n",
        "\n",
        "    # Test the classifier on the validation data\n",
        "    probabilities_validation_SVM = clf_SVM.predict_proba(X_validation)\n",
        "    scores_validation_SVM = probabilities_validation_SVM[:, 1]\n",
        "\n",
        "    # Test the classifier on the test data\n",
        "    probabilities_SVM = clf_SVM.predict_proba(X_test)\n",
        "    scores_SVM = probabilities_SVM[:, 1]\n",
        "\n",
        "    # Get the accuracy\n",
        "    Y_pred_SVM = clf_SVM.predict(X_test)\n",
        "    accuracy_SVM_test = metrics.accuracy_score(Y_test, Y_pred_SVM)\n",
        "    results_acc_SVM.append({'acc': accuracy_SVM_test,'set': 'test'})\n",
        "    Y_pred_SVM = clf_SVM.predict(X_validation)\n",
        "    accuracy_SVM=metrics.accuracy_score(Y_validation, Y_pred_SVM)\n",
        "    results_acc_SVM.append({'acc': accuracy_SVM,'set': 'validation'})\n",
        "\n",
        "    # Get the auc\n",
        "    auc_SVM = metrics.roc_auc_score(Y_test, scores_SVM)\n",
        "    results_SVM.append({'auc': auc_SVM,'set': 'test'})\n",
        "    \n",
        "    # Get the auc\n",
        "    auc_validation_SVM = metrics.roc_auc_score(Y_validation, scores_validation_SVM)\n",
        "    results_SVM.append({\n",
        "        'auc': auc_validation_SVM, 'set': 'validation'})\n",
        "\n",
        "    SVM_table.append({'C': clf_SVM.C,\n",
        "        #'gamma': clf_SVM.gamma,\n",
        "        #'kernel': clf_SVM.kernel,\n",
        "        'coef0': clf_SVM.coef0,\n",
        "        'degree': clf_SVM.degree,\n",
        "        'auc': auc_SVM,\n",
        "        'acc': accuracy_SVM_test})\n",
        "\n",
        "    return clf_SVM, results_acc_SVM, results_SVM, SVM_table\n",
        "\n",
        "    \n",
        "\n",
        "\n",
        "def classifier_RF(cv_10fold, X_validation, Y_validation, X_test, Y_test):\n",
        "    n_tree = [20]                         # N_estimators\n",
        "    boot = ['True','False']               # Bootstrapping\n",
        "    criterion = ['gini','entropy']        # Measure of quality\n",
        "    max_depth = list(range(5,16))         # Depth of the tree\n",
        "    min_samples_split = list(range(2,10)) # Prevents overfitting\n",
        "    min_samples_leaf = [3,4,5,6,7]        # Prevents overfitting\n",
        "\n",
        "    param_grid_RF = {'n_estimators': n_tree,  \n",
        "              'bootstrap': boot, \n",
        "              'criterion': criterion,\n",
        "              'max_depth': max_depth,\n",
        "              'min_samples_split': min_samples_split,\n",
        "              'min_samples_leaf': min_samples_leaf} \n",
        "\n",
        "    grid_RF = RandomizedSearchCV(RandomForestClassifier(), param_grid_RF, refit=True, \n",
        "                              verbose=False, cv=cv_10fold)\n",
        "    \n",
        "    best_model_RF = grid_RF.fit(X_validation, Y_validation)\n",
        "\n",
        "    \n",
        "    # Get resulting classifier\n",
        "    clf_RF = grid_RF.best_estimator_\n",
        "    clf_RF.fit(X_validation, Y_validation)\n",
        "\n",
        "    # Test the classifier on the test data\n",
        "    probabilities_RF = clf_RF.predict_proba(X_test)\n",
        "    scores_RF = probabilities_RF[:, 1]\n",
        "    \n",
        "    # Get the accuracy\n",
        "    Y_pred = clf_RF.predict(X_test)\n",
        "    accuracy_test = metrics.accuracy_score(Y_test, Y_pred)\n",
        "    results_acc_RF.append({'acc': accuracy_test,'set': 'test'})\n",
        "    Y_pred = clf_RF.predict(X_validation)\n",
        "    accuracy=metrics.accuracy_score(Y_validation, Y_pred)\n",
        "    results_acc_RF.append({'acc': accuracy,'set': 'validation'})\n",
        "    \n",
        "    # Get the auc\n",
        "    auc_RF = metrics.roc_auc_score(Y_test, scores_RF)\n",
        "    results_RF.append({'auc': auc_RF, 'set': 'test'})\n",
        "        \n",
        "    # Test the classifier on the validation data\n",
        "    probabilities_validation_RF = clf_RF.predict_proba(X_validation)\n",
        "    scores_validation_RF = probabilities_validation_RF[:, 1]\n",
        "    auc_RF_val = metrics.roc_auc_score(Y_validation, scores_validation_RF)\n",
        "    results_RF.append({'auc': auc_RF_val, 'set': 'validation'})\n",
        "\n",
        "    RF_table.append({'n_estimators': clf_RF.n_estimators, \n",
        "                    'bootstrap': clf_RF.bootstrap, \n",
        "                    'criterion': clf_RF.criterion, \n",
        "                    'max_depth': clf_RF.max_depth, \n",
        "                    'min_samples_split': clf_RF.min_samples_split, \n",
        "                    'min_samples_split': clf_RF.min_samples_leaf,\n",
        "                    'acc':accuracy_test,\n",
        "                    'auc':auc_RF})\n",
        "\n",
        "    return clf_RF, results_acc_RF, results_RF, RF_table\n",
        "\n",
        "\n",
        "\n",
        "# Voting results \n",
        "\n",
        "def votingresults(clf_vote_kNN_SVM_RF, X_validation, Y_validation, X_test, Y_test):\n",
        "    clf_vote_kNN_SVM_RF.fit(X_validation, Y_validation)\n",
        "\n",
        "    # Get the accuracy\n",
        "    Y_pred = clf_vote_kNN_SVM_RF.predict(X_test)\n",
        "    accuracy = metrics.accuracy_score(Y_test, Y_pred)\n",
        "    results_acc_vote_kNN_SVM_RF.append({'acc': accuracy,'set': 'test'})\n",
        "    Y_pred = clf_vote_kNN_SVM_RF.predict(X_validation)\n",
        "    accuracy=metrics.accuracy_score(Y_validation, Y_pred)\n",
        "    results_acc_vote_kNN_SVM_RF.append({'acc': accuracy,'set': 'validation'})\n",
        "  \n",
        "    # Test the classifier on the test data\n",
        "    probabilities_vote = clf_vote_kNN_SVM_RF.predict_proba(X_test)\n",
        "    scores_vote = probabilities_vote[:, 1]\n",
        "\n",
        "    # Get the auc\n",
        "    auc_vote = metrics.roc_auc_score(Y_test, scores_vote)\n",
        "    results_vote_kNN_SVM_RF.append({'auc': auc_vote, 'set': 'test'})\n",
        "\n",
        "    # Test the classifier on the validation data\n",
        "    probabilities_vote = clf_vote_kNN_SVM_RF.predict_proba(X_validation)\n",
        "    scores_vote = probabilities_vote[:, 1]\n",
        "\n",
        "    # Get the auc\n",
        "    auc_vote = metrics.roc_auc_score(Y_validation, scores_vote)\n",
        "    results_vote_kNN_SVM_RF.append({'auc': auc_vote, 'set': 'validation'})\n",
        "\n",
        "    return results_acc_vote, results_vote\n",
        "\n",
        "def votingresults(clf_vote_kNN_RF, X_validation, Y_validation, X_test, Y_test):\n",
        "    clf_vote_kNN_RF.fit(X_validation, Y_validation)\n",
        "\n",
        "    # Get the accuracy\n",
        "    Y_pred = clf_vote_kNN_RF.predict(X_test)\n",
        "    accuracy = metrics.accuracy_score(Y_test, Y_pred)\n",
        "    results_acc_vote_kNN_RF.append({'acc': accuracy,'set': 'test'})\n",
        "    Y_pred = clf_vote_kNN_RF.predict(X_validation)\n",
        "    accuracy=metrics.accuracy_score(Y_validation, Y_pred)\n",
        "    results_acc_vote_kNN_RF.append({'acc': accuracy,'set': 'validation'})\n",
        "  \n",
        "    # Test the classifier on the test data\n",
        "    probabilities_vote = clf_vote_kNN_RF.predict_proba(X_test)\n",
        "    scores_vote = probabilities_vote[:, 1]\n",
        "\n",
        "    # Get the auc\n",
        "    auc_vote = metrics.roc_auc_score(Y_test, scores_vote)\n",
        "    results_vote_kNN_RF.append({'auc': auc_vote, 'set': 'test'})\n",
        "\n",
        "    # Test the classifier on the validation data\n",
        "    probabilities_vote = clf_vote_kNN_RF.predict_proba(X_validation)\n",
        "    scores_vote = probabilities_vote[:, 1]\n",
        "\n",
        "    # Get the auc\n",
        "    auc_vote = metrics.roc_auc_score(Y_validation, scores_vote)\n",
        "    results_vote_kNN_RF.append({'auc': auc_vote, 'set': 'validation'})\n",
        "\n",
        "    return results_acc_vote_kNN_RF, results_vote\n"
      ],
      "execution_count": 0,
      "outputs": []
    },
    {
      "cell_type": "markdown",
      "metadata": {
        "id": "utdkr2tsXkXo",
        "colab_type": "text"
      },
      "source": [
        "**Loop test**\n"
      ]
    },
    {
      "cell_type": "code",
      "metadata": {
        "colab_type": "code",
        "outputId": "1ebb04d5-e7f0-4e67-8da2-cf07e06d8ab8",
        "id": "8siMNUcfoa65",
        "colab": {
          "base_uri": "https://localhost:8080/",
          "height": 1000
        }
      },
      "source": [
        "# Create a 20 fold stratified CV iterator\n",
        "cv_10fold = model_selection.StratifiedKFold(n_splits=10)\n",
        "cv_20fold = model_selection.StratifiedKFold(n_splits=20)\n",
        "\n",
        "# Lists for KNN\n",
        "results_kNN = []\n",
        "results_acc_kNN = []\n",
        "kNN_table = []\n",
        "\n",
        "# Lists for SVM\n",
        "results_SVM = []\n",
        "results_acc_SVM = []\n",
        "SVM_table = []\n",
        "best_C = []\n",
        "\n",
        "# Lists for RF\n",
        "results_RF = []\n",
        "results_acc_RF = []\n",
        "RF_table = []\n",
        "\n",
        "# Lists for voting (kNN, SVM, RF)\n",
        "results_acc_vote_kNN_SVM_RF = []\n",
        "results_vote_kNN_SVM_RF = []\n",
        "\n",
        "# Lists for voting (kNN, RF)\n",
        "results_acc_vote_kNN_RF = []\n",
        "results_vote_kNN_RF = []\n",
        "\n",
        "# Program to find most frequent  \n",
        "# element in a list \n",
        "def most_frequent(List): \n",
        "    return max(set(List), key = List.count) \n",
        "\n",
        "# OUTER CV\n",
        "for validation_index, test_index in cv_20fold.split(X, y_bin):\n",
        "    \n",
        "    X_validation = np.array(X)[validation_index]\n",
        "    Y_validation = np.array(y_bin)[validation_index]\n",
        "    \n",
        "    X_test = np.array(X)[test_index]\n",
        "    Y_test = np.array(y_bin)[test_index]\n",
        "\n",
        "    # Scaling\n",
        "    scaler = preprocessing.MinMaxScaler()\n",
        "    scaler.fit(X_validation)\n",
        "    X_val_scaled = scaler.transform(X_validation)\n",
        "    X_test_scaled = scaler.transform(X_test)\n",
        "\n",
        "    # Feature selection\n",
        "    X_validation, X_test = RFpca_selection(X_val_scaled, X_test_scaled, Y_validation)\n",
        "\n",
        "    # # ** kNN **\n",
        "    clf_kNN, results_acc_kNN, results_kNN, kNN_table = classifier_kNN(cv_10fold, X_validation, Y_validation, X_test, Y_test)\n",
        "\n",
        "    # ** SVM **\n",
        "    clf_SVM, results_acc_SVM, results_SVM, SVM_table = classifier_SVM(cv_10fold, X_validation, Y_validation, X_test, Y_test)\n",
        "   \n",
        "    # # ** Random Forest **\n",
        "    clf_RF, results_acc_RF, results_RF, RF_table = classifier_RF(cv_10fold, X_validation, Y_validation, X_test, Y_test)\n",
        "    \n",
        "    # # ** Voting **\n",
        "    clf_vote_kNN_SVM_RF = VotingClassifier(\n",
        "         estimators=[('KNN', clf_kNN), ('RF', clf_RF), ('SVM', clf_SVM)],\n",
        "         voting='soft')\n",
        "    \n",
        "    # # ** Voting **\n",
        "    clf_vote_kNN_RF = VotingClassifier(\n",
        "         estimators=[('KNN', clf_kNN), ('RF', clf_RF)],\n",
        "         voting='soft')\n",
        "\n",
        "    # Plot voting results (kNN, SVM, RF)\n",
        "    results_acc_vote_kNN_SVM_RF, results_vote_kNN_SVM_RF = votingresults(clf_vote_kNN_SVM_RF, X_validation, Y_validation, X_test, Y_test)\n",
        "    # Plot voting results (kNN, RF)\n",
        "    results_acc_vote_kNN_RF, results_vote_kNN_RF = votingresults(clf_vote_kNN_RF, X_validation, Y_validation, X_test, Y_test)\n",
        "\n",
        "# Plot all results\n",
        "from IPython.display import display\n",
        "# Create results dataframe and plot it (KNN)\n",
        "kNN_table = pd.DataFrame(kNN_table)\n",
        "print('Hyperparameters KNN')\n",
        "display(kNN_table)\n",
        "results_kNN = pd.DataFrame(results_kNN)\n",
        "plt.figure(figsize=(20,20))\n",
        "plt.subplot(421)\n",
        "plt.title('auc kNN')\n",
        "seaborn.boxplot(y='auc', x='set', data=results_kNN)\n",
        "plt.subplot(422)\n",
        "plt.title('accuracy kNN')\n",
        "results_acc_kNN = pd.DataFrame(results_acc_kNN)\n",
        "seaborn.boxplot(y='acc', x='set', data=results_acc_kNN)\n",
        "\n",
        "# Create results dataframe and plot it (SVM)\n",
        "SVM_table = pd.DataFrame(SVM_table)\n",
        "print('Hyperparameters SVM')\n",
        "display(SVM_table)\n",
        "results_SVM = pd.DataFrame(results_SVM)\n",
        "plt.subplot(423)\n",
        "plt.title('auc SVM')\n",
        "seaborn.boxplot(y='auc', x='set', data=results_SVM)\n",
        "plt.subplot(424)\n",
        "plt.title('accuracy SVM')\n",
        "results_acc_SVM = pd.DataFrame(results_acc_SVM)\n",
        "seaborn.boxplot(y='acc', x='set', data=results_acc_SVM)\n",
        "\n",
        "# Create results dataframe and plot it (RF)\n",
        "RF_table = pd.DataFrame(RF_table)\n",
        "print('Hyperparameters RF')\n",
        "display(RF_table)\n",
        "results_RF = pd.DataFrame(results_RF)\n",
        "plt.subplot(425)\n",
        "plt.title('auc RF')\n",
        "seaborn.boxplot(y='auc', x='set', data=results_RF)\n",
        "plt.subplot(426)\n",
        "plt.title('accuracy RF')\n",
        "results_acc_RF = pd.DataFrame(results_acc_RF)\n",
        "seaborn.boxplot(y='acc', x='set', data=results_acc_RF)\n",
        "\n",
        "# Create voting results dataframe and plot it (kNN, SVM, RF)\n",
        "results_vote_kNN_SVM_RF = pd.DataFrame(results_vote_kNN_SVM_RF)\n",
        "plt.subplot(427)\n",
        "plt.title('auc voting kNN, SVM, RF')\n",
        "seaborn.boxplot(y='auc', x='set', data=results_vote_kNN_SVM_RF)\n",
        "plt.subplot(428)\n",
        "plt.title('accuracy voting kNN, SVM, RF')\n",
        "results_acc_vote_kNN_SVM_RF = pd.DataFrame(results_acc_vote_kNN_SVM_RF)\n",
        "seaborn.boxplot(y='acc', x='set', data=results_acc_vote_kNN_SVM_RF)\n",
        "\n",
        "# Create voting results dataframe and plot it (kNN, RF)\n",
        "results_vote_kNN_RF = pd.DataFrame(results_vote_kNN_RF)\n",
        "plt.subplot(427)\n",
        "plt.title('auc voting kNN, RF')\n",
        "seaborn.boxplot(y='auc', x='set', data=results_vote_kNN_RF)\n",
        "plt.subplot(428)\n",
        "plt.title('accuracy voting kNN, RF')\n",
        "results_acc_vote_kNN_RF = pd.DataFrame(results_acc_vote_kNN_RF)\n",
        "seaborn.boxplot(y='acc', x='set', data=results_acc_vote_kNN_RF)\n",
        "\n",
        "\n",
        "\n",
        "\n"
      ],
      "execution_count": 57,
      "outputs": [
        {
          "output_type": "stream",
          "text": [
            "Hyperparameters KNN\n"
          ],
          "name": "stdout"
        },
        {
          "output_type": "display_data",
          "data": {
            "text/html": [
              "<div>\n",
              "<style scoped>\n",
              "    .dataframe tbody tr th:only-of-type {\n",
              "        vertical-align: middle;\n",
              "    }\n",
              "\n",
              "    .dataframe tbody tr th {\n",
              "        vertical-align: top;\n",
              "    }\n",
              "\n",
              "    .dataframe thead th {\n",
              "        text-align: right;\n",
              "    }\n",
              "</style>\n",
              "<table border=\"1\" class=\"dataframe\">\n",
              "  <thead>\n",
              "    <tr style=\"text-align: right;\">\n",
              "      <th></th>\n",
              "      <th>auc</th>\n",
              "      <th>acc</th>\n",
              "      <th>leaf_size</th>\n",
              "      <th>p</th>\n",
              "      <th>n_neigbors</th>\n",
              "    </tr>\n",
              "  </thead>\n",
              "  <tbody>\n",
              "    <tr>\n",
              "      <th>0</th>\n",
              "      <td>0.771860</td>\n",
              "      <td>0.696629</td>\n",
              "      <td>2</td>\n",
              "      <td>1</td>\n",
              "      <td>36</td>\n",
              "    </tr>\n",
              "    <tr>\n",
              "      <th>1</th>\n",
              "      <td>0.757081</td>\n",
              "      <td>0.719101</td>\n",
              "      <td>20</td>\n",
              "      <td>1</td>\n",
              "      <td>19</td>\n",
              "    </tr>\n",
              "    <tr>\n",
              "      <th>2</th>\n",
              "      <td>0.598830</td>\n",
              "      <td>0.741573</td>\n",
              "      <td>47</td>\n",
              "      <td>1</td>\n",
              "      <td>31</td>\n",
              "    </tr>\n",
              "    <tr>\n",
              "      <th>3</th>\n",
              "      <td>0.740760</td>\n",
              "      <td>0.712482</td>\n",
              "      <td>38</td>\n",
              "      <td>1</td>\n",
              "      <td>46</td>\n",
              "    </tr>\n",
              "    <tr>\n",
              "      <th>4</th>\n",
              "      <td>0.747404</td>\n",
              "      <td>0.719495</td>\n",
              "      <td>11</td>\n",
              "      <td>1</td>\n",
              "      <td>32</td>\n",
              "    </tr>\n",
              "    <tr>\n",
              "      <th>5</th>\n",
              "      <td>0.765573</td>\n",
              "      <td>0.708275</td>\n",
              "      <td>21</td>\n",
              "      <td>1</td>\n",
              "      <td>32</td>\n",
              "    </tr>\n",
              "  </tbody>\n",
              "</table>\n",
              "</div>"
            ],
            "text/plain": [
              "        auc       acc  leaf_size  p  n_neigbors\n",
              "0  0.771860  0.696629          2  1          36\n",
              "1  0.757081  0.719101         20  1          19\n",
              "2  0.598830  0.741573         47  1          31\n",
              "3  0.740760  0.712482         38  1          46\n",
              "4  0.747404  0.719495         11  1          32\n",
              "5  0.765573  0.708275         21  1          32"
            ]
          },
          "metadata": {
            "tags": []
          }
        },
        {
          "output_type": "stream",
          "text": [
            "Hyperparameters SVM\n"
          ],
          "name": "stdout"
        },
        {
          "output_type": "display_data",
          "data": {
            "text/html": [
              "<div>\n",
              "<style scoped>\n",
              "    .dataframe tbody tr th:only-of-type {\n",
              "        vertical-align: middle;\n",
              "    }\n",
              "\n",
              "    .dataframe tbody tr th {\n",
              "        vertical-align: top;\n",
              "    }\n",
              "\n",
              "    .dataframe thead th {\n",
              "        text-align: right;\n",
              "    }\n",
              "</style>\n",
              "<table border=\"1\" class=\"dataframe\">\n",
              "  <thead>\n",
              "    <tr style=\"text-align: right;\">\n",
              "      <th></th>\n",
              "      <th>C</th>\n",
              "      <th>coef0</th>\n",
              "      <th>degree</th>\n",
              "      <th>auc</th>\n",
              "      <th>acc</th>\n",
              "    </tr>\n",
              "  </thead>\n",
              "  <tbody>\n",
              "    <tr>\n",
              "      <th>0</th>\n",
              "      <td>0.50</td>\n",
              "      <td>0.01</td>\n",
              "      <td>5</td>\n",
              "      <td>0.722701</td>\n",
              "      <td>0.622378</td>\n",
              "    </tr>\n",
              "    <tr>\n",
              "      <th>1</th>\n",
              "      <td>0.05</td>\n",
              "      <td>0.50</td>\n",
              "      <td>5</td>\n",
              "      <td>0.693760</td>\n",
              "      <td>0.629371</td>\n",
              "    </tr>\n",
              "    <tr>\n",
              "      <th>2</th>\n",
              "      <td>0.50</td>\n",
              "      <td>0.50</td>\n",
              "      <td>5</td>\n",
              "      <td>0.643576</td>\n",
              "      <td>0.643357</td>\n",
              "    </tr>\n",
              "    <tr>\n",
              "      <th>3</th>\n",
              "      <td>0.50</td>\n",
              "      <td>1.20</td>\n",
              "      <td>5</td>\n",
              "      <td>0.750208</td>\n",
              "      <td>0.647887</td>\n",
              "    </tr>\n",
              "    <tr>\n",
              "      <th>4</th>\n",
              "      <td>0.50</td>\n",
              "      <td>0.50</td>\n",
              "      <td>5</td>\n",
              "      <td>0.693729</td>\n",
              "      <td>0.640845</td>\n",
              "    </tr>\n",
              "    <tr>\n",
              "      <th>5</th>\n",
              "      <td>1.00</td>\n",
              "      <td>1.20</td>\n",
              "      <td>3</td>\n",
              "      <td>0.712417</td>\n",
              "      <td>0.654930</td>\n",
              "    </tr>\n",
              "  </tbody>\n",
              "</table>\n",
              "</div>"
            ],
            "text/plain": [
              "      C  coef0  degree       auc       acc\n",
              "0  0.50   0.01       5  0.722701  0.622378\n",
              "1  0.05   0.50       5  0.693760  0.629371\n",
              "2  0.50   0.50       5  0.643576  0.643357\n",
              "3  0.50   1.20       5  0.750208  0.647887\n",
              "4  0.50   0.50       5  0.693729  0.640845\n",
              "5  1.00   1.20       3  0.712417  0.654930"
            ]
          },
          "metadata": {
            "tags": []
          }
        },
        {
          "output_type": "stream",
          "text": [
            "Hyperparameters RF\n"
          ],
          "name": "stdout"
        },
        {
          "output_type": "display_data",
          "data": {
            "text/html": [
              "<div>\n",
              "<style scoped>\n",
              "    .dataframe tbody tr th:only-of-type {\n",
              "        vertical-align: middle;\n",
              "    }\n",
              "\n",
              "    .dataframe tbody tr th {\n",
              "        vertical-align: top;\n",
              "    }\n",
              "\n",
              "    .dataframe thead th {\n",
              "        text-align: right;\n",
              "    }\n",
              "</style>\n",
              "<table border=\"1\" class=\"dataframe\">\n",
              "  <thead>\n",
              "    <tr style=\"text-align: right;\">\n",
              "      <th></th>\n",
              "      <th>n_estimators</th>\n",
              "      <th>bootstrap</th>\n",
              "      <th>criterion</th>\n",
              "      <th>max_depth</th>\n",
              "      <th>min_samples_split</th>\n",
              "      <th>max_features</th>\n",
              "      <th>acc</th>\n",
              "      <th>auc</th>\n",
              "    </tr>\n",
              "  </thead>\n",
              "  <tbody>\n",
              "    <tr>\n",
              "      <th>0</th>\n",
              "      <td>20</td>\n",
              "      <td>True</td>\n",
              "      <td>entropy</td>\n",
              "      <td>8</td>\n",
              "      <td>6</td>\n",
              "      <td>50</td>\n",
              "      <td>0.804196</td>\n",
              "      <td>0.901273</td>\n",
              "    </tr>\n",
              "    <tr>\n",
              "      <th>1</th>\n",
              "      <td>20</td>\n",
              "      <td>True</td>\n",
              "      <td>entropy</td>\n",
              "      <td>15</td>\n",
              "      <td>6</td>\n",
              "      <td>55</td>\n",
              "      <td>0.776224</td>\n",
              "      <td>0.851396</td>\n",
              "    </tr>\n",
              "    <tr>\n",
              "      <th>2</th>\n",
              "      <td>20</td>\n",
              "      <td>False</td>\n",
              "      <td>entropy</td>\n",
              "      <td>15</td>\n",
              "      <td>7</td>\n",
              "      <td>55</td>\n",
              "      <td>0.741259</td>\n",
              "      <td>0.810961</td>\n",
              "    </tr>\n",
              "    <tr>\n",
              "      <th>3</th>\n",
              "      <td>20</td>\n",
              "      <td>True</td>\n",
              "      <td>entropy</td>\n",
              "      <td>7</td>\n",
              "      <td>4</td>\n",
              "      <td>35</td>\n",
              "      <td>0.873239</td>\n",
              "      <td>0.910091</td>\n",
              "    </tr>\n",
              "    <tr>\n",
              "      <th>4</th>\n",
              "      <td>20</td>\n",
              "      <td>True</td>\n",
              "      <td>gini</td>\n",
              "      <td>12</td>\n",
              "      <td>6</td>\n",
              "      <td>45</td>\n",
              "      <td>0.774648</td>\n",
              "      <td>0.863580</td>\n",
              "    </tr>\n",
              "    <tr>\n",
              "      <th>5</th>\n",
              "      <td>20</td>\n",
              "      <td>False</td>\n",
              "      <td>gini</td>\n",
              "      <td>15</td>\n",
              "      <td>6</td>\n",
              "      <td>40</td>\n",
              "      <td>0.816901</td>\n",
              "      <td>0.905523</td>\n",
              "    </tr>\n",
              "  </tbody>\n",
              "</table>\n",
              "</div>"
            ],
            "text/plain": [
              "   n_estimators bootstrap criterion  ...  max_features       acc       auc\n",
              "0            20      True   entropy  ...            50  0.804196  0.901273\n",
              "1            20      True   entropy  ...            55  0.776224  0.851396\n",
              "2            20     False   entropy  ...            55  0.741259  0.810961\n",
              "3            20      True   entropy  ...            35  0.873239  0.910091\n",
              "4            20      True      gini  ...            45  0.774648  0.863580\n",
              "5            20     False      gini  ...            40  0.816901  0.905523\n",
              "\n",
              "[6 rows x 8 columns]"
            ]
          },
          "metadata": {
            "tags": []
          }
        },
        {
          "output_type": "stream",
          "text": [
            "/usr/local/lib/python3.6/dist-packages/ipykernel_launcher.py:129: MatplotlibDeprecationWarning: Adding an axes using the same arguments as a previous axes currently reuses the earlier instance.  In a future version, a new instance will always be created and returned.  Meanwhile, this warning can be suppressed, and the future behavior ensured, by passing a unique label to each axes instance.\n",
            "/usr/local/lib/python3.6/dist-packages/ipykernel_launcher.py:132: MatplotlibDeprecationWarning: Adding an axes using the same arguments as a previous axes currently reuses the earlier instance.  In a future version, a new instance will always be created and returned.  Meanwhile, this warning can be suppressed, and the future behavior ensured, by passing a unique label to each axes instance.\n"
          ],
          "name": "stderr"
        },
        {
          "output_type": "execute_result",
          "data": {
            "text/plain": [
              "<matplotlib.axes._subplots.AxesSubplot at 0x7f4244b6e518>"
            ]
          },
          "metadata": {
            "tags": []
          },
          "execution_count": 57
        },
        {
          "output_type": "display_data",
          "data": {
            "image/png": "[encoded data removed]",
            "text/plain": [
              "<Figure size 1440x1440 with 8 Axes>"
            ]
          },
          "metadata": {
            "tags": []
          }
        }
      ]
    },
    {
      "cell_type": "markdown",
      "metadata": {
        "id": "ON2NOrp3grVB",
        "colab_type": "text"
      },
      "source": [
        "**Loop reserve**"
      ]
    },
    {
      "cell_type": "code",
      "metadata": {
        "id": "VThWg-KggpAb",
        "colab_type": "code",
        "outputId": "ef9d8cdf-f326-439e-b0e2-9f5656066a74",
        "colab": {
          "base_uri": "https://localhost:8080/",
          "height": 1000
        }
      },
      "source": [
        "# Create a 20 fold stratified CV iterator\n",
        "cv_20fold = model_selection.StratifiedKFold(n_splits=5)\n",
        "# Lists for KNN\n",
        "results_kNN = []\n",
        "results_acc_kNN = []\n",
        "# TABEL VOOR HYPERPARAMETERS\n",
        "kNN_table = []\n",
        "\n",
        "# Lists for SVM\n",
        "results_SVM = []\n",
        "results_acc_SVM = []\n",
        "best_C = []\n",
        "best_gamma = []\n",
        "best_kernel = []\n",
        "best_coef0 = []\n",
        "best_degree = []\n",
        "\n",
        "# Lists for RF\n",
        "results_RF = []\n",
        "results_acc_RF = []\n",
        "Best_n_trees = []\n",
        "Best_Bootstrapping = []\n",
        "Best_criterion = []\n",
        "Best_max_depth = []\n",
        "Best_min_samples_split = []\n",
        "Best_min_samples_leaf = []\n",
        "RF_table = []\n",
        "\n",
        "# Lists for voting\n",
        "results_acc_vote = []\n",
        "results_vote = []\n",
        "\n",
        "# Program to find most frequent  \n",
        "# element in a list \n",
        "def most_frequent(List): \n",
        "    return max(set(List), key = List.count) \n",
        "\n",
        "# Loop over the folds (KNN)\n",
        "for validation_index, test_index in cv_20fold.split(X_train_pca, Y_train):\n",
        "    # Split the data properly\n",
        "    X_validation = X_train_pca[validation_index]\n",
        "    Y_validation = np.array(Y_train)[validation_index]\n",
        "    \n",
        "    X_test = X_train_pca[test_index]\n",
        "    Y_test = np.array(Y_train)[test_index]\n",
        "\n",
        "    # ** kNN **\n",
        "    clf_kNN, results_acc_kNN, results_kNN, kNN_table = classifier_kNN(cv_20fold, X_validation, Y_validation, X_test, Y_test)\n",
        "\n",
        "    # ** SVM **\n",
        "    clf_SVM, results_acc_SVM, results_SVM = classifier_SVM(cv_20fold, X_validation, Y_validation, X_test, Y_test)\n",
        "\n",
        "    # ** Random Forest **\n",
        "    clf_RF, results_acc_RF, results_RF, RF_table = classifier_RF(cv_20fold, X_validation, Y_validation, X_test, Y_test)\n",
        "    \n",
        "    # ** Voting **\n",
        "    clf_vote = VotingClassifier(\n",
        "        estimators=[('KNN', clf_kNN), ('SVM', clf_SVM), ('RF', clf_RF)],\n",
        "        voting='soft')\n",
        "    \n",
        "    # Plot voting results\n",
        "    results_acc_vote, results_vote = votingresults(clf_vote, X_validation, Y_validation, X_test, Y_test)\n",
        "\n",
        "\n",
        "# Plot all results\n",
        "# Create results dataframe and plot it (KNN)\n",
        "kNN_table = pd.DataFrame(kNN_table)\n",
        "print(kNN_table)\n",
        "results_kNN = pd.DataFrame(results_kNN)\n",
        "plt.show()\n",
        "plt.title('auc kNN')\n",
        "seaborn.boxplot(y='auc', x='set', data=results_kNN)\n",
        "plt.show()\n",
        "plt.title('accuracy kNN')\n",
        "results_acc_kNN = pd.DataFrame(results_acc_kNN)\n",
        "seaborn.boxplot(y='acc', x='set', data=results_acc_kNN)\n",
        "\n",
        "\n",
        "# Create results dataframe and plot it (SVM)\n",
        "results_SVM = pd.DataFrame(results_SVM)\n",
        "plt.show()\n",
        "plt.title('auc SVM')\n",
        "seaborn.boxplot(y='auc', x='set', data=results_SVM)\n",
        "plt.show()\n",
        "plt.title('accuracy SVM')\n",
        "results_acc_SVM = pd.DataFrame(results_acc_SVM)\n",
        "seaborn.boxplot(y='acc', x='set', data=results_acc_SVM)\n",
        "\n",
        "#optimal_C = (np.mean(best_C))\n",
        "#print(f\"The optimal C={optimal_C:.1f}\")\n",
        "#optimal_gamma = (np.mean(best_gamma))\n",
        "#print(f\"The optimal gamma={optimal_gamma:.1f}\")\n",
        "#optimal_kernel = (most_frequent(best_kernel)) \n",
        "#print(f\"The optimal kernel={optimal_kernel}\")\n",
        "#optimal_coef0 = (np.mean(best_coef0))\n",
        "#print(f\"The optimal coef0={optimal_coef0:.1f}\")\n",
        "#optimal_degree = (np.mean(best_degree))\n",
        "#print(f\"The optimal degree={optimal_degree:.1f}\")\n",
        "\n",
        "#grid = SVC(C=round(optimal_C,2), gamma=round(optimal_gamma,2), kernel=optimal_kernel,\n",
        "          #coef0=round(optimal_coef0,2), degree=round(optimal_degree,2))\n",
        "\n",
        "# fitting the model for grid search \n",
        "# clf_SVM = grid.fit(X_train_pca, Y_train) \n",
        "\n",
        "\n",
        "\n",
        "\n",
        "# Create results dataframe and plot it (RF)\n",
        "# Create results dataframe and plot it\n",
        "results_RF = pd.DataFrame(results_RF)\n",
        "plt.show()\n",
        "plt.title('auc RF')\n",
        "seaborn.boxplot(y='auc', x='set', data=results_RF)\n",
        "plt.show()\n",
        "plt.title('accuracy RF')\n",
        "results_acc_RF = pd.DataFrame(results_acc_RF)\n",
        "seaborn.boxplot(y='acc', x='set', data=results_acc_RF)\n",
        "\n",
        "# Create voting results dataframe and plot it\n",
        "results_vote = pd.DataFrame(results_vote)\n",
        "plt.show()\n",
        "plt.title('auc voting')\n",
        "seaborn.boxplot(y='auc', x='set', data=results_vote)\n",
        "plt.show()\n",
        "plt.title('accuracy voting')\n",
        "results_acc_vote = pd.DataFrame(results_acc_vote)\n",
        "seaborn.boxplot(y='acc', x='set', data=results_acc_vote)\n",
        "\n",
        "\n",
        "# optimal_n_tree = (np.mean(Best_n_trees))\n",
        "# print(f\"The optimal number of trees={optimal_n_tree:.1f}\")\n",
        "# optimal_bootstrap = (most_frequent(Best_Bootstrapping))\n",
        "# print(f\"The optimal bootstrap={optimal_bootstrap}\")\n",
        "# optimal_criterion = (most_frequent(Best_criterion)) \n",
        "# print(f\"The optimal criterion={optimal_criterion}\")\n",
        "# optimal_max_depth = (np.mean(Best_max_depth))\n",
        "# print(f\"The optimal max depth={optimal_max_depth:.1f}\")\n",
        "# optimal_min_samples_split = (np.mean(Best_min_samples_split))\n",
        "# print(f\"The optimal min samples split={optimal_min_samples_split:.1f}\")\n",
        "# optimal_min_samples_leaf = (np.mean(Best_min_samples_leaf))\n",
        "# print(f\"The optimal min samples leaf={optimal_min_samples_leaf:.1f}\")\n",
        "\n",
        "# grid_RF = RandomForestClassifier(n_estimators=int(round(optimal_n_tree)), \n",
        "#                               bootstrap=optimal_bootstrap, \n",
        "#                               criterion=optimal_criterion, \n",
        "#                               max_depth=int(round(optimal_max_depth)), \n",
        "#                               min_samples_split=int(round(optimal_min_samples_split)), \n",
        "#                               min_samples_leaf=int(round(optimal_min_samples_leaf)))\n",
        "\n",
        "# # fitting the model for grid search \n",
        "# clf_RF = grid_RF.fit(X_train_pca, Y_train) \n",
        "\n",
        "\n",
        "\n",
        "#clf_vote = VotingClassifier(\n",
        "#    estimators=[clf_kNN(), clf_SVM(), clf_RF()],\n",
        "#    voting='soft')\n",
        "\n",
        "# print(classification_report(Y_test, clf_vote.predict(X_test_pca)))\n",
        "# #y_pred = clf_RF.predict(X_test_pca)\n",
        "# print(clf_vote.score(X_test_pca, Y_test))"
      ],
      "execution_count": 0,
      "outputs": [
        {
          "output_type": "stream",
          "text": [
            "        auc       acc  leaf_size  p  n_neigbors\n",
            "0  0.869255  0.824818         24  1          28\n",
            "1  0.786814  0.773723         28  1          18\n",
            "2  0.895136  0.729927         19  1          25\n",
            "3  0.826528  0.759124         49  1          20\n",
            "4  0.917254  0.830882         31  1          26\n"
          ],
          "name": "stdout"
        },
        {
          "output_type": "display_data",
          "data": {
            "image/png": "[encoded data removed]",
            "text/plain": [
              "<Figure size 432x288 with 1 Axes>"
            ]
          },
          "metadata": {
            "tags": []
          }
        },
        {
          "output_type": "display_data",
          "data": {
            "image/png": "[encoded data removed]",
            "text/plain": [
              "<Figure size 432x288 with 1 Axes>"
            ]
          },
          "metadata": {
            "tags": []
          }
        },
        {
          "output_type": "display_data",
          "data": {
            "image/png": "[encoded data removed]",
            "text/plain": [
              "<Figure size 432x288 with 1 Axes>"
            ]
          },
          "metadata": {
            "tags": []
          }
        },
        {
          "output_type": "display_data",
          "data": {
            "image/png": "[encoded data removed]",
            "text/plain": [
              "<Figure size 432x288 with 1 Axes>"
            ]
          },
          "metadata": {
            "tags": []
          }
        },
        {
          "output_type": "display_data",
          "data": {
            "image/png": "[encoded data removed]",
            "text/plain": [
              "<Figure size 432x288 with 1 Axes>"
            ]
          },
          "metadata": {
            "tags": []
          }
        },
        {
          "output_type": "display_data",
          "data": {
            "image/png": "[encoded data removed]",
            "text/plain": [
              "<Figure size 432x288 with 1 Axes>"
            ]
          },
          "metadata": {
            "tags": []
          }
        },
        {
          "output_type": "display_data",
          "data": {
            "image/png": "[encoded data removed]",
            "text/plain": [
              "<Figure size 432x288 with 1 Axes>"
            ]
          },
          "metadata": {
            "tags": []
          }
        },
        {
          "output_type": "execute_result",
          "data": {
            "text/plain": [
              "<matplotlib.axes._subplots.AxesSubplot at 0x7f9305d1ff98>"
            ]
          },
          "metadata": {
            "tags": []
          },
          "execution_count": 15
        },
        {
          "output_type": "display_data",
          "data": {
            "image/png": "[encoded data removed]",
            "text/plain": [
              "<Figure size 432x288 with 1 Axes>"
            ]
          },
          "metadata": {
            "tags": []
          }
        }
      ]
    },
    {
      "cell_type": "markdown",
      "metadata": {
        "id": "lJcZNjPhdgF_",
        "colab_type": "text"
      },
      "source": [
        ""
      ]
    },
    {
      "cell_type": "code",
      "metadata": {
        "id": "HyM6zuc44j3J",
        "colab_type": "code",
        "outputId": "343d75ca-98a7-4bc3-b8ab-854b36154f85",
        "colab": {
          "base_uri": "https://localhost:8080/",
          "height": 34
        }
      },
      "source": [
        "cv_20fold = model_selection.StratifiedKFold(n_splits=20)\n",
        "print (cv_20fold)"
      ],
      "execution_count": 0,
      "outputs": [
        {
          "output_type": "stream",
          "text": [
            "StratifiedKFold(n_splits=20, random_state=None, shuffle=False)\n"
          ],
          "name": "stdout"
        }
      ]
    }
  ]
}