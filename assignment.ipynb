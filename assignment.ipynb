{
  "nbformat": 4,
  "nbformat_minor": 0,
  "metadata": {
    "colab": {
      "name": "assignment.ipynb",
      "provenance": [],
      "collapsed_sections": []
    },
    "kernelspec": {
      "display_name": "Python 3",
      "language": "python",
      "name": "python3"
    },
    "language_info": {
      "codemirror_mode": {
        "name": "ipython",
        "version": 3
      },
      "file_extension": ".py",
      "mimetype": "text/x-python",
      "name": "python",
      "nbconvert_exporter": "python",
      "pygments_lexer": "ipython3",
      "version": "3.7.4"
    }
  },
  "cells": [
    {
      "cell_type": "markdown",
      "metadata": {
        "colab_type": "text",
        "id": "7SXpaKwwGe5x"
      },
      "source": [
        "# TM10007 Assignment Group 5"
      ]
    },
    {
      "cell_type": "markdown",
      "metadata": {
        "id": "0nMZZV417dWs",
        "colab_type": "text"
      },
      "source": [
        ""
      ]
    },
    {
      "cell_type": "code",
      "metadata": {
        "colab_type": "code",
        "id": "CiDn2Sk-VWqE",
        "outputId": "96a64fb4-6f6e-418a-9b7b-d596e2ee48b7",
        "colab": {
          "base_uri": "https://localhost:8080/",
          "height": 317
        }
      },
      "source": [
        "# Run this to use from colab environment\n",
        "!pip install -q --upgrade git+https://github.com/annawalstra/tm10007_Group5.git\n",
        "!pip install simpleITK"
      ],
      "execution_count": 2,
      "outputs": [
        {
          "output_type": "stream",
          "text": [
            "  Building wheel for brats (setup.py) ... \u001b[?25l\u001b[?25hdone\n",
            "Collecting simpleITK\n",
            "\u001b[?25l  Downloading https://files.pythonhosted.org/packages/f8/d8/53338c34f71020725ffb3557846c80af96c29c03bc883551a2565aa68a7c/SimpleITK-1.2.4-cp36-cp36m-manylinux1_x86_64.whl (42.5MB)\n",
            "\u001b[K     |████████████████████████████████| 42.5MB 90kB/s \n",
            "\u001b[?25hInstalling collected packages: simpleITK\n",
            "Successfully installed simpleITK-1.2.4\n"
          ],
          "name": "stdout"
        }
      ]
    },
    {
      "cell_type": "markdown",
      "metadata": {
        "id": "WK9m4YpjyWu6",
        "colab_type": "text"
      },
      "source": [
        "## Data loading and cleaning\n",
        "\n",
        "Below are functions to load the dataset of your choice. After that, it is all up to you to create and evaluate a classification method. Beware, there may be missing values in these datasets. Good luck!"
      ]
    },
    {
      "cell_type": "code",
      "metadata": {
        "colab_type": "code",
        "id": "-NE_fTbKGe5z",
        "outputId": "b3fabaff-8769-47ec-9052-f1a54bfa00ab",
        "colab": {
          "base_uri": "https://localhost:8080/",
          "height": 862
        }
      },
      "source": [
        "# General packages\n",
        "import numpy as np \n",
        "import pandas as pd\n",
        "import matplotlib.pyplot as plt\n",
        "from sklearn import datasets as ds\n",
        "import seaborn\n",
        "\n",
        "\n",
        "# Classifiers\n",
        "from sklearn import model_selection\n",
        "from sklearn import metrics\n",
        "from sklearn import feature_selection \n",
        "from sklearn import preprocessing\n",
        "from sklearn import neighbors\n",
        "from sklearn import svm\n",
        "from sklearn import decomposition\n",
        "from sklearn.model_selection import RandomizedSearchCV\n",
        "from scipy.stats import reciprocal, uniform\n",
        "\n",
        "# Classifiers and kernels\n",
        "from sklearn.neighbors import KNeighborsClassifier\n",
        "from sklearn.ensemble import RandomForestClassifier\n",
        "from sklearn.svm import SVC\n",
        "from sklearn.decomposition import PCA, KernelPCA\n",
        "from sklearn.kernel_approximation import RBFSampler\n",
        "from sklearn.metrics.pairwise import rbf_kernel, sigmoid_kernel\n",
        "\n",
        "# Too learn more about metrics see: https://scikit-learn.org/stable/modules/model_evaluation.html#scoring-parameter\n",
        "\n",
        "# Data loading functions. Uncomment the one you want to use\n",
        "from adni.load_data import load_data\n",
        "data = load_data()\n",
        "print(f'The number of spamples: {len(data.index)}')\n",
        "print(f'The number of columns: {len(data.columns)}')\n",
        "\n",
        "# Creating X and Y \n",
        "X = data.loc[:, data.columns != 'label']\n",
        "Y = data['label']\n",
        "\n",
        "# Preprocessing: deleting features with only zeros\n",
        "X = X.loc[:, (X != 0).any(axis=0)]\n",
        "# print(f'The number of spamples: {len(X.index)}')\n",
        "# print(f'The number of columns: {len(X.columns)}')\n",
        "\n",
        "# Binarize Y labels\n",
        "y_bin = preprocessing.label_binarize(Y, ['CN','AD'])\n",
        "y_bin = [i[0] for i in y_bin]\n",
        "#print(y_bin)\n",
        "\n",
        "# Split the dataset in train and test part\n",
        "X_train, X_test, Y_train, Y_test = model_selection.train_test_split(X, y_bin, test_size=0.2, stratify=y_bin)\n",
        "\n",
        "\n",
        "# Scale the data \n",
        "scaler = preprocessing.StandardScaler()\n",
        "scaler.fit(X_train)\n",
        "X_train_scaled = scaler.transform(X_train)\n",
        "X_test_scaled = scaler.transform(X_test)\n",
        "\n",
        "\n",
        "#Fitting the PCA algorithm with our Data\n",
        "from sklearn.decomposition import PCA\n",
        "\n",
        "pca = PCA().fit(X_train_scaled)\n",
        "#Plotting the Cumulative Summation of the Explained Variance\n",
        "plt.figure()\n",
        "plt.plot(np.cumsum(pca.explained_variance_ratio_))\n",
        "plt.xlabel('Number of Components')\n",
        "plt.ylabel('Variance (%)') #for each component\n",
        "plt.title('Dataset Explained Variance')\n",
        "plt.show()\n",
        "\n",
        "\n",
        "# Perform a PCA\n",
        "pca = decomposition.PCA(n_components=50)\n",
        "pca.fit(X_train_scaled)\n",
        "X_train_pca = pca.transform(X_train_scaled)\n",
        "X_test_pca = pca.transform(X_test_scaled)\n",
        "\n",
        "# # Use the selectfrommodel module: L1 Select all features with a weight above the median.\n",
        "# from sklearn.feature_selection import SelectFromModel\n",
        "# from sklearn.linear_model import Lasso, RidgeClassifier\n",
        "# selector = SelectFromModel(estimator=Lasso(alpha=10**(-5)), threshold='median')\n",
        "# selector.fit(X_train_scaled, Y_train)\n",
        "# n_original = X_train_scaled.shape[1]\n",
        "# X_train_L1 = selector.transform(X_train_scaled)\n",
        "# X_test_L1 = selector.transform(X_test_scaled)\n",
        "# n_selected = X_train_L1.shape[1]\n",
        "# print(f\"Selected {n_selected} from {n_original} features.\")\n",
        "\n",
        "#Plot first feature PCA\n",
        "fig = plt.figure(figsize=(24,8))\n",
        "ax = fig.add_subplot(131)\n",
        "ax.set_title(\"PCA\", fontsize='small')\n",
        "ax.scatter(X_train_pca[:, 0], X_train_pca[:, 1], marker='o', c=Y_train,\n",
        "            s=25, edgecolor='k', cmap=plt.cm.Paired)\n",
        "\n",
        "\n",
        "# #Plot first feature L1 selection\n",
        "#fig = plt.figure(figsize=(24,8))\n",
        "#ax = fig.add_subplot(132)\n",
        "#ax.set_title(\"L1\", fontsize='small')\n",
        "#ax.scatter(X_train_L1[:, 0], X_train_L1[:, 1], marker='o', c=Y_train,\n",
        "        #     s=25, edgecolor='k', cmap=plt.cm.Paired)\n",
        "\n",
        "\n",
        "# Crossvalidation for parameter tuning\n",
        "cv_10fold = model_selection.StratifiedKFold(n_splits=10)"
      ],
      "execution_count": 3,
      "outputs": [
        {
          "output_type": "stream",
          "text": [
            "/usr/local/lib/python3.6/dist-packages/statsmodels/tools/_testing.py:19: FutureWarning: pandas.util.testing is deprecated. Use the functions in the public API at pandas.testing instead.\n",
            "  import pandas.util.testing as tm\n"
          ],
          "name": "stderr"
        },
        {
          "output_type": "stream",
          "text": [
            "The number of spamples: 855\n",
            "The number of columns: 268\n"
          ],
          "name": "stdout"
        },
        {
          "output_type": "display_data",
          "data": {
            "image/png": "[encoded data removed]",
            "text/plain": [
              "<Figure size 432x288 with 1 Axes>"
            ]
          },
          "metadata": {
            "tags": []
          }
        },
        {
          "output_type": "display_data",
          "data": {
            "image/png": "[encoded data removed]",
            "text/plain": [
              "<Figure size 1728x576 with 1 Axes>"
            ]
          },
          "metadata": {
            "tags": []
          }
        }
      ]
    },
    {
      "cell_type": "markdown",
      "metadata": {
        "id": "SgtMEyyJb6BZ",
        "colab_type": "text"
      },
      "source": [
        "## KNN Classifier\n",
        "\n",
        "Vraag: met grid_search.best_estimator_ krijg ik als het beste resultaat k=33, maar als ik k=25 invul krijg ik een hoger resultaat voor test en train. \n",
        "\n",
        "vgm snap ik dit nu wel...Soms grid_search.best_estimator_ ander resultaat voor beste k dan clf.n_neigbors\n"
      ]
    },
    {
      "cell_type": "code",
      "metadata": {
        "id": "6N-xw5GccCNu",
        "colab_type": "code",
        "outputId": "75e39a41-0373-40cb-fe63-ce1a19e62bec",
        "colab": {
          "base_uri": "https://localhost:8080/",
          "height": 425
        }
      },
      "source": [
        "# # Create a grid search to find the optimal k using a gridsearch and 10-fold cross validation\n",
        "# # Specify the classifier\n",
        "# knn = neighbors.KNeighborsClassifier()\n",
        "# parameters = {\"n_neighbors\": list(range(1, 51, 2))}\n",
        "# cv_10fold = model_selection.StratifiedKFold(n_splits=10)\n",
        "# grid_search = model_selection.GridSearchCV(knn, parameters, cv=cv_10fold, scoring='accuracy')\n",
        "# grid_search.fit(X_train_pca, Y_train)\n",
        "# # Show the complete results of the cross validation\n",
        "# display(pd.DataFrame(grid_search.cv_results_))\n",
        "\n",
        "\n",
        "# # # Fit kNN\n",
        "# # Get resulting classifier\n",
        "# print(grid_search.best_estimator_)\n",
        "# #print(f'Best classifier: k={clf.n_neighbors}')\n",
        "# clf = neighbors.KNeighborsClassifier(n_neighbors=21)\n",
        "# clf.fit(X_train_pca, Y_train)\n",
        "# score_train = clf.score(X_train_pca, Y_train)\n",
        "# score_test = clf.score(X_test_pca, Y_test)\n",
        "\n",
        "# # Get the accuracy\n",
        "# y_pred = clf.predict(X_train_pca)\n",
        "# acc_train=metrics.accuracy_score(Y_train, y_pred)\n",
        "# y_pred = clf.predict(X_test_pca)\n",
        "# acc_test=metrics.accuracy_score(Y_test, y_pred)\n",
        "\n",
        "# # Print result\n",
        "# print(f\"Training result: {score_train}\")\n",
        "# print(f\"Test result: {score_test}\")\n",
        "# print(f\"Accuracy:\")\n",
        "# print(f\"Training result: {acc_train}\")\n",
        "# print(f\"Test result: {acc_test}\")\n",
        "\n",
        "\n",
        "#List Hyperparameters that we want to tune.\n",
        "leaf_size = list(range(1,50))\n",
        "n_neighbors = list(range(1,50))\n",
        "p=[1,2]\n",
        "#Convert to dictionary\n",
        "hyperparameters = dict(n_neighbors=n_neighbors,leaf_size=leaf_size, p=p)\n",
        "#Create new KNN object\n",
        "knn_2 = neighbors.KNeighborsClassifier()\n",
        "#Use GridSearch\n",
        "#cv_10fold = model_selection.StratifiedKFold(n_splits=10)\n",
        "random_search = model_selection.RandomizedSearchCV(knn_2, hyperparameters, cv=cv_10fold)\n",
        "\n",
        "#Fit the model\n",
        "best_model = random_search.fit(X_train_pca,Y_train)\n",
        "clf = random_search.best_estimator_\n",
        "\n",
        "#Print The value of best Hyperparameters\n",
        "print('Best leaf_size:', best_model.best_estimator_.get_params()['leaf_size'])\n",
        "print('Best p:', best_model.best_estimator_.get_params()['p'])\n",
        "print('Best n_neighbors:', best_model.best_estimator_.get_params()['n_neighbors'])\n",
        "print(clf)\n",
        "\n",
        "# Test train\n",
        "from sklearn.metrics import classification_report\n",
        "y_pred_train = clf.predict(X_train_pca)\n",
        "print(classification_report(Y_train, y_pred_train))\n",
        "# Test model\n",
        "\n",
        "y_pred = clf.predict(X_test_pca)\n",
        "print(classification_report(Y_test, y_pred))"
      ],
      "execution_count": 4,
      "outputs": [
        {
          "output_type": "stream",
          "text": [
            "Best leaf_size: 42\n",
            "Best p: 2\n",
            "Best n_neighbors: 15\n",
            "KNeighborsClassifier(algorithm='auto', leaf_size=42, metric='minkowski',\n",
            "                     metric_params=None, n_jobs=None, n_neighbors=15, p=2,\n",
            "                     weights='uniform')\n",
            "              precision    recall  f1-score   support\n",
            "\n",
            "           0       0.82      0.69      0.75       269\n",
            "           1       0.82      0.90      0.86       415\n",
            "\n",
            "    accuracy                           0.82       684\n",
            "   macro avg       0.82      0.80      0.80       684\n",
            "weighted avg       0.82      0.82      0.82       684\n",
            "\n",
            "              precision    recall  f1-score   support\n",
            "\n",
            "           0       0.88      0.55      0.68        67\n",
            "           1       0.77      0.95      0.85       104\n",
            "\n",
            "    accuracy                           0.80       171\n",
            "   macro avg       0.82      0.75      0.76       171\n",
            "weighted avg       0.81      0.80      0.78       171\n",
            "\n"
          ],
          "name": "stdout"
        }
      ]
    },
    {
      "cell_type": "markdown",
      "metadata": {
        "id": "CO6550RrcGRd",
        "colab_type": "text"
      },
      "source": [
        "## KNN with Crossvalidation\n"
      ]
    },
    {
      "cell_type": "code",
      "metadata": {
        "id": "1baCzMI2cKVq",
        "colab_type": "code",
        "outputId": "863aaffd-db57-4358-8de5-b257900d26df",
        "colab": {
          "base_uri": "https://localhost:8080/",
          "height": 1000
        }
      },
      "source": [
        "# Create a 20 fold stratified CV iterator\n",
        "cv_20fold = model_selection.StratifiedKFold(n_splits=20)\n",
        "results = []\n",
        "results_acc = []\n",
        "best_n_neighbors = []\n",
        "\n",
        "# Loop over the folds\n",
        "for validation_index, test_index in cv_20fold.split(X_train_pca, Y_train):\n",
        "    # Split the data properly\n",
        "    X_validation = X_train_pca[validation_index]\n",
        "    y_validation = np.array(Y_train)[validation_index]\n",
        "    \n",
        "    X_testKNN = X_train_pca[test_index]\n",
        "    y_testKNN = np.array(Y_train)[test_index]\n",
        "    \n",
        "    # Create a grid search to find the optimal k using a gridsearch and 10-fold cross validation\n",
        "    # Same as above\n",
        "    parameters = {\"n_neighbors\": list(range(1, 26, 2))}\n",
        "    knn = neighbors.KNeighborsClassifier()\n",
        "    cv_10fold = model_selection.StratifiedKFold(n_splits=10)\n",
        "    grid_search = model_selection.GridSearchCV(knn, parameters, cv=cv_10fold, scoring='roc_auc')\n",
        "    grid_search.fit(X_validation, y_validation)\n",
        "    \n",
        "    # Get resulting classifier\n",
        "    clf = grid_search.best_estimator_\n",
        "    print(f'Best classifier: k={clf.n_neighbors}')\n",
        "    best_n_neighbors.append(clf.n_neighbors)\n",
        "    \n",
        "    # Test the classifier on the test data\n",
        "    probabilities = clf.predict_proba(X_testKNN)\n",
        "    scores = probabilities[:, 1]\n",
        "\n",
        "    # Get the accuracy\n",
        "    y_pred = clf.predict(X_validation)\n",
        "    accuracy=metrics.accuracy_score(y_validation, y_pred)\n",
        "    results_acc.append({'acc': accuracy,'set': 'validation'})\n",
        "    y_pred = clf.predict(X_testKNN)\n",
        "    accuracy = metrics.accuracy_score(y_testKNN, y_pred)\n",
        "    results_acc.append({'acc': accuracy,'set': 'test'})\n",
        "    \n",
        "    # Get the auc\n",
        "    auc = metrics.roc_auc_score(y_testKNN, scores)\n",
        "    results.append({'auc': auc,'k': clf.n_neighbors,'set': 'test'})\n",
        "    \n",
        "    # Test the classifier on the validation data\n",
        "    probabilities_validation = clf.predict_proba(X_validation)\n",
        "    scores_validation = probabilities_validation[:, 1]\n",
        "    \n",
        "    # Get the auc\n",
        "    auc_validation = metrics.roc_auc_score(y_validation, scores_validation)\n",
        "    results.append({\n",
        "        'auc': auc_validation,\n",
        "        'k': clf.n_neighbors,\n",
        "        'set': 'validation'\n",
        "    })\n",
        "    \n",
        "# Create results dataframe and plot it\n",
        "results = pd.DataFrame(results)\n",
        "plt.show()\n",
        "seaborn.boxplot(y='auc', x='set', data=results)\n",
        "plt.show()\n",
        "results_acc = pd.DataFrame(results_acc)\n",
        "seaborn.boxplot(y='acc', x='set', data=results_acc)\n",
        "\n",
        "optimal_n = int(np.median(best_n_neighbors))\n",
        "print(f\"The optimal N={optimal_n}\")\n",
        "\n",
        "from sklearn.metrics import classification_report\n",
        "\n",
        "print(classification_report(Y_test, clf.predict(X_test_pca)))\n",
        "#y_pred = clf.predict(X_test_pca)\n",
        "print(clf.score(X_test_pca, Y_test))"
      ],
      "execution_count": 5,
      "outputs": [
        {
          "output_type": "stream",
          "text": [
            "Best classifier: k=13\n",
            "Best classifier: k=19\n",
            "Best classifier: k=13\n",
            "Best classifier: k=17\n",
            "Best classifier: k=21\n",
            "Best classifier: k=23\n",
            "Best classifier: k=23\n",
            "Best classifier: k=21\n",
            "Best classifier: k=23\n",
            "Best classifier: k=23\n",
            "Best classifier: k=21\n",
            "Best classifier: k=25\n",
            "Best classifier: k=21\n",
            "Best classifier: k=23\n",
            "Best classifier: k=25\n",
            "Best classifier: k=23\n",
            "Best classifier: k=23\n",
            "Best classifier: k=25\n",
            "Best classifier: k=23\n",
            "Best classifier: k=23\n"
          ],
          "name": "stdout"
        },
        {
          "output_type": "display_data",
          "data": {
            "image/png": "[encoded data removed]",
            "text/plain": [
              "<Figure size 432x288 with 1 Axes>"
            ]
          },
          "metadata": {
            "tags": []
          }
        },
        {
          "output_type": "stream",
          "text": [
            "The optimal N=23\n",
            "              precision    recall  f1-score   support\n",
            "\n",
            "           0       0.86      0.55      0.67        67\n",
            "           1       0.77      0.94      0.84       104\n",
            "\n",
            "    accuracy                           0.79       171\n",
            "   macro avg       0.81      0.75      0.76       171\n",
            "weighted avg       0.80      0.79      0.78       171\n",
            "\n",
            "0.7894736842105263\n"
          ],
          "name": "stdout"
        },
        {
          "output_type": "display_data",
          "data": {
            "image/png": "[encoded data removed]",
            "text/plain": [
              "<Figure size 432x288 with 1 Axes>"
            ]
          },
          "metadata": {
            "tags": []
          }
        }
      ]
    },
    {
      "cell_type": "markdown",
      "metadata": {
        "id": "r9TA2vNS7f8v",
        "colab_type": "text"
      },
      "source": [
        "# Support Vector Machine (SVM) Classifier \n",
        "\n"
      ]
    },
    {
      "cell_type": "code",
      "metadata": {
        "id": "qH-LQ_iw7I6W",
        "colab_type": "code",
        "colab": {
          "base_uri": "https://localhost:8080/",
          "height": 408
        },
        "outputId": "c73d733f-d098-4811-f0ec-d6036e81fe6e"
      },
      "source": [
        "from sklearn.model_selection import RandomizedSearchCV\n",
        "from sklearn.svm import LinearSVC\n",
        "from sklearn.metrics import classification_report\n",
        " \n",
        "  \n",
        "# defining parameter range \n",
        "param_grid = {'C': [0.01, 0.5, 1],  \n",
        "              'gamma': [1, 0.1, 0.01], \n",
        "              'kernel': ['linear', 'rbf', 'poly'],\n",
        "              'coef0': [0.01, 0.5, 1],\n",
        "              'degree': [1, 3, 5]}  \n",
        "\n",
        "# For now: 3 options for kernels implemented: linear rbf and poly\n",
        "# Other options on kernels:\n",
        "# - sampler, for example: first use RBF sampler, then linear kernel\n",
        "# - manually constructed kernel function?\n",
        "# - precomputed kernel\n",
        "# - sigmoid kernel\n",
        "\n",
        "\n",
        "grid = RandomizedSearchCV(SVC(probability=True), param_grid, refit=True, verbose=False, cv=cv_10fold) \n",
        "  \n",
        "# fitting the model for grid search \n",
        "best_model = grid.fit(X_train_pca, Y_train) \n",
        "clf = grid.best_estimator_\n",
        "\n",
        "\n",
        "print('Best slack parameter C:', grid.best_estimator_.get_params()['C'])\n",
        "print('Best gamma:', grid.best_estimator_.get_params()['gamma'])\n",
        "print('Best kernel:', grid.best_estimator_.get_params()['kernel'])\n",
        "print('Best coef0:', grid.best_estimator_.get_params()['coef0'])\n",
        "print('Best degree:', grid.best_estimator_.get_params()['degree'])\n",
        "\n",
        "# Classification report (training data)\n",
        "y_pred_train = clf.predict(X_train_pca)\n",
        "print(classification_report(Y_train, y_pred_train))\n",
        "\n",
        "# Classification report (test data)\n",
        "y_pred_test = clf.predict(X_test_pca)\n",
        "print(classification_report(Y_test, y_pred_test))\n",
        "\n"
      ],
      "execution_count": 6,
      "outputs": [
        {
          "output_type": "stream",
          "text": [
            "Best slack parameter C: 0.01\n",
            "Best gamma: 0.01\n",
            "Best kernel: linear\n",
            "Best coef0: 1\n",
            "Best degree: 5\n",
            "              precision    recall  f1-score   support\n",
            "\n",
            "           0       0.85      0.76      0.81       269\n",
            "           1       0.86      0.92      0.88       415\n",
            "\n",
            "    accuracy                           0.86       684\n",
            "   macro avg       0.86      0.84      0.85       684\n",
            "weighted avg       0.86      0.86      0.85       684\n",
            "\n",
            "              precision    recall  f1-score   support\n",
            "\n",
            "           0       0.91      0.60      0.72        67\n",
            "           1       0.79      0.96      0.87       104\n",
            "\n",
            "    accuracy                           0.82       171\n",
            "   macro avg       0.85      0.78      0.79       171\n",
            "weighted avg       0.84      0.82      0.81       171\n",
            "\n"
          ],
          "name": "stdout"
        }
      ]
    },
    {
      "cell_type": "markdown",
      "metadata": {
        "id": "qaiieExNS4wO",
        "colab_type": "text"
      },
      "source": [
        "# SVM with cross-validation"
      ]
    },
    {
      "cell_type": "code",
      "metadata": {
        "id": "l1sM65IAS8Uq",
        "colab_type": "code",
        "colab": {
          "base_uri": "https://localhost:8080/",
          "height": 1000
        },
        "outputId": "3d839679-0b02-405b-87fe-520db11c1f68"
      },
      "source": [
        "# Create a 20 fold stratified CV iterator\n",
        "cv_20fold = model_selection.StratifiedKFold(n_splits=20)\n",
        "results = []\n",
        "results_acc = []\n",
        "best_C = []\n",
        "best_gamma = []\n",
        "best_kernel = []\n",
        "best_coef0 = []\n",
        "best_degree = []\n",
        "\n",
        "# Program to find most frequent  \n",
        "# element in a list \n",
        "def most_frequent(List): \n",
        "    return max(set(List), key = List.count) \n",
        "\n",
        "# Loop over the folds\n",
        "for validation_index, test_index in cv_20fold.split(X_train_pca, Y_train):\n",
        "    # Split the data properly\n",
        "    X_validation = X_train_pca[validation_index]\n",
        "    Y_validation = np.array(Y_train)[validation_index]\n",
        "    \n",
        "    X_test_SVM = X_train_pca[test_index]\n",
        "    Y_test_SVM = np.array(Y_train)[test_index]\n",
        "    \n",
        "    \n",
        "    # Same as above\n",
        "    param_grid = {'C': [0.01, 0.5, 1],  \n",
        "              'gamma': [1, 0.1, 0.01], \n",
        "              'kernel': ['linear', 'rbf', 'poly'],\n",
        "              'coef0': [0.01, 0.5, 1],\n",
        "              'degree': [1, 3, 5]}\n",
        "    grid = RandomizedSearchCV(SVC(probability=True), param_grid, refit=True, verbose=False, cv=cv_10fold, scoring='roc_auc')  \n",
        "    best_model = grid.fit(X_validation, Y_validation)\n",
        "\n",
        "    \n",
        "    # Get resulting classifier\n",
        "    clf = grid.best_estimator_\n",
        "    print(f'Best slack parameter: C={clf.C}')\n",
        "    print(f'Best gamma: gamma={clf.gamma}')\n",
        "    print(f'Best kernel: kernel={clf.kernel}')\n",
        "    print(f'Best coef0: coef0={clf.coef0}')\n",
        "    print(f'Best degree: degree={clf.degree}')\n",
        "\n",
        "    best_C.append(clf.C)\n",
        "    best_gamma.append(clf.gamma)\n",
        "    best_kernel.append(clf.kernel)\n",
        "    best_coef0.append(clf.coef0)\n",
        "    best_degree.append(clf.degree)\n",
        "    \n",
        "    # Test the classifier on the test data\n",
        "    probabilities = clf.predict_proba(X_test_SVM)\n",
        "    scores = probabilities[:, 1]\n",
        "\n",
        "    # Get the accuracy\n",
        "    Y_pred = clf.predict(X_validation)\n",
        "    accuracy=metrics.accuracy_score(Y_validation, Y_pred)\n",
        "    results_acc.append({'acc': accuracy,'set': 'validation'})\n",
        "    Y_pred = clf.predict(X_test_SVM)\n",
        "    accuracy = metrics.accuracy_score(Y_test_SVM, Y_pred)\n",
        "    results_acc.append({'acc': accuracy,'set': 'test'})\n",
        "    \n",
        "    # Get the auc\n",
        "    auc = metrics.roc_auc_score(Y_test_SVM, scores)\n",
        "    results.append({'auc': auc,'C': clf.C, 'gamma': clf.gamma, \n",
        "                    'kernel': clf.kernel, 'coef0': clf.coef0, \n",
        "                    'degree': clf.degree,'set': 'test'})\n",
        "    \n",
        "    # Test the classifier on the validation data\n",
        "    probabilities_validation = clf.predict_proba(X_validation)\n",
        "    scores_validation = probabilities_validation[:, 1]\n",
        "    \n",
        "    # Get the auc\n",
        "    auc_validation = metrics.roc_auc_score(Y_validation, scores_validation)\n",
        "    results.append({\n",
        "        'auc': auc_validation,\n",
        "        'C': clf.C,\n",
        "        'gamma': clf.gamma,\n",
        "        'kernel': clf.kernel,\n",
        "        'coef0': clf.coef0,\n",
        "        'degree': clf.degree,\n",
        "        'set': 'validation'\n",
        "    })\n",
        "    \n",
        "# Create results dataframe and plot it\n",
        "results = pd.DataFrame(results)\n",
        "plt.show()\n",
        "seaborn.boxplot(y='auc', x='set', data=results)\n",
        "plt.show()\n",
        "results_acc = pd.DataFrame(results_acc)\n",
        "seaborn.boxplot(y='acc', x='set', data=results_acc)\n",
        "\n",
        "optimal_C = (np.mean(best_C))\n",
        "print(f\"The optimal C={optimal_C:.1f}\")\n",
        "optimal_gamma = (np.mean(best_gamma))\n",
        "print(f\"The optimal gamma={optimal_gamma:.1f}\")\n",
        "optimal_kernel = (most_frequent(best_kernel)) \n",
        "print(f\"The optimal kernel={optimal_kernel}\")\n",
        "optimal_coef0 = (np.mean(best_coef0))\n",
        "print(f\"The optimal coef0={optimal_coef0:.1f}\")\n",
        "optimal_degree = (np.mean(best_degree))\n",
        "print(f\"The optimal degree={optimal_degree:.1f}\")\n",
        "\n",
        "grid = SVC(C=round(optimal_C,1), gamma=round(optimal_gamma,1), kernel=optimal_kernel,\n",
        "          coef0=round(optimal_coef0,1), degree=round(optimal_degree,1))\n",
        "\n",
        "# fitting the model for grid search \n",
        "clf = grid.fit(X_train_pca, Y_train) \n",
        "\n",
        "from sklearn.metrics import classification_report\n",
        "\n",
        "print(classification_report(Y_test, clf.predict(X_test_pca)))\n",
        "#y_pred = clf.predict(X_test_pca)\n",
        "print(clf.score(X_test_pca, Y_test))\n"
      ],
      "execution_count": 7,
      "outputs": [
        {
          "output_type": "stream",
          "text": [
            "Best slack parameter: C=0.01\n",
            "Best gamma: gamma=1\n",
            "Best kernel: kernel=linear\n",
            "Best coef0: coef0=1\n",
            "Best degree: degree=5\n",
            "Best slack parameter: C=1\n",
            "Best gamma: gamma=0.01\n",
            "Best kernel: kernel=poly\n",
            "Best coef0: coef0=0.5\n",
            "Best degree: degree=1\n",
            "Best slack parameter: C=1\n",
            "Best gamma: gamma=0.1\n",
            "Best kernel: kernel=linear\n",
            "Best coef0: coef0=0.01\n",
            "Best degree: degree=3\n",
            "Best slack parameter: C=0.01\n",
            "Best gamma: gamma=0.1\n",
            "Best kernel: kernel=linear\n",
            "Best coef0: coef0=0.01\n",
            "Best degree: degree=3\n",
            "Best slack parameter: C=0.01\n",
            "Best gamma: gamma=0.1\n",
            "Best kernel: kernel=linear\n",
            "Best coef0: coef0=0.01\n",
            "Best degree: degree=3\n",
            "Best slack parameter: C=0.01\n",
            "Best gamma: gamma=0.01\n",
            "Best kernel: kernel=linear\n",
            "Best coef0: coef0=0.01\n",
            "Best degree: degree=5\n",
            "Best slack parameter: C=0.01\n",
            "Best gamma: gamma=0.01\n",
            "Best kernel: kernel=linear\n",
            "Best coef0: coef0=0.5\n",
            "Best degree: degree=3\n",
            "Best slack parameter: C=0.01\n",
            "Best gamma: gamma=1\n",
            "Best kernel: kernel=linear\n",
            "Best coef0: coef0=0.01\n",
            "Best degree: degree=3\n",
            "Best slack parameter: C=0.01\n",
            "Best gamma: gamma=0.1\n",
            "Best kernel: kernel=linear\n",
            "Best coef0: coef0=1\n",
            "Best degree: degree=3\n",
            "Best slack parameter: C=0.01\n",
            "Best gamma: gamma=0.1\n",
            "Best kernel: kernel=linear\n",
            "Best coef0: coef0=0.01\n",
            "Best degree: degree=1\n",
            "Best slack parameter: C=0.01\n",
            "Best gamma: gamma=0.1\n",
            "Best kernel: kernel=linear\n",
            "Best coef0: coef0=0.01\n",
            "Best degree: degree=5\n",
            "Best slack parameter: C=1\n",
            "Best gamma: gamma=0.01\n",
            "Best kernel: kernel=poly\n",
            "Best coef0: coef0=0.5\n",
            "Best degree: degree=1\n",
            "Best slack parameter: C=0.01\n",
            "Best gamma: gamma=1\n",
            "Best kernel: kernel=linear\n",
            "Best coef0: coef0=0.01\n",
            "Best degree: degree=5\n",
            "Best slack parameter: C=0.5\n",
            "Best gamma: gamma=0.1\n",
            "Best kernel: kernel=linear\n",
            "Best coef0: coef0=1\n",
            "Best degree: degree=1\n",
            "Best slack parameter: C=0.01\n",
            "Best gamma: gamma=0.1\n",
            "Best kernel: kernel=linear\n",
            "Best coef0: coef0=0.01\n",
            "Best degree: degree=5\n",
            "Best slack parameter: C=0.5\n",
            "Best gamma: gamma=0.01\n",
            "Best kernel: kernel=poly\n",
            "Best coef0: coef0=1\n",
            "Best degree: degree=1\n",
            "Best slack parameter: C=0.01\n",
            "Best gamma: gamma=1\n",
            "Best kernel: kernel=linear\n",
            "Best coef0: coef0=0.5\n",
            "Best degree: degree=5\n",
            "Best slack parameter: C=0.01\n",
            "Best gamma: gamma=0.01\n",
            "Best kernel: kernel=linear\n",
            "Best coef0: coef0=1\n",
            "Best degree: degree=1\n",
            "Best slack parameter: C=0.5\n",
            "Best gamma: gamma=0.01\n",
            "Best kernel: kernel=poly\n",
            "Best coef0: coef0=0.5\n",
            "Best degree: degree=1\n",
            "Best slack parameter: C=0.5\n",
            "Best gamma: gamma=0.1\n",
            "Best kernel: kernel=poly\n",
            "Best coef0: coef0=0.5\n",
            "Best degree: degree=1\n"
          ],
          "name": "stdout"
        },
        {
          "output_type": "display_data",
          "data": {
            "image/png": "[encoded data removed]",
            "text/plain": [
              "<Figure size 432x288 with 1 Axes>"
            ]
          },
          "metadata": {
            "tags": []
          }
        },
        {
          "output_type": "stream",
          "text": [
            "The optimal C=0.3\n",
            "The optimal gamma=0.2\n",
            "The optimal kernel=linear\n",
            "The optimal coef0=0.4\n",
            "The optimal degree=2.8\n",
            "              precision    recall  f1-score   support\n",
            "\n",
            "           0       0.87      0.60      0.71        67\n",
            "           1       0.78      0.94      0.86       104\n",
            "\n",
            "    accuracy                           0.81       171\n",
            "   macro avg       0.83      0.77      0.78       171\n",
            "weighted avg       0.82      0.81      0.80       171\n",
            "\n",
            "0.8070175438596491\n",
            "SVC(C=0.3, break_ties=False, cache_size=200, class_weight=None, coef0=0.4,\n",
            "    decision_function_shape='ovr', degree=2.8, gamma=0.2, kernel='linear',\n",
            "    max_iter=-1, probability=False, random_state=None, shrinking=True,\n",
            "    tol=0.001, verbose=False)\n"
          ],
          "name": "stdout"
        },
        {
          "output_type": "display_data",
          "data": {
            "image/png": "[encoded data removed]",
            "text/plain": [
              "<Figure size 432x288 with 1 Axes>"
            ]
          },
          "metadata": {
            "tags": []
          }
        }
      ]
    },
    {
      "cell_type": "markdown",
      "metadata": {
        "id": "O3VeeVBm_Bbo",
        "colab_type": "text"
      },
      "source": [
        "**Random Forrest Classifier**\n",
        "\n",
        "The Random Forrest Classifier has 19 different hyperparameters:\n",
        "- n_estimators: number of trees (to much --> overfitting)\n",
        "- criterion: How to measure the quality of a split (gini) (tree-specific)\n",
        "- max_depth: depth of the tree\n",
        "- min_samples_split: minimum number of samples required to split an internal node\n",
        "- min_samples_leaf: number of samples required to be at a node\n",
        "- min_weight_fraction_leaf: sum total of the weigths at a node.\n",
        "- max_features: number of features to consider\n",
        "- max_leaf_nodes: \n",
        "- min_impurity_decrease: node will split if impurity decreases with this value\n",
        "- min_impurity_split: A node will split if its impurity is above the threshold, otherwise it is a leaf\n",
        "- bootstrap: use or not (T/F) (To improve accuracy by creating samples)\n",
        "if T --> max_samples: number of samples to train each base estimator\n",
        "- oob_score: use out-of-bag samples\n",
        "- n_jobs: \n",
        "- random_state: \n",
        "- verbose:\n",
        "- warm_start:\n",
        "- class_weight: If one class is more important\n",
        "- ccp_alpha: x\n",
        "\n",
        "--> Misschien toevoegen: een tijd segment om te kijken of het niet te lang duurt\n",
        "\n",
        "\n"
      ]
    },
    {
      "cell_type": "code",
      "metadata": {
        "id": "lkxtQjuq-_i0",
        "colab_type": "code",
        "outputId": "9e04de75-5cf7-44bf-cc5c-178f36cc6975",
        "colab": {
          "base_uri": "https://localhost:8080/",
          "height": 34
        }
      },
      "source": [
        "#Hyperparameters tuning:\n",
        "n_tree = [10,25,50,100]  # n_estimators\n",
        "boot = ['True','False']  # Bootstrapping\n",
        "criterion = ['gini','entropy'] # measure of quality\n",
        "max_depth = [range(5, 16)] # Depth of the tree\n",
        "min_samples_split = [range(2,7)] # prevends overfitting\n",
        "min_samples_leaf = [1,2] # prevends overfitting\n",
        "classweight = [{0: 1, 1: 0.001},{0: 1, 1: 1},\n",
        "               {0: 1, 1: 10},{0: 1, 1: 100}]\n",
        "\n",
        "\n",
        "clsfs = [n_tree, boot, criterion, max_depth, min_samples_split, \n",
        "         min_samples_leaf, classweight]\n",
        "\n",
        "\n",
        "# Y_test = validation set, niet de test set\n",
        "for clf in clsfs:\n",
        "  for hype_par in clf:\n",
        "    for X, Y in zip(Xtrain,Ytrain):\n",
        "      clf.fit(X, Y)\n",
        "      y_pred_train = clf.predict(X_train_pca)\n",
        "      acc_train = metrics.accuracy_score(Y_train, y_pred)\n",
        "      y_pred_test = clf.predict(X_test_pca)\n",
        "      acc_test = metrics.accuracy_score(Y_test, y_pred)\n",
        "      acc_test_clsfs.append(acc_test)\n",
        "    maxpos = acc.index(max(acc_test_clsfs))\n",
        "  # hier moet nog dat het die plek van deze classifier is \n",
        "\n",
        "clsfs_final = [RandomForestClassifier(n_estimators = n_tree(n_tree[maxpos]))]\n",
        "\n",
        "# First make plot without classifiers:\n",
        "num = 0\n",
        "fig = plt.figure(figsize=(24,8*len(clsfs)))\n",
        "for X, Y in zip(Xs, Ys):\n",
        "    ax = fig.add_subplot(7, 3, num + 1)\n",
        "    ax.scatter(X[:, 0], X[:, 1], marker='o', c=Y,\n",
        "        s=25, edgecolor='k', cmap=plt.cm.Paired)\n",
        "    num += 1\n",
        "    \n",
        "# Now use the classifiers on all datasets\n",
        "for clf in clsfs:\n",
        "    for X, Y in zip(Xs, Ys):\n",
        "        clf.fit(X, Y)\n",
        "        ax = fig.add_subplot(7, 3, num + 1)\n",
        "        ax.scatter(X[:, 0], X[:, 1], marker='o', c=Y,\n",
        "            s=25, edgecolor='k', cmap=plt.cm.Paired)\n",
        "        colorplot(clf, ax, X[:, 0], X[:, 1])\n",
        "        y_pred = clf.predict(X)\n",
        "        t = (\"Misclassified: %d / %d\" % ((Y != y_pred).sum(), X.shape[0]))\n",
        "        ax.set_title(t)\n",
        "        num += 1"
      ],
      "execution_count": 0,
      "outputs": [
        {
          "output_type": "stream",
          "text": [
            "False\n"
          ],
          "name": "stdout"
        }
      ]
    },
    {
      "cell_type": "code",
      "metadata": {
        "id": "OF9D8tov5dlz",
        "colab_type": "code",
        "colab": {}
      },
      "source": [
        ""
      ],
      "execution_count": 0,
      "outputs": []
    }
  ]
}